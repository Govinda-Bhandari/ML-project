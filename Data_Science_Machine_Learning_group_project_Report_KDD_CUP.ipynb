{
  "cells": [
    {
      "cell_type": "markdown",
      "metadata": {
        "id": "z1oY2tnRuLWM"
      },
      "source": [
        "### KDD CUP 2012 Data Science Machine Learning final project\n",
        "Search advertising has been one of the major revenue sources of the Internet industry for years. A key technology behind search advertising is to predict the click.\n",
        "\n",
        "* Click - did the user click \n",
        "* DisplayURL - ad url (encoded as huge integer) \n",
        "* AdId - identiﬁer of speciﬁc ad (integer) \n",
        "* AdvertiserId - identiﬁer of speciﬁc advertiser (integer) \n",
        "* Depth - number of ads displayed in a session (1-3) \n",
        "* Position - position of ad in the list of displayed ads \n",
        "* Gender - 1,2 = male/female, 0 = unknown \n",
        "* Age - discretized into 6 intervals \n",
        "\n",
        "Text variables: \n",
        "* AdKeyword tokens - keywords for an ad \n",
        "* AdTitle tokens - title of an ad \n",
        "* AdDescription tokens - description of an add \n",
        "* Query tokens - user query \n",
        "\n",
        "All text variables: list of words separated by | ,each word replaced by an integer for anonymity.\n",
        "### Prepared by:\n",
        "  #### Govinda Bhandari\n",
        "  #### Yiming Liu\n",
        "  #### Zviad Gvilava"
      ]
    },
    {
      "cell_type": "markdown",
      "metadata": {
        "id": "ZpkDNEs6_NnT"
      },
      "source": [
        "### Project Objective\n",
        "* Step 1 - Import the library\n",
        "* Step 2 - Setting up the Data\n",
        "* Step 3 - Exploratory Data Analysis\n",
        "* Step 4 - Handling Tokens (Text Data)\n",
        "* Step 5 - Spliting Data into Training and Testing \n",
        "* Step 6 - Creating features using Correaltion\n",
        "* Step 7 - Handling Imbalance Data\n",
        "* Step 8 - Training the model\n",
        "* Step 9 - Model Validation\n",
        "* Step 10 - Creating Classification Report and Confusion Matrix\n",
        "* Step 11 - Comparision of different Model performance\n"
      ]
    },
    {
      "cell_type": "markdown",
      "metadata": {
        "id": "sCooXKPx33tH"
      },
      "source": [
        "## Step 1: Importing Libraries"
      ]
    },
    {
      "cell_type": "code",
      "execution_count": 3,
      "metadata": {
        "id": "8CwgvjZf30f4"
      },
      "outputs": [],
      "source": [
        "from matplotlib import pyplot as plt\n",
        "import pandas as pd\n",
        "import numpy as np\n",
        "import seaborn as sns\n",
        "from sklearn.model_selection import train_test_split\n",
        "from sklearn.tree import DecisionTreeClassifier\n",
        "from sklearn import tree\n",
        "import graphviz\n",
        "from sklearn.datasets import make_classification\n",
        "from sklearn.model_selection import RepeatedStratifiedKFold\n",
        "from sklearn.model_selection import cross_val_score\n",
        "from numpy import mean\n",
        "from numpy import std\n",
        "from sklearn.model_selection import GridSearchCV\n",
        "from sklearn.model_selection import RandomizedSearchCV\n",
        "from sklearn.model_selection import RepeatedKFold\n",
        "from sklearn.pipeline import Pipeline\n",
        "from sklearn.svm import SVC\n",
        "from sklearn.preprocessing import StandardScaler\n",
        "from sklearn.metrics import roc_auc_score,roc_curve,f1_score\n",
        "from sklearn.neighbors import KNeighborsClassifier\n",
        "from sklearn.ensemble import RandomForestClassifier, ExtraTreesClassifier\n",
        "from xgboost import XGBClassifier\n",
        "from lightgbm import LGBMClassifier\n",
        "from sklearn.model_selection import train_test_split, RandomizedSearchCV, GridSearchCV\n",
        "from sklearn.preprocessing import StandardScaler\n",
        "from sklearn.metrics import accuracy_score\n"
      ]
    },
    {
      "cell_type": "markdown",
      "metadata": {
        "id": "JIouS8RJ6MjH"
      },
      "source": [
        "## Step 2: Setting up the Data\n",
        "### Mounting Drive"
      ]
    },
    {
      "cell_type": "code",
      "execution_count": 4,
      "metadata": {
        "colab": {
          "base_uri": "https://localhost:8080/"
        },
        "id": "YxkE3bxP1AIG",
        "outputId": "c2bf9f39-c6e4-429b-e67c-325c876280b0"
      },
      "outputs": [
        {
          "output_type": "stream",
          "name": "stdout",
          "text": [
            "Mounted at /content/gdrive\n"
          ]
        }
      ],
      "source": [
        "from google.colab import drive\n",
        "\n",
        "drive.mount('/content/gdrive')"
      ]
    },
    {
      "cell_type": "code",
      "execution_count": null,
      "metadata": {
        "id": "dkuxsJBr6fHP"
      },
      "outputs": [],
      "source": [
        ""
      ]
    },
    {
      "cell_type": "code",
      "execution_count": 5,
      "metadata": {
        "colab": {
          "base_uri": "https://localhost:8080/"
        },
        "id": "JmwsRlrpuLWW",
        "outputId": "47ebdb43-31d7-4479-9795-985bf56a4f7e"
      },
      "outputs": [
        {
          "output_type": "execute_result",
          "data": {
            "text/plain": [
              "(4000000, 13)"
            ]
          },
          "metadata": {},
          "execution_count": 5
        }
      ],
      "source": [
        "fname = \"./gdrive/MyDrive/Copy of KDD_train.csv\"\n",
        "import pandas as pd\n",
        "data = pd.read_csv(fname)\n",
        "data.shape"
      ]
    },
    {
      "cell_type": "code",
      "execution_count": 6,
      "metadata": {
        "colab": {
          "base_uri": "https://localhost:8080/",
          "height": 270
        },
        "id": "pOHB3Fw0uLWY",
        "outputId": "34baa328-85fd-4617-ed97-77277b623403"
      },
      "outputs": [
        {
          "output_type": "execute_result",
          "data": {
            "text/plain": [
              "        ID  Click            DisplayURL      AdId  AdvertiserId  Depth  \\\n",
              "0  3585022      1   5079901068051390251   4261847         25928      2   \n",
              "1  3072980      0  12575528779388759460   3112706         23778      2   \n",
              "2  1385459      0   2412771796110463309  20067154         23781      3   \n",
              "3  1241189      0  14340390157469404125  10110402         23808      1   \n",
              "4  2949285      0   9573487645018952575   1918047          1339      2   \n",
              "\n",
              "   Position  Gender  Age AdKeyword_tokens  \\\n",
              "0         2       2    6         53|225|6   \n",
              "1         1       2    3         3624|395   \n",
              "2         3       1    2       1545|75|31   \n",
              "3         1       2    4          366|270   \n",
              "4         2       2    3    2219|2323|600   \n",
              "\n",
              "                                      AdTitle_tokens  \\\n",
              "0                          53|225|6|739|1590|221|394   \n",
              "1                                     3683|1683|3155   \n",
              "2  35|2233|1545|75|31|172|46|467|170|2233|58052|1...   \n",
              "3                 69|366|270|1|37|1270|1|466|164|616   \n",
              "4                 2219|2323|600|0|11|207|3073|2680|3   \n",
              "\n",
              "                                AdDescription_tokens   Query_tokens  \n",
              "0            176|881|3|53|225|6|1|739|1590|221|394|3      225|105|6  \n",
              "1  3683|1683|3155|1|2367|69|1683|3803|728|8484|26...  395|3051|1990  \n",
              "2  172|46|467|170|5634|5112|40|155|1965|834|21|41...     1545|75|31  \n",
              "3  1671|771|111|187|1|1170|33|2357|119|1|16457|99...   366|0|270|17  \n",
              "4  36|2219|2323|600|1|37|1460|872|6|3|169|207|130...  2219|30|600|6  "
            ],
            "text/html": [
              "\n",
              "  <div id=\"df-0fe08c12-0d51-4859-b631-6b97e0e72bfd\">\n",
              "    <div class=\"colab-df-container\">\n",
              "      <div>\n",
              "<style scoped>\n",
              "    .dataframe tbody tr th:only-of-type {\n",
              "        vertical-align: middle;\n",
              "    }\n",
              "\n",
              "    .dataframe tbody tr th {\n",
              "        vertical-align: top;\n",
              "    }\n",
              "\n",
              "    .dataframe thead th {\n",
              "        text-align: right;\n",
              "    }\n",
              "</style>\n",
              "<table border=\"1\" class=\"dataframe\">\n",
              "  <thead>\n",
              "    <tr style=\"text-align: right;\">\n",
              "      <th></th>\n",
              "      <th>ID</th>\n",
              "      <th>Click</th>\n",
              "      <th>DisplayURL</th>\n",
              "      <th>AdId</th>\n",
              "      <th>AdvertiserId</th>\n",
              "      <th>Depth</th>\n",
              "      <th>Position</th>\n",
              "      <th>Gender</th>\n",
              "      <th>Age</th>\n",
              "      <th>AdKeyword_tokens</th>\n",
              "      <th>AdTitle_tokens</th>\n",
              "      <th>AdDescription_tokens</th>\n",
              "      <th>Query_tokens</th>\n",
              "    </tr>\n",
              "  </thead>\n",
              "  <tbody>\n",
              "    <tr>\n",
              "      <th>0</th>\n",
              "      <td>3585022</td>\n",
              "      <td>1</td>\n",
              "      <td>5079901068051390251</td>\n",
              "      <td>4261847</td>\n",
              "      <td>25928</td>\n",
              "      <td>2</td>\n",
              "      <td>2</td>\n",
              "      <td>2</td>\n",
              "      <td>6</td>\n",
              "      <td>53|225|6</td>\n",
              "      <td>53|225|6|739|1590|221|394</td>\n",
              "      <td>176|881|3|53|225|6|1|739|1590|221|394|3</td>\n",
              "      <td>225|105|6</td>\n",
              "    </tr>\n",
              "    <tr>\n",
              "      <th>1</th>\n",
              "      <td>3072980</td>\n",
              "      <td>0</td>\n",
              "      <td>12575528779388759460</td>\n",
              "      <td>3112706</td>\n",
              "      <td>23778</td>\n",
              "      <td>2</td>\n",
              "      <td>1</td>\n",
              "      <td>2</td>\n",
              "      <td>3</td>\n",
              "      <td>3624|395</td>\n",
              "      <td>3683|1683|3155</td>\n",
              "      <td>3683|1683|3155|1|2367|69|1683|3803|728|8484|26...</td>\n",
              "      <td>395|3051|1990</td>\n",
              "    </tr>\n",
              "    <tr>\n",
              "      <th>2</th>\n",
              "      <td>1385459</td>\n",
              "      <td>0</td>\n",
              "      <td>2412771796110463309</td>\n",
              "      <td>20067154</td>\n",
              "      <td>23781</td>\n",
              "      <td>3</td>\n",
              "      <td>3</td>\n",
              "      <td>1</td>\n",
              "      <td>2</td>\n",
              "      <td>1545|75|31</td>\n",
              "      <td>35|2233|1545|75|31|172|46|467|170|2233|58052|1...</td>\n",
              "      <td>172|46|467|170|5634|5112|40|155|1965|834|21|41...</td>\n",
              "      <td>1545|75|31</td>\n",
              "    </tr>\n",
              "    <tr>\n",
              "      <th>3</th>\n",
              "      <td>1241189</td>\n",
              "      <td>0</td>\n",
              "      <td>14340390157469404125</td>\n",
              "      <td>10110402</td>\n",
              "      <td>23808</td>\n",
              "      <td>1</td>\n",
              "      <td>1</td>\n",
              "      <td>2</td>\n",
              "      <td>4</td>\n",
              "      <td>366|270</td>\n",
              "      <td>69|366|270|1|37|1270|1|466|164|616</td>\n",
              "      <td>1671|771|111|187|1|1170|33|2357|119|1|16457|99...</td>\n",
              "      <td>366|0|270|17</td>\n",
              "    </tr>\n",
              "    <tr>\n",
              "      <th>4</th>\n",
              "      <td>2949285</td>\n",
              "      <td>0</td>\n",
              "      <td>9573487645018952575</td>\n",
              "      <td>1918047</td>\n",
              "      <td>1339</td>\n",
              "      <td>2</td>\n",
              "      <td>2</td>\n",
              "      <td>2</td>\n",
              "      <td>3</td>\n",
              "      <td>2219|2323|600</td>\n",
              "      <td>2219|2323|600|0|11|207|3073|2680|3</td>\n",
              "      <td>36|2219|2323|600|1|37|1460|872|6|3|169|207|130...</td>\n",
              "      <td>2219|30|600|6</td>\n",
              "    </tr>\n",
              "  </tbody>\n",
              "</table>\n",
              "</div>\n",
              "      <button class=\"colab-df-convert\" onclick=\"convertToInteractive('df-0fe08c12-0d51-4859-b631-6b97e0e72bfd')\"\n",
              "              title=\"Convert this dataframe to an interactive table.\"\n",
              "              style=\"display:none;\">\n",
              "        \n",
              "  <svg xmlns=\"http://www.w3.org/2000/svg\" height=\"24px\"viewBox=\"0 0 24 24\"\n",
              "       width=\"24px\">\n",
              "    <path d=\"M0 0h24v24H0V0z\" fill=\"none\"/>\n",
              "    <path d=\"M18.56 5.44l.94 2.06.94-2.06 2.06-.94-2.06-.94-.94-2.06-.94 2.06-2.06.94zm-11 1L8.5 8.5l.94-2.06 2.06-.94-2.06-.94L8.5 2.5l-.94 2.06-2.06.94zm10 10l.94 2.06.94-2.06 2.06-.94-2.06-.94-.94-2.06-.94 2.06-2.06.94z\"/><path d=\"M17.41 7.96l-1.37-1.37c-.4-.4-.92-.59-1.43-.59-.52 0-1.04.2-1.43.59L10.3 9.45l-7.72 7.72c-.78.78-.78 2.05 0 2.83L4 21.41c.39.39.9.59 1.41.59.51 0 1.02-.2 1.41-.59l7.78-7.78 2.81-2.81c.8-.78.8-2.07 0-2.86zM5.41 20L4 18.59l7.72-7.72 1.47 1.35L5.41 20z\"/>\n",
              "  </svg>\n",
              "      </button>\n",
              "      \n",
              "  <style>\n",
              "    .colab-df-container {\n",
              "      display:flex;\n",
              "      flex-wrap:wrap;\n",
              "      gap: 12px;\n",
              "    }\n",
              "\n",
              "    .colab-df-convert {\n",
              "      background-color: #E8F0FE;\n",
              "      border: none;\n",
              "      border-radius: 50%;\n",
              "      cursor: pointer;\n",
              "      display: none;\n",
              "      fill: #1967D2;\n",
              "      height: 32px;\n",
              "      padding: 0 0 0 0;\n",
              "      width: 32px;\n",
              "    }\n",
              "\n",
              "    .colab-df-convert:hover {\n",
              "      background-color: #E2EBFA;\n",
              "      box-shadow: 0px 1px 2px rgba(60, 64, 67, 0.3), 0px 1px 3px 1px rgba(60, 64, 67, 0.15);\n",
              "      fill: #174EA6;\n",
              "    }\n",
              "\n",
              "    [theme=dark] .colab-df-convert {\n",
              "      background-color: #3B4455;\n",
              "      fill: #D2E3FC;\n",
              "    }\n",
              "\n",
              "    [theme=dark] .colab-df-convert:hover {\n",
              "      background-color: #434B5C;\n",
              "      box-shadow: 0px 1px 3px 1px rgba(0, 0, 0, 0.15);\n",
              "      filter: drop-shadow(0px 1px 2px rgba(0, 0, 0, 0.3));\n",
              "      fill: #FFFFFF;\n",
              "    }\n",
              "  </style>\n",
              "\n",
              "      <script>\n",
              "        const buttonEl =\n",
              "          document.querySelector('#df-0fe08c12-0d51-4859-b631-6b97e0e72bfd button.colab-df-convert');\n",
              "        buttonEl.style.display =\n",
              "          google.colab.kernel.accessAllowed ? 'block' : 'none';\n",
              "\n",
              "        async function convertToInteractive(key) {\n",
              "          const element = document.querySelector('#df-0fe08c12-0d51-4859-b631-6b97e0e72bfd');\n",
              "          const dataTable =\n",
              "            await google.colab.kernel.invokeFunction('convertToInteractive',\n",
              "                                                     [key], {});\n",
              "          if (!dataTable) return;\n",
              "\n",
              "          const docLinkHtml = 'Like what you see? Visit the ' +\n",
              "            '<a target=\"_blank\" href=https://colab.research.google.com/notebooks/data_table.ipynb>data table notebook</a>'\n",
              "            + ' to learn more about interactive tables.';\n",
              "          element.innerHTML = '';\n",
              "          dataTable['output_type'] = 'display_data';\n",
              "          await google.colab.output.renderOutput(dataTable, element);\n",
              "          const docLink = document.createElement('div');\n",
              "          docLink.innerHTML = docLinkHtml;\n",
              "          element.appendChild(docLink);\n",
              "        }\n",
              "      </script>\n",
              "    </div>\n",
              "  </div>\n",
              "  "
            ]
          },
          "metadata": {},
          "execution_count": 6
        }
      ],
      "source": [
        "data.head()"
      ]
    },
    {
      "cell_type": "markdown",
      "metadata": {
        "id": "oXIhlTeAuLWa"
      },
      "source": [
        "## Step 3:  Exploratory Data Analysis (EDA)\n",
        "In this section we will check if the data is null, mean value of each column (independent variable) for dependent variable. "
      ]
    },
    {
      "cell_type": "code",
      "execution_count": 7,
      "metadata": {
        "colab": {
          "base_uri": "https://localhost:8080/"
        },
        "id": "8bnxmuCR4d0z",
        "outputId": "66d71b81-a63b-4f4c-dd42-34b3f8a9b3a2"
      },
      "outputs": [
        {
          "output_type": "execute_result",
          "data": {
            "text/plain": [
              "ID                      0\n",
              "Click                   0\n",
              "DisplayURL              0\n",
              "AdId                    0\n",
              "AdvertiserId            0\n",
              "Depth                   0\n",
              "Position                0\n",
              "Gender                  0\n",
              "Age                     0\n",
              "AdKeyword_tokens        0\n",
              "AdTitle_tokens          0\n",
              "AdDescription_tokens    0\n",
              "Query_tokens            0\n",
              "dtype: int64"
            ]
          },
          "metadata": {},
          "execution_count": 7
        }
      ],
      "source": [
        "data.isnull().sum()"
      ]
    },
    {
      "cell_type": "markdown",
      "source": [
        "There is no null value in our data."
      ],
      "metadata": {
        "id": "ypj8s3gDqv75"
      }
    },
    {
      "cell_type": "code",
      "execution_count": 8,
      "metadata": {
        "colab": {
          "base_uri": "https://localhost:8080/"
        },
        "id": "yArdRP_cGxIG",
        "outputId": "0f7bb614-b6f1-4143-d869-f682c3ebc5b1"
      },
      "outputs": [
        {
          "output_type": "execute_result",
          "data": {
            "text/plain": [
              "ID                      4000000\n",
              "Click                         2\n",
              "DisplayURL                20694\n",
              "AdId                     201256\n",
              "AdvertiserId              13853\n",
              "Depth                         3\n",
              "Position                      3\n",
              "Gender                        3\n",
              "Age                           6\n",
              "AdKeyword_tokens         255534\n",
              "AdTitle_tokens           571766\n",
              "AdDescription_tokens     460177\n",
              "Query_tokens            1162999\n",
              "dtype: int64"
            ]
          },
          "metadata": {},
          "execution_count": 8
        }
      ],
      "source": [
        "data.nunique()"
      ]
    },
    {
      "cell_type": "code",
      "execution_count": 9,
      "metadata": {
        "colab": {
          "base_uri": "https://localhost:8080/",
          "height": 515
        },
        "id": "4d5qKbXyJGbn",
        "outputId": "9cfda55d-e536-435e-9c92-ba062d75c2d5"
      },
      "outputs": [
        {
          "output_type": "stream",
          "name": "stdout",
          "text": [
            "Click mean by  Age\n",
            "1    0.046495\n",
            "2    0.046957\n",
            "3    0.045845\n",
            "4    0.044524\n",
            "5    0.050272\n",
            "6    0.055787\n",
            "Name: Click, dtype: float64\n"
          ]
        },
        {
          "output_type": "display_data",
          "data": {
            "text/plain": [
              "<Figure size 360x360 with 1 Axes>"
            ],
            "image/png": "[encoded data removed]"
          },
          "metadata": {
            "needs_background": "light"
          }
        }
      ],
      "source": [
        "sns.catplot(x=\"Age\", y=\"Click\", kind=\"bar\", data=data, n_boot=1)\n",
        "print('Click mean by ',data.groupby('Age').Click.mean())"
      ]
    },
    {
      "cell_type": "markdown",
      "source": [
        "In the above bar graph we can see the Age 6 group has higher click mean following by age 5."
      ],
      "metadata": {
        "id": "Egg59nc-mA7f"
      }
    },
    {
      "cell_type": "code",
      "execution_count": 10,
      "metadata": {
        "colab": {
          "base_uri": "https://localhost:8080/",
          "height": 460
        },
        "id": "DVvezKwiJlQ8",
        "outputId": "f103a9b1-5615-472e-f098-db313a25b038"
      },
      "outputs": [
        {
          "output_type": "stream",
          "name": "stdout",
          "text": [
            "Click mean by  Position\n",
            "1    0.058184\n",
            "2    0.032100\n",
            "3    0.020342\n",
            "Name: Click, dtype: float64\n"
          ]
        },
        {
          "output_type": "display_data",
          "data": {
            "text/plain": [
              "<Figure size 360x360 with 1 Axes>"
            ],
            "image/png": "[encoded data removed]"
          },
          "metadata": {
            "needs_background": "light"
          }
        }
      ],
      "source": [
        "sns.catplot(x=\"Position\", y=\"Click\", kind=\"bar\", data=data, n_boot=1)\n",
        "print('Click mean by ',data.groupby('Position').Click.mean())"
      ]
    },
    {
      "cell_type": "markdown",
      "source": [
        "Ads Placed in first position have higher click mean."
      ],
      "metadata": {
        "id": "fkyhTPmgmTGP"
      }
    },
    {
      "cell_type": "code",
      "execution_count": 11,
      "metadata": {
        "colab": {
          "base_uri": "https://localhost:8080/",
          "height": 460
        },
        "id": "IW19qABcS-5w",
        "outputId": "51725b33-e293-43f7-e3fe-edf3fcb3b672"
      },
      "outputs": [
        {
          "output_type": "stream",
          "name": "stdout",
          "text": [
            "Click mean by  Depth\n",
            "1    0.048027\n",
            "2    0.050208\n",
            "3    0.038040\n",
            "Name: Click, dtype: float64\n"
          ]
        },
        {
          "output_type": "display_data",
          "data": {
            "text/plain": [
              "<Figure size 360x360 with 1 Axes>"
            ],
            "image/png": "[encoded data removed]"
          },
          "metadata": {
            "needs_background": "light"
          }
        }
      ],
      "source": [
        "sns.catplot(x=\"Depth\", y=\"Click\", kind=\"bar\", data=data, n_boot=1)\n",
        "print('Click mean by ',data.groupby('Depth').Click.mean())"
      ]
    },
    {
      "cell_type": "code",
      "source": [
        "Between the all 3 depth group 2 depth group Ads were most clicked."
      ],
      "metadata": {
        "id": "f18mlGEKmdC0"
      },
      "execution_count": null,
      "outputs": []
    },
    {
      "cell_type": "code",
      "execution_count": 12,
      "metadata": {
        "colab": {
          "base_uri": "https://localhost:8080/"
        },
        "id": "ZveRMHUZKFPf",
        "outputId": "1dc5afe8-13a3-4126-d958-156fafc9121c"
      },
      "outputs": [
        {
          "output_type": "execute_result",
          "data": {
            "text/plain": [
              "14340390157469404125    430788\n",
              "12057878999086460853    358952\n",
              "7903914528320191889     120983\n",
              "4298118681424644510      39799\n",
              "14531867648059391627     38989\n",
              "                         ...  \n",
              "12975157906362870694         1\n",
              "7605231903774043921          1\n",
              "10314096963084194171         1\n",
              "8123642386187004921          1\n",
              "11779507049523109164         1\n",
              "Name: DisplayURL, Length: 20694, dtype: int64"
            ]
          },
          "metadata": {},
          "execution_count": 12
        }
      ],
      "source": [
        "data[\"DisplayURL\"].value_counts()"
      ]
    },
    {
      "cell_type": "markdown",
      "metadata": {
        "id": "zsbX4ajRBNrJ"
      },
      "source": [
        "## Step 4: Handiling Tokens (Text Data)\n",
        "Why handling token and using as a feature is important for us?\n",
        "The token data express the ads title and description which is relevent to the different customer intrest. For example, if I will see Ads title and description which is similar to my intrest those ads are likely to click then other ads which title and description is not similar to my intrest."
      ]
    },
    {
      "cell_type": "code",
      "execution_count": 13,
      "metadata": {
        "colab": {
          "base_uri": "https://localhost:8080/"
        },
        "id": "-A-QORpM8zG4",
        "outputId": "15c9e6ae-ba6a-45f4-d66f-de3510fd5e2d"
      },
      "outputs": [
        {
          "output_type": "execute_result",
          "data": {
            "text/plain": [
              "AdTitle_tokens          object\n",
              "AdDescription_tokens    object\n",
              "dtype: object"
            ]
          },
          "metadata": {},
          "execution_count": 13
        }
      ],
      "source": [
        "data[['AdTitle_tokens','AdDescription_tokens']].dtypes"
      ]
    },
    {
      "cell_type": "markdown",
      "metadata": {
        "id": "WTA1sR3j--F5"
      },
      "source": [
        "Function to split data by '|' and join theam as string"
      ]
    },
    {
      "cell_type": "code",
      "execution_count": null,
      "metadata": {
        "id": "rlCgdvkyRHdl"
      },
      "outputs": [],
      "source": [
        "# def string_split(label):\n",
        "#    result = [''.join(str(i).split('|')) for i in label ]\n",
        "#    return result"
      ]
    },
    {
      "cell_type": "markdown",
      "metadata": {
        "id": "qCUPZKmP_OTg"
      },
      "source": [
        "Using functions for columns to split data"
      ]
    },
    {
      "cell_type": "code",
      "execution_count": null,
      "metadata": {
        "id": "QPbvk2vTSi8q"
      },
      "outputs": [],
      "source": [
        "# AdKeywords = string_split(data['AdKeyword_tokens'])\n",
        "# AdTitle = string_split(data['AdTitle_tokens'])\n",
        "# Adkeyword_tokens = string_split(data['AdKeyword_tokens'])\n",
        "# Ad_Description = string_split(data['AdDescription_tokens'])\n",
        "# Ad_Query = string_split(data['Query_tokens'])"
      ]
    },
    {
      "cell_type": "code",
      "execution_count": null,
      "metadata": {
        "id": "XhSHBngEDph6"
      },
      "outputs": [],
      "source": [
        "# data.columns"
      ]
    },
    {
      "cell_type": "markdown",
      "metadata": {
        "id": "A-Cwcm-5-BFA"
      },
      "source": [
        "####Spliting Tokens and converting to the numeric form by applying count of string"
      ]
    },
    {
      "cell_type": "code",
      "execution_count": 14,
      "metadata": {
        "id": "CWy3ZsLt9prP"
      },
      "outputs": [],
      "source": [
        "def count(sentence):\n",
        "    '''\n",
        "        (str) -> (int)\n",
        "        Returns no. of words in a sentence.\n",
        "    '''\n",
        "    return len(str(sentence).split('|'))"
      ]
    },
    {
      "cell_type": "markdown",
      "metadata": {
        "id": "N7RyKIi3Bb3E"
      },
      "source": [
        "#### Adding new column of text count to dataframe\n",
        "Applying count will help to divide tokens into splitted array and counting each array will be placed as numeric form so that we can analyse which tokens count got more ads clicked."
      ]
    },
    {
      "cell_type": "code",
      "execution_count": 15,
      "metadata": {
        "id": "_1ZRFALm8110"
      },
      "outputs": [],
      "source": [
        "data['ATcount'] = data['AdTitle_tokens'].apply(count)\n",
        "data['AKcount'] = data['AdKeyword_tokens'].apply(count)\n",
        "data['ADcount'] = data['AdDescription_tokens'].apply(count)\n",
        "data['AQcount'] = data['Query_tokens'].apply(count)\n"
      ]
    },
    {
      "cell_type": "code",
      "execution_count": 16,
      "metadata": {
        "colab": {
          "base_uri": "https://localhost:8080/",
          "height": 270
        },
        "id": "mUjZtwgsXNA0",
        "outputId": "80db6024-9d98-4eb7-d9d9-6193e288d9c5"
      },
      "outputs": [
        {
          "output_type": "execute_result",
          "data": {
            "text/plain": [
              "        ID  Click            DisplayURL      AdId  AdvertiserId  Depth  \\\n",
              "0  3585022      1   5079901068051390251   4261847         25928      2   \n",
              "1  3072980      0  12575528779388759460   3112706         23778      2   \n",
              "2  1385459      0   2412771796110463309  20067154         23781      3   \n",
              "3  1241189      0  14340390157469404125  10110402         23808      1   \n",
              "4  2949285      0   9573487645018952575   1918047          1339      2   \n",
              "\n",
              "   Position  Gender  Age AdKeyword_tokens  \\\n",
              "0         2       2    6         53|225|6   \n",
              "1         1       2    3         3624|395   \n",
              "2         3       1    2       1545|75|31   \n",
              "3         1       2    4          366|270   \n",
              "4         2       2    3    2219|2323|600   \n",
              "\n",
              "                                      AdTitle_tokens  \\\n",
              "0                          53|225|6|739|1590|221|394   \n",
              "1                                     3683|1683|3155   \n",
              "2  35|2233|1545|75|31|172|46|467|170|2233|58052|1...   \n",
              "3                 69|366|270|1|37|1270|1|466|164|616   \n",
              "4                 2219|2323|600|0|11|207|3073|2680|3   \n",
              "\n",
              "                                AdDescription_tokens   Query_tokens  ATcount  \\\n",
              "0            176|881|3|53|225|6|1|739|1590|221|394|3      225|105|6        7   \n",
              "1  3683|1683|3155|1|2367|69|1683|3803|728|8484|26...  395|3051|1990        3   \n",
              "2  172|46|467|170|5634|5112|40|155|1965|834|21|41...     1545|75|31       15   \n",
              "3  1671|771|111|187|1|1170|33|2357|119|1|16457|99...   366|0|270|17       10   \n",
              "4  36|2219|2323|600|1|37|1460|872|6|3|169|207|130...  2219|30|600|6        9   \n",
              "\n",
              "   AKcount  ADcount  AQcount  \n",
              "0        3       12        3  \n",
              "1        2       25        3  \n",
              "2        3       28        3  \n",
              "3        2       23        4  \n",
              "4        3       20        4  "
            ],
            "text/html": [
              "\n",
              "  <div id=\"df-67f4fcb6-76f5-441e-bb79-67d490f5ecb5\">\n",
              "    <div class=\"colab-df-container\">\n",
              "      <div>\n",
              "<style scoped>\n",
              "    .dataframe tbody tr th:only-of-type {\n",
              "        vertical-align: middle;\n",
              "    }\n",
              "\n",
              "    .dataframe tbody tr th {\n",
              "        vertical-align: top;\n",
              "    }\n",
              "\n",
              "    .dataframe thead th {\n",
              "        text-align: right;\n",
              "    }\n",
              "</style>\n",
              "<table border=\"1\" class=\"dataframe\">\n",
              "  <thead>\n",
              "    <tr style=\"text-align: right;\">\n",
              "      <th></th>\n",
              "      <th>ID</th>\n",
              "      <th>Click</th>\n",
              "      <th>DisplayURL</th>\n",
              "      <th>AdId</th>\n",
              "      <th>AdvertiserId</th>\n",
              "      <th>Depth</th>\n",
              "      <th>Position</th>\n",
              "      <th>Gender</th>\n",
              "      <th>Age</th>\n",
              "      <th>AdKeyword_tokens</th>\n",
              "      <th>AdTitle_tokens</th>\n",
              "      <th>AdDescription_tokens</th>\n",
              "      <th>Query_tokens</th>\n",
              "      <th>ATcount</th>\n",
              "      <th>AKcount</th>\n",
              "      <th>ADcount</th>\n",
              "      <th>AQcount</th>\n",
              "    </tr>\n",
              "  </thead>\n",
              "  <tbody>\n",
              "    <tr>\n",
              "      <th>0</th>\n",
              "      <td>3585022</td>\n",
              "      <td>1</td>\n",
              "      <td>5079901068051390251</td>\n",
              "      <td>4261847</td>\n",
              "      <td>25928</td>\n",
              "      <td>2</td>\n",
              "      <td>2</td>\n",
              "      <td>2</td>\n",
              "      <td>6</td>\n",
              "      <td>53|225|6</td>\n",
              "      <td>53|225|6|739|1590|221|394</td>\n",
              "      <td>176|881|3|53|225|6|1|739|1590|221|394|3</td>\n",
              "      <td>225|105|6</td>\n",
              "      <td>7</td>\n",
              "      <td>3</td>\n",
              "      <td>12</td>\n",
              "      <td>3</td>\n",
              "    </tr>\n",
              "    <tr>\n",
              "      <th>1</th>\n",
              "      <td>3072980</td>\n",
              "      <td>0</td>\n",
              "      <td>12575528779388759460</td>\n",
              "      <td>3112706</td>\n",
              "      <td>23778</td>\n",
              "      <td>2</td>\n",
              "      <td>1</td>\n",
              "      <td>2</td>\n",
              "      <td>3</td>\n",
              "      <td>3624|395</td>\n",
              "      <td>3683|1683|3155</td>\n",
              "      <td>3683|1683|3155|1|2367|69|1683|3803|728|8484|26...</td>\n",
              "      <td>395|3051|1990</td>\n",
              "      <td>3</td>\n",
              "      <td>2</td>\n",
              "      <td>25</td>\n",
              "      <td>3</td>\n",
              "    </tr>\n",
              "    <tr>\n",
              "      <th>2</th>\n",
              "      <td>1385459</td>\n",
              "      <td>0</td>\n",
              "      <td>2412771796110463309</td>\n",
              "      <td>20067154</td>\n",
              "      <td>23781</td>\n",
              "      <td>3</td>\n",
              "      <td>3</td>\n",
              "      <td>1</td>\n",
              "      <td>2</td>\n",
              "      <td>1545|75|31</td>\n",
              "      <td>35|2233|1545|75|31|172|46|467|170|2233|58052|1...</td>\n",
              "      <td>172|46|467|170|5634|5112|40|155|1965|834|21|41...</td>\n",
              "      <td>1545|75|31</td>\n",
              "      <td>15</td>\n",
              "      <td>3</td>\n",
              "      <td>28</td>\n",
              "      <td>3</td>\n",
              "    </tr>\n",
              "    <tr>\n",
              "      <th>3</th>\n",
              "      <td>1241189</td>\n",
              "      <td>0</td>\n",
              "      <td>14340390157469404125</td>\n",
              "      <td>10110402</td>\n",
              "      <td>23808</td>\n",
              "      <td>1</td>\n",
              "      <td>1</td>\n",
              "      <td>2</td>\n",
              "      <td>4</td>\n",
              "      <td>366|270</td>\n",
              "      <td>69|366|270|1|37|1270|1|466|164|616</td>\n",
              "      <td>1671|771|111|187|1|1170|33|2357|119|1|16457|99...</td>\n",
              "      <td>366|0|270|17</td>\n",
              "      <td>10</td>\n",
              "      <td>2</td>\n",
              "      <td>23</td>\n",
              "      <td>4</td>\n",
              "    </tr>\n",
              "    <tr>\n",
              "      <th>4</th>\n",
              "      <td>2949285</td>\n",
              "      <td>0</td>\n",
              "      <td>9573487645018952575</td>\n",
              "      <td>1918047</td>\n",
              "      <td>1339</td>\n",
              "      <td>2</td>\n",
              "      <td>2</td>\n",
              "      <td>2</td>\n",
              "      <td>3</td>\n",
              "      <td>2219|2323|600</td>\n",
              "      <td>2219|2323|600|0|11|207|3073|2680|3</td>\n",
              "      <td>36|2219|2323|600|1|37|1460|872|6|3|169|207|130...</td>\n",
              "      <td>2219|30|600|6</td>\n",
              "      <td>9</td>\n",
              "      <td>3</td>\n",
              "      <td>20</td>\n",
              "      <td>4</td>\n",
              "    </tr>\n",
              "  </tbody>\n",
              "</table>\n",
              "</div>\n",
              "      <button class=\"colab-df-convert\" onclick=\"convertToInteractive('df-67f4fcb6-76f5-441e-bb79-67d490f5ecb5')\"\n",
              "              title=\"Convert this dataframe to an interactive table.\"\n",
              "              style=\"display:none;\">\n",
              "        \n",
              "  <svg xmlns=\"http://www.w3.org/2000/svg\" height=\"24px\"viewBox=\"0 0 24 24\"\n",
              "       width=\"24px\">\n",
              "    <path d=\"M0 0h24v24H0V0z\" fill=\"none\"/>\n",
              "    <path d=\"M18.56 5.44l.94 2.06.94-2.06 2.06-.94-2.06-.94-.94-2.06-.94 2.06-2.06.94zm-11 1L8.5 8.5l.94-2.06 2.06-.94-2.06-.94L8.5 2.5l-.94 2.06-2.06.94zm10 10l.94 2.06.94-2.06 2.06-.94-2.06-.94-.94-2.06-.94 2.06-2.06.94z\"/><path d=\"M17.41 7.96l-1.37-1.37c-.4-.4-.92-.59-1.43-.59-.52 0-1.04.2-1.43.59L10.3 9.45l-7.72 7.72c-.78.78-.78 2.05 0 2.83L4 21.41c.39.39.9.59 1.41.59.51 0 1.02-.2 1.41-.59l7.78-7.78 2.81-2.81c.8-.78.8-2.07 0-2.86zM5.41 20L4 18.59l7.72-7.72 1.47 1.35L5.41 20z\"/>\n",
              "  </svg>\n",
              "      </button>\n",
              "      \n",
              "  <style>\n",
              "    .colab-df-container {\n",
              "      display:flex;\n",
              "      flex-wrap:wrap;\n",
              "      gap: 12px;\n",
              "    }\n",
              "\n",
              "    .colab-df-convert {\n",
              "      background-color: #E8F0FE;\n",
              "      border: none;\n",
              "      border-radius: 50%;\n",
              "      cursor: pointer;\n",
              "      display: none;\n",
              "      fill: #1967D2;\n",
              "      height: 32px;\n",
              "      padding: 0 0 0 0;\n",
              "      width: 32px;\n",
              "    }\n",
              "\n",
              "    .colab-df-convert:hover {\n",
              "      background-color: #E2EBFA;\n",
              "      box-shadow: 0px 1px 2px rgba(60, 64, 67, 0.3), 0px 1px 3px 1px rgba(60, 64, 67, 0.15);\n",
              "      fill: #174EA6;\n",
              "    }\n",
              "\n",
              "    [theme=dark] .colab-df-convert {\n",
              "      background-color: #3B4455;\n",
              "      fill: #D2E3FC;\n",
              "    }\n",
              "\n",
              "    [theme=dark] .colab-df-convert:hover {\n",
              "      background-color: #434B5C;\n",
              "      box-shadow: 0px 1px 3px 1px rgba(0, 0, 0, 0.15);\n",
              "      filter: drop-shadow(0px 1px 2px rgba(0, 0, 0, 0.3));\n",
              "      fill: #FFFFFF;\n",
              "    }\n",
              "  </style>\n",
              "\n",
              "      <script>\n",
              "        const buttonEl =\n",
              "          document.querySelector('#df-67f4fcb6-76f5-441e-bb79-67d490f5ecb5 button.colab-df-convert');\n",
              "        buttonEl.style.display =\n",
              "          google.colab.kernel.accessAllowed ? 'block' : 'none';\n",
              "\n",
              "        async function convertToInteractive(key) {\n",
              "          const element = document.querySelector('#df-67f4fcb6-76f5-441e-bb79-67d490f5ecb5');\n",
              "          const dataTable =\n",
              "            await google.colab.kernel.invokeFunction('convertToInteractive',\n",
              "                                                     [key], {});\n",
              "          if (!dataTable) return;\n",
              "\n",
              "          const docLinkHtml = 'Like what you see? Visit the ' +\n",
              "            '<a target=\"_blank\" href=https://colab.research.google.com/notebooks/data_table.ipynb>data table notebook</a>'\n",
              "            + ' to learn more about interactive tables.';\n",
              "          element.innerHTML = '';\n",
              "          dataTable['output_type'] = 'display_data';\n",
              "          await google.colab.output.renderOutput(dataTable, element);\n",
              "          const docLink = document.createElement('div');\n",
              "          docLink.innerHTML = docLinkHtml;\n",
              "          element.appendChild(docLink);\n",
              "        }\n",
              "      </script>\n",
              "    </div>\n",
              "  </div>\n",
              "  "
            ]
          },
          "metadata": {},
          "execution_count": 16
        }
      ],
      "source": [
        "data.head(5)"
      ]
    },
    {
      "cell_type": "code",
      "execution_count": 17,
      "metadata": {
        "colab": {
          "base_uri": "https://localhost:8080/",
          "height": 387
        },
        "id": "2kQk5By4Ujb-",
        "outputId": "8f45b362-e9d1-4685-d44e-ddb89b740bd6"
      },
      "outputs": [
        {
          "output_type": "execute_result",
          "data": {
            "text/plain": [
              "<seaborn.axisgrid.FacetGrid at 0x7ff73523c150>"
            ]
          },
          "metadata": {},
          "execution_count": 17
        },
        {
          "output_type": "display_data",
          "data": {
            "text/plain": [
              "<Figure size 360x360 with 1 Axes>"
            ],
            "image/png": "[encoded data removed]"
          },
          "metadata": {
            "needs_background": "light"
          }
        }
      ],
      "source": [
        "sns.catplot(x=\"ATcount\", y=\"Click\", kind=\"bar\", data=data, n_boot=1)\n"
      ]
    },
    {
      "cell_type": "code",
      "execution_count": 18,
      "metadata": {
        "colab": {
          "base_uri": "https://localhost:8080/",
          "height": 387
        },
        "id": "JK1wQAKVU3N9",
        "outputId": "7f0cc53c-b957-4d68-e00c-ef65a40fdad5"
      },
      "outputs": [
        {
          "output_type": "execute_result",
          "data": {
            "text/plain": [
              "<seaborn.axisgrid.FacetGrid at 0x7ff757e15fd0>"
            ]
          },
          "metadata": {},
          "execution_count": 18
        },
        {
          "output_type": "display_data",
          "data": {
            "text/plain": [
              "<Figure size 360x360 with 1 Axes>"
            ],
            "image/png": "[encoded data removed]"
          },
          "metadata": {
            "needs_background": "light"
          }
        }
      ],
      "source": [
        "sns.catplot(x=\"AKcount\", y=\"Click\", kind=\"bar\", data=data, n_boot=1)"
      ]
    },
    {
      "cell_type": "markdown",
      "metadata": {
        "id": "x4eM8BqVBmpu"
      },
      "source": [
        "##Step 5 - Spliting Data into Training and Testing"
      ]
    },
    {
      "cell_type": "code",
      "execution_count": 19,
      "metadata": {
        "id": "VFxX_sVwjvnB"
      },
      "outputs": [],
      "source": [
        "y = data['Click']\n",
        "X = data.drop(columns = ['Click','AdKeyword_tokens','AdTitle_tokens','AdDescription_tokens','Query_tokens'])"
      ]
    },
    {
      "cell_type": "code",
      "execution_count": 20,
      "metadata": {
        "id": "95y_M9XYU_8r"
      },
      "outputs": [],
      "source": [
        "X_train,X_test,y_train,y_test = train_test_split(X,y,random_state = 0)"
      ]
    },
    {
      "cell_type": "markdown",
      "metadata": {
        "id": "maj2vmjNCSwj"
      },
      "source": [
        "## Step 6 - Feature selection using Correaltion\n",
        "Checking the Pearson correlation is important step for us to find the feature so that our data will be not overfitted. Having correlation with same column will help us to choose one of them as our feature by removing one. We have constructed functions which will give us correlated data then we will apply to remove those correlated data in our Train and Test set. "
      ]
    },
    {
      "cell_type": "code",
      "execution_count": 21,
      "metadata": {
        "colab": {
          "base_uri": "https://localhost:8080/",
          "height": 517
        },
        "id": "kQWTHG9y_TYD",
        "outputId": "624d452d-f765-40b6-d3e3-8b53c9cd2bfb"
      },
      "outputs": [
        {
          "output_type": "execute_result",
          "data": {
            "text/plain": [
              "Text(0.5, 1.0, 'Correlation Matrix Heatmap')"
            ]
          },
          "metadata": {},
          "execution_count": 21
        },
        {
          "output_type": "display_data",
          "data": {
            "text/plain": [
              "<Figure size 1080x576 with 2 Axes>"
            ],
            "image/png": "[encoded data removed]"
          },
          "metadata": {
            "needs_background": "light"
          }
        }
      ],
      "source": [
        "# Using pearson coefficient\n",
        "corrMatrix = X_train.corr()\n",
        "plt.figure(figsize = (15,8))\n",
        "sns.heatmap(corrMatrix,annot = True,cmap = 'icefire').set_title('Correlation Matrix Heatmap')"
      ]
    },
    {
      "cell_type": "code",
      "execution_count": 22,
      "metadata": {
        "id": "LEKtrOfPSkqV"
      },
      "outputs": [],
      "source": [
        "# with the following function we can select highly correlated feature\n",
        "# it will remove the first feature that is correlated with any other feature\n",
        "def correlation(dataset,threshold):\n",
        "  col_corr = set() #set of all the names correlated columns \n",
        "  corr_matrix = dataset.corr()\n",
        "  for i in range(len(corr_matrix.columns)):\n",
        "    for j in range(i):\n",
        "      if abs(corr_matrix.iloc[i,j])>threshold: # checking for absolute coefficient value\n",
        "          colname = corr_matrix.columns[i] # fetching the name of column\n",
        "          col_corr.add(colname)\n",
        "  return col_corr"
      ]
    },
    {
      "cell_type": "code",
      "execution_count": 23,
      "metadata": {
        "colab": {
          "base_uri": "https://localhost:8080/"
        },
        "id": "nh6fuziTUy1D",
        "outputId": "99a8b7e0-3869-4eba-e772-f77ae29030a9"
      },
      "outputs": [
        {
          "output_type": "execute_result",
          "data": {
            "text/plain": [
              "5"
            ]
          },
          "metadata": {},
          "execution_count": 23
        }
      ],
      "source": [
        "corr_features = correlation(X_train,0.2) # Choosed threshold as 0.2 becasue our correlation coefficient correlated mostly from 0.2 \n",
        "len(set(corr_features))"
      ]
    },
    {
      "cell_type": "code",
      "execution_count": 24,
      "metadata": {
        "colab": {
          "base_uri": "https://localhost:8080/"
        },
        "id": "7it8eehxWq58",
        "outputId": "5ba71fcf-09c3-4cbe-f6cf-22d9492b9fc1"
      },
      "outputs": [
        {
          "output_type": "execute_result",
          "data": {
            "text/plain": [
              "{'ADcount', 'AKcount', 'AQcount', 'AdvertiserId', 'Position'}"
            ]
          },
          "metadata": {},
          "execution_count": 24
        }
      ],
      "source": [
        "corr_features # features with high correlation and correlated to other feature"
      ]
    },
    {
      "cell_type": "code",
      "execution_count": 25,
      "metadata": {
        "colab": {
          "base_uri": "https://localhost:8080/",
          "height": 424
        },
        "id": "Bz6-FxpWYiAH",
        "outputId": "80d0cd45-5f3d-4764-f7d0-bb09b388fbf4"
      },
      "outputs": [
        {
          "output_type": "execute_result",
          "data": {
            "text/plain": [
              "              ID            DisplayURL      AdId  Depth  Gender  Age  ATcount\n",
              "814683   4727342  13653454917467024944   4330042      2       1    4       10\n",
              "1357371   890667  11309025704045849703  22103473      2       2    4       10\n",
              "2106112  2418235   2002143058964984831  21364448      3       2    4       12\n",
              "3483684  5344650   5851252814446935968  21478259      2       1    6       12\n",
              "3960754  5752004   6263749423537724136  21373400      1       2    3        9\n",
              "...          ...                   ...       ...    ...     ...  ...      ...\n",
              "121113   4549983  16100818328677732039  21449592      3       1    1       13\n",
              "1516674  2905786   6715049002232655961   3065545      1       1    2        6\n",
              "3550514  1729226   8848021695083076346  20046558      2       1    4       11\n",
              "2754091   502036  16458916817525931292   6815904      3       1    4        7\n",
              "1598002  5913662   7903914528320191889  21162348      1       2    5       11\n",
              "\n",
              "[1000000 rows x 7 columns]"
            ],
            "text/html": [
              "\n",
              "  <div id=\"df-7bde5bd7-b60f-4d5c-8989-7c987e4438c7\">\n",
              "    <div class=\"colab-df-container\">\n",
              "      <div>\n",
              "<style scoped>\n",
              "    .dataframe tbody tr th:only-of-type {\n",
              "        vertical-align: middle;\n",
              "    }\n",
              "\n",
              "    .dataframe tbody tr th {\n",
              "        vertical-align: top;\n",
              "    }\n",
              "\n",
              "    .dataframe thead th {\n",
              "        text-align: right;\n",
              "    }\n",
              "</style>\n",
              "<table border=\"1\" class=\"dataframe\">\n",
              "  <thead>\n",
              "    <tr style=\"text-align: right;\">\n",
              "      <th></th>\n",
              "      <th>ID</th>\n",
              "      <th>DisplayURL</th>\n",
              "      <th>AdId</th>\n",
              "      <th>Depth</th>\n",
              "      <th>Gender</th>\n",
              "      <th>Age</th>\n",
              "      <th>ATcount</th>\n",
              "    </tr>\n",
              "  </thead>\n",
              "  <tbody>\n",
              "    <tr>\n",
              "      <th>814683</th>\n",
              "      <td>4727342</td>\n",
              "      <td>13653454917467024944</td>\n",
              "      <td>4330042</td>\n",
              "      <td>2</td>\n",
              "      <td>1</td>\n",
              "      <td>4</td>\n",
              "      <td>10</td>\n",
              "    </tr>\n",
              "    <tr>\n",
              "      <th>1357371</th>\n",
              "      <td>890667</td>\n",
              "      <td>11309025704045849703</td>\n",
              "      <td>22103473</td>\n",
              "      <td>2</td>\n",
              "      <td>2</td>\n",
              "      <td>4</td>\n",
              "      <td>10</td>\n",
              "    </tr>\n",
              "    <tr>\n",
              "      <th>2106112</th>\n",
              "      <td>2418235</td>\n",
              "      <td>2002143058964984831</td>\n",
              "      <td>21364448</td>\n",
              "      <td>3</td>\n",
              "      <td>2</td>\n",
              "      <td>4</td>\n",
              "      <td>12</td>\n",
              "    </tr>\n",
              "    <tr>\n",
              "      <th>3483684</th>\n",
              "      <td>5344650</td>\n",
              "      <td>5851252814446935968</td>\n",
              "      <td>21478259</td>\n",
              "      <td>2</td>\n",
              "      <td>1</td>\n",
              "      <td>6</td>\n",
              "      <td>12</td>\n",
              "    </tr>\n",
              "    <tr>\n",
              "      <th>3960754</th>\n",
              "      <td>5752004</td>\n",
              "      <td>6263749423537724136</td>\n",
              "      <td>21373400</td>\n",
              "      <td>1</td>\n",
              "      <td>2</td>\n",
              "      <td>3</td>\n",
              "      <td>9</td>\n",
              "    </tr>\n",
              "    <tr>\n",
              "      <th>...</th>\n",
              "      <td>...</td>\n",
              "      <td>...</td>\n",
              "      <td>...</td>\n",
              "      <td>...</td>\n",
              "      <td>...</td>\n",
              "      <td>...</td>\n",
              "      <td>...</td>\n",
              "    </tr>\n",
              "    <tr>\n",
              "      <th>121113</th>\n",
              "      <td>4549983</td>\n",
              "      <td>16100818328677732039</td>\n",
              "      <td>21449592</td>\n",
              "      <td>3</td>\n",
              "      <td>1</td>\n",
              "      <td>1</td>\n",
              "      <td>13</td>\n",
              "    </tr>\n",
              "    <tr>\n",
              "      <th>1516674</th>\n",
              "      <td>2905786</td>\n",
              "      <td>6715049002232655961</td>\n",
              "      <td>3065545</td>\n",
              "      <td>1</td>\n",
              "      <td>1</td>\n",
              "      <td>2</td>\n",
              "      <td>6</td>\n",
              "    </tr>\n",
              "    <tr>\n",
              "      <th>3550514</th>\n",
              "      <td>1729226</td>\n",
              "      <td>8848021695083076346</td>\n",
              "      <td>20046558</td>\n",
              "      <td>2</td>\n",
              "      <td>1</td>\n",
              "      <td>4</td>\n",
              "      <td>11</td>\n",
              "    </tr>\n",
              "    <tr>\n",
              "      <th>2754091</th>\n",
              "      <td>502036</td>\n",
              "      <td>16458916817525931292</td>\n",
              "      <td>6815904</td>\n",
              "      <td>3</td>\n",
              "      <td>1</td>\n",
              "      <td>4</td>\n",
              "      <td>7</td>\n",
              "    </tr>\n",
              "    <tr>\n",
              "      <th>1598002</th>\n",
              "      <td>5913662</td>\n",
              "      <td>7903914528320191889</td>\n",
              "      <td>21162348</td>\n",
              "      <td>1</td>\n",
              "      <td>2</td>\n",
              "      <td>5</td>\n",
              "      <td>11</td>\n",
              "    </tr>\n",
              "  </tbody>\n",
              "</table>\n",
              "<p>1000000 rows × 7 columns</p>\n",
              "</div>\n",
              "      <button class=\"colab-df-convert\" onclick=\"convertToInteractive('df-7bde5bd7-b60f-4d5c-8989-7c987e4438c7')\"\n",
              "              title=\"Convert this dataframe to an interactive table.\"\n",
              "              style=\"display:none;\">\n",
              "        \n",
              "  <svg xmlns=\"http://www.w3.org/2000/svg\" height=\"24px\"viewBox=\"0 0 24 24\"\n",
              "       width=\"24px\">\n",
              "    <path d=\"M0 0h24v24H0V0z\" fill=\"none\"/>\n",
              "    <path d=\"M18.56 5.44l.94 2.06.94-2.06 2.06-.94-2.06-.94-.94-2.06-.94 2.06-2.06.94zm-11 1L8.5 8.5l.94-2.06 2.06-.94-2.06-.94L8.5 2.5l-.94 2.06-2.06.94zm10 10l.94 2.06.94-2.06 2.06-.94-2.06-.94-.94-2.06-.94 2.06-2.06.94z\"/><path d=\"M17.41 7.96l-1.37-1.37c-.4-.4-.92-.59-1.43-.59-.52 0-1.04.2-1.43.59L10.3 9.45l-7.72 7.72c-.78.78-.78 2.05 0 2.83L4 21.41c.39.39.9.59 1.41.59.51 0 1.02-.2 1.41-.59l7.78-7.78 2.81-2.81c.8-.78.8-2.07 0-2.86zM5.41 20L4 18.59l7.72-7.72 1.47 1.35L5.41 20z\"/>\n",
              "  </svg>\n",
              "      </button>\n",
              "      \n",
              "  <style>\n",
              "    .colab-df-container {\n",
              "      display:flex;\n",
              "      flex-wrap:wrap;\n",
              "      gap: 12px;\n",
              "    }\n",
              "\n",
              "    .colab-df-convert {\n",
              "      background-color: #E8F0FE;\n",
              "      border: none;\n",
              "      border-radius: 50%;\n",
              "      cursor: pointer;\n",
              "      display: none;\n",
              "      fill: #1967D2;\n",
              "      height: 32px;\n",
              "      padding: 0 0 0 0;\n",
              "      width: 32px;\n",
              "    }\n",
              "\n",
              "    .colab-df-convert:hover {\n",
              "      background-color: #E2EBFA;\n",
              "      box-shadow: 0px 1px 2px rgba(60, 64, 67, 0.3), 0px 1px 3px 1px rgba(60, 64, 67, 0.15);\n",
              "      fill: #174EA6;\n",
              "    }\n",
              "\n",
              "    [theme=dark] .colab-df-convert {\n",
              "      background-color: #3B4455;\n",
              "      fill: #D2E3FC;\n",
              "    }\n",
              "\n",
              "    [theme=dark] .colab-df-convert:hover {\n",
              "      background-color: #434B5C;\n",
              "      box-shadow: 0px 1px 3px 1px rgba(0, 0, 0, 0.15);\n",
              "      filter: drop-shadow(0px 1px 2px rgba(0, 0, 0, 0.3));\n",
              "      fill: #FFFFFF;\n",
              "    }\n",
              "  </style>\n",
              "\n",
              "      <script>\n",
              "        const buttonEl =\n",
              "          document.querySelector('#df-7bde5bd7-b60f-4d5c-8989-7c987e4438c7 button.colab-df-convert');\n",
              "        buttonEl.style.display =\n",
              "          google.colab.kernel.accessAllowed ? 'block' : 'none';\n",
              "\n",
              "        async function convertToInteractive(key) {\n",
              "          const element = document.querySelector('#df-7bde5bd7-b60f-4d5c-8989-7c987e4438c7');\n",
              "          const dataTable =\n",
              "            await google.colab.kernel.invokeFunction('convertToInteractive',\n",
              "                                                     [key], {});\n",
              "          if (!dataTable) return;\n",
              "\n",
              "          const docLinkHtml = 'Like what you see? Visit the ' +\n",
              "            '<a target=\"_blank\" href=https://colab.research.google.com/notebooks/data_table.ipynb>data table notebook</a>'\n",
              "            + ' to learn more about interactive tables.';\n",
              "          element.innerHTML = '';\n",
              "          dataTable['output_type'] = 'display_data';\n",
              "          await google.colab.output.renderOutput(dataTable, element);\n",
              "          const docLink = document.createElement('div');\n",
              "          docLink.innerHTML = docLinkHtml;\n",
              "          element.appendChild(docLink);\n",
              "        }\n",
              "      </script>\n",
              "    </div>\n",
              "  </div>\n",
              "  "
            ]
          },
          "metadata": {},
          "execution_count": 25
        }
      ],
      "source": [
        "X_train.drop(corr_features,axis=1) # dropping correlated feature from training and testing data to avoid noise\n",
        "X_test.drop(corr_features,axis=1)"
      ]
    },
    {
      "cell_type": "code",
      "source": [
        "#Decesion Tree Classifier\n",
        "kdd_tree = DecisionTreeClassifier(max_depth=3, random_state=5)\n",
        "kdd_tree.fit(X_train,y_train)\n",
        "tree_graph = tree.export_graphviz(kdd_tree, out_file=None, filled=True)\n",
        "graph = graphviz.Source(tree_graph, format=\"png\") \n",
        "graph"
      ],
      "metadata": {
        "colab": {
          "base_uri": "https://localhost:8080/",
          "height": 538
        },
        "id": "Z3NIsStjz3um",
        "outputId": "489b8f13-f5b5-4fac-d68d-bc6dc09056a1"
      },
      "execution_count": 26,
      "outputs": [
        {
          "output_type": "execute_result",
          "data": {
            "text/plain": [
              "<graphviz.files.Source at 0x7ff757dec550>"
            ],
            "image/svg+xml": "<?xml version=\"1.0\" encoding=\"UTF-8\" standalone=\"no\"?>\n<!DOCTYPE svg PUBLIC \"-//W3C//DTD SVG 1.1//EN\"\n \"http://www.w3.org/Graphics/SVG/1.1/DTD/svg11.dtd\">\n<!-- Generated by graphviz version 2.40.1 (20161225.0304)\n -->\n<!-- Title: Tree Pages: 1 -->\n<svg width=\"1446pt\" height=\"373pt\"\n viewBox=\"0.00 0.00 1446.00 373.00\" xmlns=\"http://www.w3.org/2000/svg\" xmlns:xlink=\"http://www.w3.org/1999/xlink\">\n<g id=\"graph0\" class=\"graph\" transform=\"scale(1 1) rotate(0) translate(4 369)\">\n<title>Tree</title>\n<polygon fill=\"#ffffff\" stroke=\"transparent\" points=\"-4,4 -4,-369 1442,-369 1442,4 -4,4\"/>\n<!-- 0 -->\n<g id=\"node1\" class=\"node\">\n<title>0</title>\n<polygon fill=\"#e68743\" stroke=\"#000000\" points=\"779.5,-365 589.5,-365 589.5,-297 779.5,-297 779.5,-365\"/>\n<text text-anchor=\"middle\" x=\"684.5\" y=\"-349.8\" font-family=\"Helvetica,sans-Serif\" font-size=\"14.00\" fill=\"#000000\">X[5] &lt;= 1.5</text>\n<text text-anchor=\"middle\" x=\"684.5\" y=\"-334.8\" font-family=\"Helvetica,sans-Serif\" font-size=\"14.00\" fill=\"#000000\">gini = 0.09</text>\n<text text-anchor=\"middle\" x=\"684.5\" y=\"-319.8\" font-family=\"Helvetica,sans-Serif\" font-size=\"14.00\" fill=\"#000000\">samples = 3000000</text>\n<text text-anchor=\"middle\" x=\"684.5\" y=\"-304.8\" font-family=\"Helvetica,sans-Serif\" font-size=\"14.00\" fill=\"#000000\">value = [2858522, 141478]</text>\n</g>\n<!-- 1 -->\n<g id=\"node2\" class=\"node\">\n<title>1</title>\n<polygon fill=\"#e78945\" stroke=\"#000000\" points=\"618,-261 383,-261 383,-193 618,-193 618,-261\"/>\n<text text-anchor=\"middle\" x=\"500.5\" y=\"-245.8\" font-family=\"Helvetica,sans-Serif\" font-size=\"14.00\" fill=\"#000000\">X[1] &lt;= 5.275878555857715e+16</text>\n<text text-anchor=\"middle\" x=\"500.5\" y=\"-230.8\" font-family=\"Helvetica,sans-Serif\" font-size=\"14.00\" fill=\"#000000\">gini = 0.11</text>\n<text text-anchor=\"middle\" x=\"500.5\" y=\"-215.8\" font-family=\"Helvetica,sans-Serif\" font-size=\"14.00\" fill=\"#000000\">samples = 1820250</text>\n<text text-anchor=\"middle\" x=\"500.5\" y=\"-200.8\" font-family=\"Helvetica,sans-Serif\" font-size=\"14.00\" fill=\"#000000\">value = [1714288, 105962]</text>\n</g>\n<!-- 0&#45;&gt;1 -->\n<g id=\"edge1\" class=\"edge\">\n<title>0&#45;&gt;1</title>\n<path fill=\"none\" stroke=\"#000000\" d=\"M624.2515,-296.9465C606.7779,-287.0701 587.5625,-276.2093 569.5924,-266.0522\"/>\n<polygon fill=\"#000000\" stroke=\"#000000\" points=\"571.3117,-263.0036 560.8838,-261.13 567.8673,-269.0976 571.3117,-263.0036\"/>\n<text text-anchor=\"middle\" x=\"567.5749\" y=\"-281.5179\" font-family=\"Helvetica,sans-Serif\" font-size=\"14.00\" fill=\"#000000\">True</text>\n</g>\n<!-- 8 -->\n<g id=\"node9\" class=\"node\">\n<title>8</title>\n<polygon fill=\"#e6853f\" stroke=\"#000000\" points=\"980.5,-261 798.5,-261 798.5,-193 980.5,-193 980.5,-261\"/>\n<text text-anchor=\"middle\" x=\"889.5\" y=\"-245.8\" font-family=\"Helvetica,sans-Serif\" font-size=\"14.00\" fill=\"#000000\">X[9] &lt;= 1.5</text>\n<text text-anchor=\"middle\" x=\"889.5\" y=\"-230.8\" font-family=\"Helvetica,sans-Serif\" font-size=\"14.00\" fill=\"#000000\">gini = 0.058</text>\n<text text-anchor=\"middle\" x=\"889.5\" y=\"-215.8\" font-family=\"Helvetica,sans-Serif\" font-size=\"14.00\" fill=\"#000000\">samples = 1179750</text>\n<text text-anchor=\"middle\" x=\"889.5\" y=\"-200.8\" font-family=\"Helvetica,sans-Serif\" font-size=\"14.00\" fill=\"#000000\">value = [1144234, 35516]</text>\n</g>\n<!-- 0&#45;&gt;8 -->\n<g id=\"edge8\" class=\"edge\">\n<title>0&#45;&gt;8</title>\n<path fill=\"none\" stroke=\"#000000\" d=\"M751.6247,-296.9465C771.2695,-286.9803 792.8904,-276.0117 813.0677,-265.7754\"/>\n<polygon fill=\"#000000\" stroke=\"#000000\" points=\"814.89,-268.7756 822.2245,-261.13 811.723,-262.533 814.89,-268.7756\"/>\n<text text-anchor=\"middle\" x=\"814.4574\" y=\"-281.1928\" font-family=\"Helvetica,sans-Serif\" font-size=\"14.00\" fill=\"#000000\">False</text>\n</g>\n<!-- 2 -->\n<g id=\"node3\" class=\"node\">\n<title>2</title>\n<polygon fill=\"#eca26c\" stroke=\"#000000\" points=\"316,-157 167,-157 167,-89 316,-89 316,-157\"/>\n<text text-anchor=\"middle\" x=\"241.5\" y=\"-141.8\" font-family=\"Helvetica,sans-Serif\" font-size=\"14.00\" fill=\"#000000\">X[11] &lt;= 3.5</text>\n<text text-anchor=\"middle\" x=\"241.5\" y=\"-126.8\" font-family=\"Helvetica,sans-Serif\" font-size=\"14.00\" fill=\"#000000\">gini = 0.327</text>\n<text text-anchor=\"middle\" x=\"241.5\" y=\"-111.8\" font-family=\"Helvetica,sans-Serif\" font-size=\"14.00\" fill=\"#000000\">samples = 12038</text>\n<text text-anchor=\"middle\" x=\"241.5\" y=\"-96.8\" font-family=\"Helvetica,sans-Serif\" font-size=\"14.00\" fill=\"#000000\">value = [9561, 2477]</text>\n</g>\n<!-- 1&#45;&gt;2 -->\n<g id=\"edge2\" class=\"edge\">\n<title>1&#45;&gt;2</title>\n<path fill=\"none\" stroke=\"#000000\" d=\"M415.6937,-192.9465C386.7986,-181.3438 354.5198,-168.3824 325.6744,-156.7997\"/>\n<polygon fill=\"#000000\" stroke=\"#000000\" points=\"326.6175,-153.4069 316.0335,-152.9285 324.0091,-159.9028 326.6175,-153.4069\"/>\n</g>\n<!-- 5 -->\n<g id=\"node6\" class=\"node\">\n<title>5</title>\n<polygon fill=\"#e78945\" stroke=\"#000000\" points=\"595.5,-157 405.5,-157 405.5,-89 595.5,-89 595.5,-157\"/>\n<text text-anchor=\"middle\" x=\"500.5\" y=\"-141.8\" font-family=\"Helvetica,sans-Serif\" font-size=\"14.00\" fill=\"#000000\">X[4] &lt;= 1.5</text>\n<text text-anchor=\"middle\" x=\"500.5\" y=\"-126.8\" font-family=\"Helvetica,sans-Serif\" font-size=\"14.00\" fill=\"#000000\">gini = 0.108</text>\n<text text-anchor=\"middle\" x=\"500.5\" y=\"-111.8\" font-family=\"Helvetica,sans-Serif\" font-size=\"14.00\" fill=\"#000000\">samples = 1808212</text>\n<text text-anchor=\"middle\" x=\"500.5\" y=\"-96.8\" font-family=\"Helvetica,sans-Serif\" font-size=\"14.00\" fill=\"#000000\">value = [1704727, 103485]</text>\n</g>\n<!-- 1&#45;&gt;5 -->\n<g id=\"edge5\" class=\"edge\">\n<title>1&#45;&gt;5</title>\n<path fill=\"none\" stroke=\"#000000\" d=\"M500.5,-192.9465C500.5,-184.776 500.5,-175.9318 500.5,-167.3697\"/>\n<polygon fill=\"#000000\" stroke=\"#000000\" points=\"504.0001,-167.13 500.5,-157.13 497.0001,-167.13 504.0001,-167.13\"/>\n</g>\n<!-- 3 -->\n<g id=\"node4\" class=\"node\">\n<title>3</title>\n<polygon fill=\"#ea995e\" stroke=\"#000000\" points=\"149,-53 0,-53 0,0 149,0 149,-53\"/>\n<text text-anchor=\"middle\" x=\"74.5\" y=\"-37.8\" font-family=\"Helvetica,sans-Serif\" font-size=\"14.00\" fill=\"#000000\">gini = 0.268</text>\n<text text-anchor=\"middle\" x=\"74.5\" y=\"-22.8\" font-family=\"Helvetica,sans-Serif\" font-size=\"14.00\" fill=\"#000000\">samples = 7136</text>\n<text text-anchor=\"middle\" x=\"74.5\" y=\"-7.8\" font-family=\"Helvetica,sans-Serif\" font-size=\"14.00\" fill=\"#000000\">value = [6001, 1135]</text>\n</g>\n<!-- 2&#45;&gt;3 -->\n<g id=\"edge3\" class=\"edge\">\n<title>2&#45;&gt;3</title>\n<path fill=\"none\" stroke=\"#000000\" d=\"M182.622,-88.9777C165.2691,-78.9504 146.358,-68.0228 129.274,-58.1508\"/>\n<polygon fill=\"#000000\" stroke=\"#000000\" points=\"130.9341,-55.0678 120.5246,-53.095 127.4318,-61.1287 130.9341,-55.0678\"/>\n</g>\n<!-- 4 -->\n<g id=\"node5\" class=\"node\">\n<title>4</title>\n<polygon fill=\"#efb084\" stroke=\"#000000\" points=\"316,-53 167,-53 167,0 316,0 316,-53\"/>\n<text text-anchor=\"middle\" x=\"241.5\" y=\"-37.8\" font-family=\"Helvetica,sans-Serif\" font-size=\"14.00\" fill=\"#000000\">gini = 0.398</text>\n<text text-anchor=\"middle\" x=\"241.5\" y=\"-22.8\" font-family=\"Helvetica,sans-Serif\" font-size=\"14.00\" fill=\"#000000\">samples = 4902</text>\n<text text-anchor=\"middle\" x=\"241.5\" y=\"-7.8\" font-family=\"Helvetica,sans-Serif\" font-size=\"14.00\" fill=\"#000000\">value = [3560, 1342]</text>\n</g>\n<!-- 2&#45;&gt;4 -->\n<g id=\"edge4\" class=\"edge\">\n<title>2&#45;&gt;4</title>\n<path fill=\"none\" stroke=\"#000000\" d=\"M241.5,-88.9777C241.5,-80.7364 241.5,-71.887 241.5,-63.5153\"/>\n<polygon fill=\"#000000\" stroke=\"#000000\" points=\"245.0001,-63.2484 241.5,-53.2485 238.0001,-63.2485 245.0001,-63.2484\"/>\n</g>\n<!-- 6 -->\n<g id=\"node7\" class=\"node\">\n<title>6</title>\n<polygon fill=\"#e68743\" stroke=\"#000000\" points=\"507,-53 334,-53 334,0 507,0 507,-53\"/>\n<text text-anchor=\"middle\" x=\"420.5\" y=\"-37.8\" font-family=\"Helvetica,sans-Serif\" font-size=\"14.00\" fill=\"#000000\">gini = 0.088</text>\n<text text-anchor=\"middle\" x=\"420.5\" y=\"-22.8\" font-family=\"Helvetica,sans-Serif\" font-size=\"14.00\" fill=\"#000000\">samples = 857727</text>\n<text text-anchor=\"middle\" x=\"420.5\" y=\"-7.8\" font-family=\"Helvetica,sans-Serif\" font-size=\"14.00\" fill=\"#000000\">value = [818335, 39392]</text>\n</g>\n<!-- 5&#45;&gt;6 -->\n<g id=\"edge6\" class=\"edge\">\n<title>5&#45;&gt;6</title>\n<path fill=\"none\" stroke=\"#000000\" d=\"M472.295,-88.9777C464.7796,-79.9123 456.6542,-70.111 449.117,-61.0192\"/>\n<polygon fill=\"#000000\" stroke=\"#000000\" points=\"451.7516,-58.7133 442.6749,-53.2485 446.3626,-63.1808 451.7516,-58.7133\"/>\n</g>\n<!-- 7 -->\n<g id=\"node8\" class=\"node\">\n<title>7</title>\n<polygon fill=\"#e78a47\" stroke=\"#000000\" points=\"698,-53 525,-53 525,0 698,0 698,-53\"/>\n<text text-anchor=\"middle\" x=\"611.5\" y=\"-37.8\" font-family=\"Helvetica,sans-Serif\" font-size=\"14.00\" fill=\"#000000\">gini = 0.126</text>\n<text text-anchor=\"middle\" x=\"611.5\" y=\"-22.8\" font-family=\"Helvetica,sans-Serif\" font-size=\"14.00\" fill=\"#000000\">samples = 950485</text>\n<text text-anchor=\"middle\" x=\"611.5\" y=\"-7.8\" font-family=\"Helvetica,sans-Serif\" font-size=\"14.00\" fill=\"#000000\">value = [886392, 64093]</text>\n</g>\n<!-- 5&#45;&gt;7 -->\n<g id=\"edge7\" class=\"edge\">\n<title>5&#45;&gt;7</title>\n<path fill=\"none\" stroke=\"#000000\" d=\"M539.6344,-88.9777C550.4833,-79.546 562.2484,-69.3178 573.0574,-59.9208\"/>\n<polygon fill=\"#000000\" stroke=\"#000000\" points=\"575.4819,-62.4508 580.7323,-53.2485 570.8892,-57.1681 575.4819,-62.4508\"/>\n</g>\n<!-- 9 -->\n<g id=\"node10\" class=\"node\">\n<title>9</title>\n<polygon fill=\"#e6843d\" stroke=\"#000000\" points=\"972,-157 807,-157 807,-89 972,-89 972,-157\"/>\n<text text-anchor=\"middle\" x=\"889.5\" y=\"-141.8\" font-family=\"Helvetica,sans-Serif\" font-size=\"14.00\" fill=\"#000000\">X[4] &lt;= 2.5</text>\n<text text-anchor=\"middle\" x=\"889.5\" y=\"-126.8\" font-family=\"Helvetica,sans-Serif\" font-size=\"14.00\" fill=\"#000000\">gini = 0.039</text>\n<text text-anchor=\"middle\" x=\"889.5\" y=\"-111.8\" font-family=\"Helvetica,sans-Serif\" font-size=\"14.00\" fill=\"#000000\">samples = 354642</text>\n<text text-anchor=\"middle\" x=\"889.5\" y=\"-96.8\" font-family=\"Helvetica,sans-Serif\" font-size=\"14.00\" fill=\"#000000\">value = [347655, 6987]</text>\n</g>\n<!-- 8&#45;&gt;9 -->\n<g id=\"edge9\" class=\"edge\">\n<title>8&#45;&gt;9</title>\n<path fill=\"none\" stroke=\"#000000\" d=\"M889.5,-192.9465C889.5,-184.776 889.5,-175.9318 889.5,-167.3697\"/>\n<polygon fill=\"#000000\" stroke=\"#000000\" points=\"893.0001,-167.13 889.5,-157.13 886.0001,-167.13 893.0001,-167.13\"/>\n</g>\n<!-- 12 -->\n<g id=\"node13\" class=\"node\">\n<title>12</title>\n<polygon fill=\"#e68640\" stroke=\"#000000\" points=\"1255,-157 1082,-157 1082,-89 1255,-89 1255,-157\"/>\n<text text-anchor=\"middle\" x=\"1168.5\" y=\"-141.8\" font-family=\"Helvetica,sans-Serif\" font-size=\"14.00\" fill=\"#000000\">X[5] &lt;= 2.5</text>\n<text text-anchor=\"middle\" x=\"1168.5\" y=\"-126.8\" font-family=\"Helvetica,sans-Serif\" font-size=\"14.00\" fill=\"#000000\">gini = 0.067</text>\n<text text-anchor=\"middle\" x=\"1168.5\" y=\"-111.8\" font-family=\"Helvetica,sans-Serif\" font-size=\"14.00\" fill=\"#000000\">samples = 825108</text>\n<text text-anchor=\"middle\" x=\"1168.5\" y=\"-96.8\" font-family=\"Helvetica,sans-Serif\" font-size=\"14.00\" fill=\"#000000\">value = [796579, 28529]</text>\n</g>\n<!-- 8&#45;&gt;12 -->\n<g id=\"edge12\" class=\"edge\">\n<title>8&#45;&gt;12</title>\n<path fill=\"none\" stroke=\"#000000\" d=\"M980.855,-192.9465C1010.1091,-182.0418 1042.5829,-169.9368 1072.1799,-158.9043\"/>\n<polygon fill=\"#000000\" stroke=\"#000000\" points=\"1073.5328,-162.1353 1081.6805,-155.3628 1071.0878,-155.5762 1073.5328,-162.1353\"/>\n</g>\n<!-- 10 -->\n<g id=\"node11\" class=\"node\">\n<title>10</title>\n<polygon fill=\"#e6843e\" stroke=\"#000000\" points=\"881,-53 716,-53 716,0 881,0 881,-53\"/>\n<text text-anchor=\"middle\" x=\"798.5\" y=\"-37.8\" font-family=\"Helvetica,sans-Serif\" font-size=\"14.00\" fill=\"#000000\">gini = 0.044</text>\n<text text-anchor=\"middle\" x=\"798.5\" y=\"-22.8\" font-family=\"Helvetica,sans-Serif\" font-size=\"14.00\" fill=\"#000000\">samples = 229019</text>\n<text text-anchor=\"middle\" x=\"798.5\" y=\"-7.8\" font-family=\"Helvetica,sans-Serif\" font-size=\"14.00\" fill=\"#000000\">value = [223865, 5154]</text>\n</g>\n<!-- 9&#45;&gt;10 -->\n<g id=\"edge10\" class=\"edge\">\n<title>9&#45;&gt;10</title>\n<path fill=\"none\" stroke=\"#000000\" d=\"M857.4168,-88.9777C848.7817,-79.8207 839.4386,-69.9129 830.7922,-60.744\"/>\n<polygon fill=\"#000000\" stroke=\"#000000\" points=\"833.1311,-58.1226 823.724,-53.2485 828.0383,-62.9251 833.1311,-58.1226\"/>\n</g>\n<!-- 11 -->\n<g id=\"node12\" class=\"node\">\n<title>11</title>\n<polygon fill=\"#e5833c\" stroke=\"#000000\" points=\"1064,-53 899,-53 899,0 1064,0 1064,-53\"/>\n<text text-anchor=\"middle\" x=\"981.5\" y=\"-37.8\" font-family=\"Helvetica,sans-Serif\" font-size=\"14.00\" fill=\"#000000\">gini = 0.029</text>\n<text text-anchor=\"middle\" x=\"981.5\" y=\"-22.8\" font-family=\"Helvetica,sans-Serif\" font-size=\"14.00\" fill=\"#000000\">samples = 125623</text>\n<text text-anchor=\"middle\" x=\"981.5\" y=\"-7.8\" font-family=\"Helvetica,sans-Serif\" font-size=\"14.00\" fill=\"#000000\">value = [123790, 1833]</text>\n</g>\n<!-- 9&#45;&gt;11 -->\n<g id=\"edge11\" class=\"edge\">\n<title>9&#45;&gt;11</title>\n<path fill=\"none\" stroke=\"#000000\" d=\"M921.9358,-88.9777C930.6657,-79.8207 940.1115,-69.9129 948.8529,-60.744\"/>\n<polygon fill=\"#000000\" stroke=\"#000000\" points=\"951.6318,-62.9014 955.9989,-53.2485 946.5653,-58.0712 951.6318,-62.9014\"/>\n</g>\n<!-- 13 -->\n<g id=\"node14\" class=\"node\">\n<title>13</title>\n<polygon fill=\"#e68641\" stroke=\"#000000\" points=\"1255,-53 1082,-53 1082,0 1255,0 1255,-53\"/>\n<text text-anchor=\"middle\" x=\"1168.5\" y=\"-37.8\" font-family=\"Helvetica,sans-Serif\" font-size=\"14.00\" fill=\"#000000\">gini = 0.071</text>\n<text text-anchor=\"middle\" x=\"1168.5\" y=\"-22.8\" font-family=\"Helvetica,sans-Serif\" font-size=\"14.00\" fill=\"#000000\">samples = 686577</text>\n<text text-anchor=\"middle\" x=\"1168.5\" y=\"-7.8\" font-family=\"Helvetica,sans-Serif\" font-size=\"14.00\" fill=\"#000000\">value = [661384, 25193]</text>\n</g>\n<!-- 12&#45;&gt;13 -->\n<g id=\"edge13\" class=\"edge\">\n<title>12&#45;&gt;13</title>\n<path fill=\"none\" stroke=\"#000000\" d=\"M1168.5,-88.9777C1168.5,-80.7364 1168.5,-71.887 1168.5,-63.5153\"/>\n<polygon fill=\"#000000\" stroke=\"#000000\" points=\"1172.0001,-63.2484 1168.5,-53.2485 1165.0001,-63.2485 1172.0001,-63.2484\"/>\n</g>\n<!-- 14 -->\n<g id=\"node15\" class=\"node\">\n<title>14</title>\n<polygon fill=\"#e6843e\" stroke=\"#000000\" points=\"1438,-53 1273,-53 1273,0 1438,0 1438,-53\"/>\n<text text-anchor=\"middle\" x=\"1355.5\" y=\"-37.8\" font-family=\"Helvetica,sans-Serif\" font-size=\"14.00\" fill=\"#000000\">gini = 0.047</text>\n<text text-anchor=\"middle\" x=\"1355.5\" y=\"-22.8\" font-family=\"Helvetica,sans-Serif\" font-size=\"14.00\" fill=\"#000000\">samples = 138531</text>\n<text text-anchor=\"middle\" x=\"1355.5\" y=\"-7.8\" font-family=\"Helvetica,sans-Serif\" font-size=\"14.00\" fill=\"#000000\">value = [135195, 3336]</text>\n</g>\n<!-- 12&#45;&gt;14 -->\n<g id=\"edge14\" class=\"edge\">\n<title>12&#45;&gt;14</title>\n<path fill=\"none\" stroke=\"#000000\" d=\"M1234.4292,-88.9777C1254.1278,-78.8124 1275.6194,-67.7218 1294.9549,-57.7439\"/>\n<polygon fill=\"#000000\" stroke=\"#000000\" points=\"1296.682,-60.7912 1303.9635,-53.095 1293.4719,-54.5706 1296.682,-60.7912\"/>\n</g>\n</g>\n</svg>\n"
          },
          "metadata": {},
          "execution_count": 26
        }
      ]
    },
    {
      "cell_type": "code",
      "source": [
        "# calculate the fpr and tpr for all thresholds of the classification\n",
        "import sklearn.metrics as metrics\n",
        "probs = kdd_tree.predict_proba(X_test)\n",
        "preds = probs[:,1]\n",
        "fpr, tpr, threshold = metrics.roc_curve(y_test, preds)\n",
        "roc_auc = metrics.auc(fpr, tpr)\n",
        "plt.title('Receiver Operating Characteristic')\n",
        "plt.plot(fpr, tpr, 'b', label = 'AUC = %0.2f' % roc_auc)\n",
        "plt.legend(loc = 'lower right')\n",
        "plt.plot([0, 1], [0, 1],'r--')\n",
        "plt.xlim([0, 1])\n",
        "plt.ylim([0, 1])\n",
        "plt.ylabel('True Positive Rate')\n",
        "plt.xlabel('False Positive Rate')\n",
        "plt.show()"
      ],
      "metadata": {
        "colab": {
          "base_uri": "https://localhost:8080/",
          "height": 295
        },
        "id": "q5CwmbT0uGzW",
        "outputId": "2179f6c9-5985-4291-fb87-d55cb501b682"
      },
      "execution_count": 27,
      "outputs": [
        {
          "output_type": "display_data",
          "data": {
            "text/plain": [
              "<Figure size 432x288 with 1 Axes>"
            ],
            "image/png": "[encoded data removed]"
          },
          "metadata": {
            "needs_background": "light"
          }
        }
      ]
    },
    {
      "cell_type": "markdown",
      "source": [
        "After uding feature selection method and by using also tokens as feature, we have got AUC score 0.61. We want to expand our AUC score by using oversampling and scaling method."
      ],
      "metadata": {
        "id": "as4sta631ILU"
      }
    },
    {
      "cell_type": "markdown",
      "metadata": {
        "id": "qqVo1IB6CqwJ"
      },
      "source": [
        "## Step 7: Handling Imbalance Data using Synthetic Minority Oversampling Technique"
      ]
    },
    {
      "cell_type": "code",
      "execution_count": 31,
      "metadata": {
        "colab": {
          "base_uri": "https://localhost:8080/",
          "height": 266
        },
        "id": "myCidWGgEKdw",
        "outputId": "272087d1-4ad5-4fb3-c13e-ee278eed3d8f"
      },
      "outputs": [
        {
          "output_type": "execute_result",
          "data": {
            "text/plain": [
              "<matplotlib.axes._subplots.AxesSubplot at 0x7ff754214ad0>"
            ]
          },
          "metadata": {},
          "execution_count": 31
        },
        {
          "output_type": "display_data",
          "data": {
            "text/plain": [
              "<Figure size 432x288 with 1 Axes>"
            ],
            "image/png": "[encoded data removed]"
          },
          "metadata": {}
        }
      ],
      "source": [
        "y.value_counts().plot.pie(autopct='%.2f') # checking the data percentage of click we got over 95% not clicked (0) value  and over 4.5% clicked(1) value"
      ]
    },
    {
      "cell_type": "markdown",
      "metadata": {
        "id": "rzIXk0W5jOJo"
      },
      "source": [
        "Our Dataset is imbalance. The count of 0 is higher by huge margin and the count of 1 is very low so we cannot apply undersampling technique. In this case we will apply oversampling technique."
      ]
    },
    {
      "cell_type": "code",
      "execution_count": 30,
      "metadata": {
        "id": "0Jz3SkG3juTh"
      },
      "outputs": [],
      "source": [
        "from imblearn.over_sampling import SMOTE\n",
        "sc = SMOTE()\n",
        "X_resample, y_resample = sc.fit_resample(X,y)"
      ]
    },
    {
      "cell_type": "code",
      "execution_count": null,
      "metadata": {
        "colab": {
          "base_uri": "https://localhost:8080/",
          "height": 266
        },
        "id": "wVIwc60trIjO",
        "outputId": "e0948eb8-e0bf-4e83-b8e5-6c471a18ca7a"
      },
      "outputs": [
        {
          "output_type": "execute_result",
          "data": {
            "text/plain": [
              "<matplotlib.axes._subplots.AxesSubplot at 0x7fdc93568210>"
            ]
          },
          "metadata": {},
          "execution_count": 25
        },
        {
          "output_type": "display_data",
          "data": {
            "text/plain": [
              "<Figure size 432x288 with 1 Axes>"
            ],
            "image/png": "[encoded data removed]"
          },
          "metadata": {}
        }
      ],
      "source": [
        "y_resample.value_counts().plot.pie(autopct='%.2f')"
      ]
    },
    {
      "cell_type": "markdown",
      "metadata": {
        "id": "dbNBeU-oDzB4"
      },
      "source": [
        "Splitting training and testing data after oversampling"
      ]
    },
    {
      "cell_type": "code",
      "execution_count": 32,
      "metadata": {
        "id": "4WLfahUnq8tf"
      },
      "outputs": [],
      "source": [
        "train_X, test_X, train_y, test_y = train_test_split(X_resample, y_resample, random_state=1)"
      ]
    },
    {
      "cell_type": "markdown",
      "metadata": {
        "id": "sTnjFtzcD7wR"
      },
      "source": [
        "## Step 8 - Training the model"
      ]
    },
    {
      "cell_type": "code",
      "execution_count": 33,
      "metadata": {
        "colab": {
          "base_uri": "https://localhost:8080/",
          "height": 816
        },
        "id": "KS_EwKq_rBTh",
        "outputId": "fbc2f69a-14a2-4ae7-b26f-18134c90dfec"
      },
      "outputs": [
        {
          "output_type": "execute_result",
          "data": {
            "text/plain": [
              "<graphviz.files.Source at 0x7ff7540a2dd0>"
            ],
            "image/svg+xml": "<?xml version=\"1.0\" encoding=\"UTF-8\" standalone=\"no\"?>\n<!DOCTYPE svg PUBLIC \"-//W3C//DTD SVG 1.1//EN\"\n \"http://www.w3.org/Graphics/SVG/1.1/DTD/svg11.dtd\">\n<!-- Generated by graphviz version 2.40.1 (20161225.0304)\n -->\n<!-- Title: Tree Pages: 1 -->\n<svg width=\"5707pt\" height=\"581pt\"\n viewBox=\"0.00 0.00 5707.00 581.00\" xmlns=\"http://www.w3.org/2000/svg\" xmlns:xlink=\"http://www.w3.org/1999/xlink\">\n<g id=\"graph0\" class=\"graph\" transform=\"scale(1 1) rotate(0) translate(4 577)\">\n<title>Tree</title>\n<polygon fill=\"#ffffff\" stroke=\"transparent\" points=\"-4,4 -4,-577 5703,-577 5703,4 -4,4\"/>\n<!-- 0 -->\n<g id=\"node1\" class=\"node\">\n<title>0</title>\n<polygon fill=\"#ffffff\" stroke=\"#000000\" points=\"3348,-573 3150,-573 3150,-505 3348,-505 3348,-573\"/>\n<text text-anchor=\"middle\" x=\"3249\" y=\"-557.8\" font-family=\"Helvetica,sans-Serif\" font-size=\"14.00\" fill=\"#000000\">X[5] &lt;= 1.5</text>\n<text text-anchor=\"middle\" x=\"3249\" y=\"-542.8\" font-family=\"Helvetica,sans-Serif\" font-size=\"14.00\" fill=\"#000000\">gini = 0.5</text>\n<text text-anchor=\"middle\" x=\"3249\" y=\"-527.8\" font-family=\"Helvetica,sans-Serif\" font-size=\"14.00\" fill=\"#000000\">samples = 5717181</text>\n<text text-anchor=\"middle\" x=\"3249\" y=\"-512.8\" font-family=\"Helvetica,sans-Serif\" font-size=\"14.00\" fill=\"#000000\">value = [2858694, 2858487]</text>\n</g>\n<!-- 1 -->\n<g id=\"node2\" class=\"node\">\n<title>1</title>\n<polygon fill=\"#bedff7\" stroke=\"#000000\" points=\"2367,-469 2169,-469 2169,-401 2367,-401 2367,-469\"/>\n<text text-anchor=\"middle\" x=\"2268\" y=\"-453.8\" font-family=\"Helvetica,sans-Serif\" font-size=\"14.00\" fill=\"#000000\">X[6] &lt;= 1.5</text>\n<text text-anchor=\"middle\" x=\"2268\" y=\"-438.8\" font-family=\"Helvetica,sans-Serif\" font-size=\"14.00\" fill=\"#000000\">gini = 0.481</text>\n<text text-anchor=\"middle\" x=\"2268\" y=\"-423.8\" font-family=\"Helvetica,sans-Serif\" font-size=\"14.00\" fill=\"#000000\">samples = 4256655</text>\n<text text-anchor=\"middle\" x=\"2268\" y=\"-408.8\" font-family=\"Helvetica,sans-Serif\" font-size=\"14.00\" fill=\"#000000\">value = [1713957, 2542698]</text>\n</g>\n<!-- 0&#45;&gt;1 -->\n<g id=\"edge1\" class=\"edge\">\n<title>0&#45;&gt;1</title>\n<path fill=\"none\" stroke=\"#000000\" d=\"M3149.9926,-528.5038C2965.2685,-508.9204 2569.4446,-466.9574 2377.2263,-446.5796\"/>\n<polygon fill=\"#000000\" stroke=\"#000000\" points=\"2377.4197,-443.0805 2367.1064,-445.5067 2376.6816,-450.0415 2377.4197,-443.0805\"/>\n<text text-anchor=\"middle\" x=\"2382.8219\" y=\"-461.2495\" font-family=\"Helvetica,sans-Serif\" font-size=\"14.00\" fill=\"#000000\">True</text>\n</g>\n<!-- 32 -->\n<g id=\"node33\" class=\"node\">\n<title>32</title>\n<polygon fill=\"#eca470\" stroke=\"#000000\" points=\"3632,-469 3442,-469 3442,-401 3632,-401 3632,-469\"/>\n<text text-anchor=\"middle\" x=\"3537\" y=\"-453.8\" font-family=\"Helvetica,sans-Serif\" font-size=\"14.00\" fill=\"#000000\">X[4] &lt;= 2.5</text>\n<text text-anchor=\"middle\" x=\"3537\" y=\"-438.8\" font-family=\"Helvetica,sans-Serif\" font-size=\"14.00\" fill=\"#000000\">gini = 0.339</text>\n<text text-anchor=\"middle\" x=\"3537\" y=\"-423.8\" font-family=\"Helvetica,sans-Serif\" font-size=\"14.00\" fill=\"#000000\">samples = 1460526</text>\n<text text-anchor=\"middle\" x=\"3537\" y=\"-408.8\" font-family=\"Helvetica,sans-Serif\" font-size=\"14.00\" fill=\"#000000\">value = [1144737, 315789]</text>\n</g>\n<!-- 0&#45;&gt;32 -->\n<g id=\"edge32\" class=\"edge\">\n<title>0&#45;&gt;32</title>\n<path fill=\"none\" stroke=\"#000000\" d=\"M3343.302,-504.9465C3372.0195,-494.5763 3403.7427,-483.1207 3433.0592,-472.5342\"/>\n<polygon fill=\"#000000\" stroke=\"#000000\" points=\"3434.2694,-475.8184 3442.4862,-469.13 3431.8918,-469.2346 3434.2694,-475.8184\"/>\n<text text-anchor=\"middle\" x=\"3431.8635\" y=\"-488.0609\" font-family=\"Helvetica,sans-Serif\" font-size=\"14.00\" fill=\"#000000\">False</text>\n</g>\n<!-- 2 -->\n<g id=\"node3\" class=\"node\">\n<title>2</title>\n<polygon fill=\"#9bcdf2\" stroke=\"#000000\" points=\"1206,-365 1016,-365 1016,-297 1206,-297 1206,-365\"/>\n<text text-anchor=\"middle\" x=\"1111\" y=\"-349.8\" font-family=\"Helvetica,sans-Serif\" font-size=\"14.00\" fill=\"#000000\">X[7] &lt;= 5.5</text>\n<text text-anchor=\"middle\" x=\"1111\" y=\"-334.8\" font-family=\"Helvetica,sans-Serif\" font-size=\"14.00\" fill=\"#000000\">gini = 0.442</text>\n<text text-anchor=\"middle\" x=\"1111\" y=\"-319.8\" font-family=\"Helvetica,sans-Serif\" font-size=\"14.00\" fill=\"#000000\">samples = 2937371</text>\n<text text-anchor=\"middle\" x=\"1111\" y=\"-304.8\" font-family=\"Helvetica,sans-Serif\" font-size=\"14.00\" fill=\"#000000\">value = [970116, 1967255]</text>\n</g>\n<!-- 1&#45;&gt;2 -->\n<g id=\"edge2\" class=\"edge\">\n<title>1&#45;&gt;2</title>\n<path fill=\"none\" stroke=\"#000000\" d=\"M2168.8547,-426.0881C1952.1674,-406.6106 1438.0533,-360.3981 1216.0637,-340.4439\"/>\n<polygon fill=\"#000000\" stroke=\"#000000\" points=\"1216.3106,-336.9521 1206.0373,-339.5427 1215.6838,-343.924 1216.3106,-336.9521\"/>\n</g>\n<!-- 17 -->\n<g id=\"node18\" class=\"node\">\n<title>17</title>\n<polygon fill=\"#f9e2d2\" stroke=\"#000000\" points=\"2359,-365 2177,-365 2177,-297 2359,-297 2359,-365\"/>\n<text text-anchor=\"middle\" x=\"2268\" y=\"-349.8\" font-family=\"Helvetica,sans-Serif\" font-size=\"14.00\" fill=\"#000000\">X[11] &lt;= 4.5</text>\n<text text-anchor=\"middle\" x=\"2268\" y=\"-334.8\" font-family=\"Helvetica,sans-Serif\" font-size=\"14.00\" fill=\"#000000\">gini = 0.492</text>\n<text text-anchor=\"middle\" x=\"2268\" y=\"-319.8\" font-family=\"Helvetica,sans-Serif\" font-size=\"14.00\" fill=\"#000000\">samples = 1319284</text>\n<text text-anchor=\"middle\" x=\"2268\" y=\"-304.8\" font-family=\"Helvetica,sans-Serif\" font-size=\"14.00\" fill=\"#000000\">value = [743841, 575443]</text>\n</g>\n<!-- 1&#45;&gt;17 -->\n<g id=\"edge17\" class=\"edge\">\n<title>1&#45;&gt;17</title>\n<path fill=\"none\" stroke=\"#000000\" d=\"M2268,-400.9465C2268,-392.776 2268,-383.9318 2268,-375.3697\"/>\n<polygon fill=\"#000000\" stroke=\"#000000\" points=\"2271.5001,-375.13 2268,-365.13 2264.5001,-375.13 2271.5001,-375.13\"/>\n</g>\n<!-- 3 -->\n<g id=\"node4\" class=\"node\">\n<title>3</title>\n<polygon fill=\"#95cbf1\" stroke=\"#000000\" points=\"677,-261 487,-261 487,-193 677,-193 677,-261\"/>\n<text text-anchor=\"middle\" x=\"582\" y=\"-245.8\" font-family=\"Helvetica,sans-Serif\" font-size=\"14.00\" fill=\"#000000\">X[4] &lt;= 2.5</text>\n<text text-anchor=\"middle\" x=\"582\" y=\"-230.8\" font-family=\"Helvetica,sans-Serif\" font-size=\"14.00\" fill=\"#000000\">gini = 0.433</text>\n<text text-anchor=\"middle\" x=\"582\" y=\"-215.8\" font-family=\"Helvetica,sans-Serif\" font-size=\"14.00\" fill=\"#000000\">samples = 2852983</text>\n<text text-anchor=\"middle\" x=\"582\" y=\"-200.8\" font-family=\"Helvetica,sans-Serif\" font-size=\"14.00\" fill=\"#000000\">value = [906256, 1946727]</text>\n</g>\n<!-- 2&#45;&gt;3 -->\n<g id=\"edge3\" class=\"edge\">\n<title>2&#45;&gt;3</title>\n<path fill=\"none\" stroke=\"#000000\" d=\"M1015.8144,-312.2868C923.3044,-294.0995 783.1227,-266.5402 687.3133,-247.7043\"/>\n<polygon fill=\"#000000\" stroke=\"#000000\" points=\"687.7996,-244.233 677.3122,-245.7381 686.4492,-251.1015 687.7996,-244.233\"/>\n</g>\n<!-- 10 -->\n<g id=\"node11\" class=\"node\">\n<title>10</title>\n<polygon fill=\"#edaa79\" stroke=\"#000000\" points=\"1193.5,-261 1028.5,-261 1028.5,-193 1193.5,-193 1193.5,-261\"/>\n<text text-anchor=\"middle\" x=\"1111\" y=\"-245.8\" font-family=\"Helvetica,sans-Serif\" font-size=\"14.00\" fill=\"#000000\">X[11] &lt;= 4.5</text>\n<text text-anchor=\"middle\" x=\"1111\" y=\"-230.8\" font-family=\"Helvetica,sans-Serif\" font-size=\"14.00\" fill=\"#000000\">gini = 0.368</text>\n<text text-anchor=\"middle\" x=\"1111\" y=\"-215.8\" font-family=\"Helvetica,sans-Serif\" font-size=\"14.00\" fill=\"#000000\">samples = 84388</text>\n<text text-anchor=\"middle\" x=\"1111\" y=\"-200.8\" font-family=\"Helvetica,sans-Serif\" font-size=\"14.00\" fill=\"#000000\">value = [63860, 20528]</text>\n</g>\n<!-- 2&#45;&gt;10 -->\n<g id=\"edge10\" class=\"edge\">\n<title>2&#45;&gt;10</title>\n<path fill=\"none\" stroke=\"#000000\" d=\"M1111,-296.9465C1111,-288.776 1111,-279.9318 1111,-271.3697\"/>\n<polygon fill=\"#000000\" stroke=\"#000000\" points=\"1114.5001,-271.13 1111,-261.13 1107.5001,-271.13 1114.5001,-271.13\"/>\n</g>\n<!-- 4 -->\n<g id=\"node5\" class=\"node\">\n<title>4</title>\n<polygon fill=\"#8ec7f0\" stroke=\"#000000\" points=\"394,-157 204,-157 204,-89 394,-89 394,-157\"/>\n<text text-anchor=\"middle\" x=\"299\" y=\"-141.8\" font-family=\"Helvetica,sans-Serif\" font-size=\"14.00\" fill=\"#000000\">X[11] &lt;= 4.5</text>\n<text text-anchor=\"middle\" x=\"299\" y=\"-126.8\" font-family=\"Helvetica,sans-Serif\" font-size=\"14.00\" fill=\"#000000\">gini = 0.421</text>\n<text text-anchor=\"middle\" x=\"299\" y=\"-111.8\" font-family=\"Helvetica,sans-Serif\" font-size=\"14.00\" fill=\"#000000\">samples = 2691905</text>\n<text text-anchor=\"middle\" x=\"299\" y=\"-96.8\" font-family=\"Helvetica,sans-Serif\" font-size=\"14.00\" fill=\"#000000\">value = [809753, 1882152]</text>\n</g>\n<!-- 3&#45;&gt;4 -->\n<g id=\"edge4\" class=\"edge\">\n<title>3&#45;&gt;4</title>\n<path fill=\"none\" stroke=\"#000000\" d=\"M489.3352,-192.9465C461.2384,-182.6212 430.2137,-171.2199 401.5105,-160.6717\"/>\n<polygon fill=\"#000000\" stroke=\"#000000\" points=\"402.4665,-157.2942 391.873,-157.13 400.0519,-163.8646 402.4665,-157.2942\"/>\n</g>\n<!-- 7 -->\n<g id=\"node8\" class=\"node\">\n<title>7</title>\n<polygon fill=\"#f6d5bd\" stroke=\"#000000\" points=\"664.5,-157 499.5,-157 499.5,-89 664.5,-89 664.5,-157\"/>\n<text text-anchor=\"middle\" x=\"582\" y=\"-141.8\" font-family=\"Helvetica,sans-Serif\" font-size=\"14.00\" fill=\"#000000\">X[2] &lt;= 21927406.0</text>\n<text text-anchor=\"middle\" x=\"582\" y=\"-126.8\" font-family=\"Helvetica,sans-Serif\" font-size=\"14.00\" fill=\"#000000\">gini = 0.48</text>\n<text text-anchor=\"middle\" x=\"582\" y=\"-111.8\" font-family=\"Helvetica,sans-Serif\" font-size=\"14.00\" fill=\"#000000\">samples = 161078</text>\n<text text-anchor=\"middle\" x=\"582\" y=\"-96.8\" font-family=\"Helvetica,sans-Serif\" font-size=\"14.00\" fill=\"#000000\">value = [96503, 64575]</text>\n</g>\n<!-- 3&#45;&gt;7 -->\n<g id=\"edge7\" class=\"edge\">\n<title>3&#45;&gt;7</title>\n<path fill=\"none\" stroke=\"#000000\" d=\"M582,-192.9465C582,-184.776 582,-175.9318 582,-167.3697\"/>\n<polygon fill=\"#000000\" stroke=\"#000000\" points=\"585.5001,-167.13 582,-157.13 578.5001,-167.13 585.5001,-167.13\"/>\n</g>\n<!-- 5 -->\n<g id=\"node6\" class=\"node\">\n<title>5</title>\n<polygon fill=\"#86c3ef\" stroke=\"#000000\" points=\"190,-53 0,-53 0,0 190,0 190,-53\"/>\n<text text-anchor=\"middle\" x=\"95\" y=\"-37.8\" font-family=\"Helvetica,sans-Serif\" font-size=\"14.00\" fill=\"#000000\">gini = 0.402</text>\n<text text-anchor=\"middle\" x=\"95\" y=\"-22.8\" font-family=\"Helvetica,sans-Serif\" font-size=\"14.00\" fill=\"#000000\">samples = 2418152</text>\n<text text-anchor=\"middle\" x=\"95\" y=\"-7.8\" font-family=\"Helvetica,sans-Serif\" font-size=\"14.00\" fill=\"#000000\">value = [674507, 1743645]</text>\n</g>\n<!-- 4&#45;&gt;5 -->\n<g id=\"edge5\" class=\"edge\">\n<title>4&#45;&gt;5</title>\n<path fill=\"none\" stroke=\"#000000\" d=\"M227.0772,-88.9777C205.3934,-78.7204 181.718,-67.521 160.4771,-57.4732\"/>\n<polygon fill=\"#000000\" stroke=\"#000000\" points=\"161.7579,-54.2073 151.2216,-53.095 158.7646,-60.5351 161.7579,-54.2073\"/>\n</g>\n<!-- 6 -->\n<g id=\"node7\" class=\"node\">\n<title>6</title>\n<polygon fill=\"#fafdfe\" stroke=\"#000000\" points=\"390,-53 208,-53 208,0 390,0 390,-53\"/>\n<text text-anchor=\"middle\" x=\"299\" y=\"-37.8\" font-family=\"Helvetica,sans-Serif\" font-size=\"14.00\" fill=\"#000000\">gini = 0.5</text>\n<text text-anchor=\"middle\" x=\"299\" y=\"-22.8\" font-family=\"Helvetica,sans-Serif\" font-size=\"14.00\" fill=\"#000000\">samples = 273753</text>\n<text text-anchor=\"middle\" x=\"299\" y=\"-7.8\" font-family=\"Helvetica,sans-Serif\" font-size=\"14.00\" fill=\"#000000\">value = [135246, 138507]</text>\n</g>\n<!-- 4&#45;&gt;6 -->\n<g id=\"edge6\" class=\"edge\">\n<title>4&#45;&gt;6</title>\n<path fill=\"none\" stroke=\"#000000\" d=\"M299,-88.9777C299,-80.7364 299,-71.887 299,-63.5153\"/>\n<polygon fill=\"#000000\" stroke=\"#000000\" points=\"302.5001,-63.2484 299,-53.2485 295.5001,-63.2485 302.5001,-63.2484\"/>\n</g>\n<!-- 8 -->\n<g id=\"node9\" class=\"node\">\n<title>8</title>\n<polygon fill=\"#f4cbae\" stroke=\"#000000\" points=\"573.5,-53 408.5,-53 408.5,0 573.5,0 573.5,-53\"/>\n<text text-anchor=\"middle\" x=\"491\" y=\"-37.8\" font-family=\"Helvetica,sans-Serif\" font-size=\"14.00\" fill=\"#000000\">gini = 0.467</text>\n<text text-anchor=\"middle\" x=\"491\" y=\"-22.8\" font-family=\"Helvetica,sans-Serif\" font-size=\"14.00\" fill=\"#000000\">samples = 140690</text>\n<text text-anchor=\"middle\" x=\"491\" y=\"-7.8\" font-family=\"Helvetica,sans-Serif\" font-size=\"14.00\" fill=\"#000000\">value = [88517, 52173]</text>\n</g>\n<!-- 7&#45;&gt;8 -->\n<g id=\"edge8\" class=\"edge\">\n<title>7&#45;&gt;8</title>\n<path fill=\"none\" stroke=\"#000000\" d=\"M549.9168,-88.9777C541.2817,-79.8207 531.9386,-69.9129 523.2922,-60.744\"/>\n<polygon fill=\"#000000\" stroke=\"#000000\" points=\"525.6311,-58.1226 516.224,-53.2485 520.5383,-62.9251 525.6311,-58.1226\"/>\n</g>\n<!-- 9 -->\n<g id=\"node10\" class=\"node\">\n<title>9</title>\n<polygon fill=\"#b8dcf6\" stroke=\"#000000\" points=\"748.5,-53 591.5,-53 591.5,0 748.5,0 748.5,-53\"/>\n<text text-anchor=\"middle\" x=\"670\" y=\"-37.8\" font-family=\"Helvetica,sans-Serif\" font-size=\"14.00\" fill=\"#000000\">gini = 0.477</text>\n<text text-anchor=\"middle\" x=\"670\" y=\"-22.8\" font-family=\"Helvetica,sans-Serif\" font-size=\"14.00\" fill=\"#000000\">samples = 20388</text>\n<text text-anchor=\"middle\" x=\"670\" y=\"-7.8\" font-family=\"Helvetica,sans-Serif\" font-size=\"14.00\" fill=\"#000000\">value = [7986, 12402]</text>\n</g>\n<!-- 7&#45;&gt;9 -->\n<g id=\"edge9\" class=\"edge\">\n<title>7&#45;&gt;9</title>\n<path fill=\"none\" stroke=\"#000000\" d=\"M613.0255,-88.9777C621.3759,-79.8207 630.411,-69.9129 638.7724,-60.744\"/>\n<polygon fill=\"#000000\" stroke=\"#000000\" points=\"641.4556,-62.9959 645.6076,-53.2485 636.2833,-58.2791 641.4556,-62.9959\"/>\n</g>\n<!-- 11 -->\n<g id=\"node12\" class=\"node\">\n<title>11</title>\n<polygon fill=\"#eead7e\" stroke=\"#000000\" points=\"1104.5,-157 939.5,-157 939.5,-89 1104.5,-89 1104.5,-157\"/>\n<text text-anchor=\"middle\" x=\"1022\" y=\"-141.8\" font-family=\"Helvetica,sans-Serif\" font-size=\"14.00\" fill=\"#000000\">X[4] &lt;= 1.5</text>\n<text text-anchor=\"middle\" x=\"1022\" y=\"-126.8\" font-family=\"Helvetica,sans-Serif\" font-size=\"14.00\" fill=\"#000000\">gini = 0.384</text>\n<text text-anchor=\"middle\" x=\"1022\" y=\"-111.8\" font-family=\"Helvetica,sans-Serif\" font-size=\"14.00\" fill=\"#000000\">samples = 71786</text>\n<text text-anchor=\"middle\" x=\"1022\" y=\"-96.8\" font-family=\"Helvetica,sans-Serif\" font-size=\"14.00\" fill=\"#000000\">value = [53198, 18588]</text>\n</g>\n<!-- 10&#45;&gt;11 -->\n<g id=\"edge11\" class=\"edge\">\n<title>10&#45;&gt;11</title>\n<path fill=\"none\" stroke=\"#000000\" d=\"M1081.8581,-192.9465C1074.1745,-183.968 1065.7947,-174.1758 1057.8041,-164.8385\"/>\n<polygon fill=\"#000000\" stroke=\"#000000\" points=\"1060.3685,-162.4521 1051.2074,-157.13 1055.0501,-167.0034 1060.3685,-162.4521\"/>\n</g>\n<!-- 14 -->\n<g id=\"node15\" class=\"node\">\n<title>14</title>\n<polygon fill=\"#ea985d\" stroke=\"#000000\" points=\"1279.5,-157 1122.5,-157 1122.5,-89 1279.5,-89 1279.5,-157\"/>\n<text text-anchor=\"middle\" x=\"1201\" y=\"-141.8\" font-family=\"Helvetica,sans-Serif\" font-size=\"14.00\" fill=\"#000000\">X[9] &lt;= 3.5</text>\n<text text-anchor=\"middle\" x=\"1201\" y=\"-126.8\" font-family=\"Helvetica,sans-Serif\" font-size=\"14.00\" fill=\"#000000\">gini = 0.26</text>\n<text text-anchor=\"middle\" x=\"1201\" y=\"-111.8\" font-family=\"Helvetica,sans-Serif\" font-size=\"14.00\" fill=\"#000000\">samples = 12602</text>\n<text text-anchor=\"middle\" x=\"1201\" y=\"-96.8\" font-family=\"Helvetica,sans-Serif\" font-size=\"14.00\" fill=\"#000000\">value = [10662, 1940]</text>\n</g>\n<!-- 10&#45;&gt;14 -->\n<g id=\"edge14\" class=\"edge\">\n<title>10&#45;&gt;14</title>\n<path fill=\"none\" stroke=\"#000000\" d=\"M1140.4694,-192.9465C1148.2393,-183.968 1156.7132,-174.1758 1164.7936,-164.8385\"/>\n<polygon fill=\"#000000\" stroke=\"#000000\" points=\"1167.5672,-166.982 1171.4644,-157.13 1162.274,-162.4014 1167.5672,-166.982\"/>\n</g>\n<!-- 12 -->\n<g id=\"node13\" class=\"node\">\n<title>12</title>\n<polygon fill=\"#eca471\" stroke=\"#000000\" points=\"923.5,-53 766.5,-53 766.5,0 923.5,0 923.5,-53\"/>\n<text text-anchor=\"middle\" x=\"845\" y=\"-37.8\" font-family=\"Helvetica,sans-Serif\" font-size=\"14.00\" fill=\"#000000\">gini = 0.343</text>\n<text text-anchor=\"middle\" x=\"845\" y=\"-22.8\" font-family=\"Helvetica,sans-Serif\" font-size=\"14.00\" fill=\"#000000\">samples = 30773</text>\n<text text-anchor=\"middle\" x=\"845\" y=\"-7.8\" font-family=\"Helvetica,sans-Serif\" font-size=\"14.00\" fill=\"#000000\">value = [24020, 6753]</text>\n</g>\n<!-- 11&#45;&gt;12 -->\n<g id=\"edge12\" class=\"edge\">\n<title>11&#45;&gt;12</title>\n<path fill=\"none\" stroke=\"#000000\" d=\"M959.5964,-88.9777C941.2044,-78.9504 921.1609,-68.0228 903.0538,-58.1508\"/>\n<polygon fill=\"#000000\" stroke=\"#000000\" points=\"904.2358,-54.8089 893.7805,-53.095 900.885,-60.9548 904.2358,-54.8089\"/>\n</g>\n<!-- 13 -->\n<g id=\"node14\" class=\"node\">\n<title>13</title>\n<polygon fill=\"#f0b489\" stroke=\"#000000\" points=\"1106.5,-53 941.5,-53 941.5,0 1106.5,0 1106.5,-53\"/>\n<text text-anchor=\"middle\" x=\"1024\" y=\"-37.8\" font-family=\"Helvetica,sans-Serif\" font-size=\"14.00\" fill=\"#000000\">gini = 0.411</text>\n<text text-anchor=\"middle\" x=\"1024\" y=\"-22.8\" font-family=\"Helvetica,sans-Serif\" font-size=\"14.00\" fill=\"#000000\">samples = 41013</text>\n<text text-anchor=\"middle\" x=\"1024\" y=\"-7.8\" font-family=\"Helvetica,sans-Serif\" font-size=\"14.00\" fill=\"#000000\">value = [29178, 11835]</text>\n</g>\n<!-- 11&#45;&gt;13 -->\n<g id=\"edge13\" class=\"edge\">\n<title>11&#45;&gt;13</title>\n<path fill=\"none\" stroke=\"#000000\" d=\"M1022.7051,-88.9777C1022.8759,-80.7364 1023.0593,-71.887 1023.2328,-63.5153\"/>\n<polygon fill=\"#000000\" stroke=\"#000000\" points=\"1026.7376,-63.3189 1023.4456,-53.2485 1019.7391,-63.1738 1026.7376,-63.3189\"/>\n</g>\n<!-- 15 -->\n<g id=\"node16\" class=\"node\">\n<title>15</title>\n<polygon fill=\"#e99356\" stroke=\"#000000\" points=\"1273.5,-53 1124.5,-53 1124.5,0 1273.5,0 1273.5,-53\"/>\n<text text-anchor=\"middle\" x=\"1199\" y=\"-37.8\" font-family=\"Helvetica,sans-Serif\" font-size=\"14.00\" fill=\"#000000\">gini = 0.221</text>\n<text text-anchor=\"middle\" x=\"1199\" y=\"-22.8\" font-family=\"Helvetica,sans-Serif\" font-size=\"14.00\" fill=\"#000000\">samples = 9946</text>\n<text text-anchor=\"middle\" x=\"1199\" y=\"-7.8\" font-family=\"Helvetica,sans-Serif\" font-size=\"14.00\" fill=\"#000000\">value = [8687, 1259]</text>\n</g>\n<!-- 14&#45;&gt;15 -->\n<g id=\"edge15\" class=\"edge\">\n<title>14&#45;&gt;15</title>\n<path fill=\"none\" stroke=\"#000000\" d=\"M1200.2949,-88.9777C1200.1241,-80.7364 1199.9407,-71.887 1199.7672,-63.5153\"/>\n<polygon fill=\"#000000\" stroke=\"#000000\" points=\"1203.2609,-63.1738 1199.5544,-53.2485 1196.2624,-63.3189 1203.2609,-63.1738\"/>\n</g>\n<!-- 16 -->\n<g id=\"node17\" class=\"node\">\n<title>16</title>\n<polygon fill=\"#eeac7d\" stroke=\"#000000\" points=\"1432,-53 1292,-53 1292,0 1432,0 1432,-53\"/>\n<text text-anchor=\"middle\" x=\"1362\" y=\"-37.8\" font-family=\"Helvetica,sans-Serif\" font-size=\"14.00\" fill=\"#000000\">gini = 0.381</text>\n<text text-anchor=\"middle\" x=\"1362\" y=\"-22.8\" font-family=\"Helvetica,sans-Serif\" font-size=\"14.00\" fill=\"#000000\">samples = 2656</text>\n<text text-anchor=\"middle\" x=\"1362\" y=\"-7.8\" font-family=\"Helvetica,sans-Serif\" font-size=\"14.00\" fill=\"#000000\">value = [1975, 681]</text>\n</g>\n<!-- 14&#45;&gt;16 -->\n<g id=\"edge16\" class=\"edge\">\n<title>14&#45;&gt;16</title>\n<path fill=\"none\" stroke=\"#000000\" d=\"M1257.7626,-88.9777C1274.3386,-79.0424 1292.3893,-68.2232 1308.7402,-58.4228\"/>\n<polygon fill=\"#000000\" stroke=\"#000000\" points=\"1310.8511,-61.2382 1317.629,-53.095 1307.2523,-55.2341 1310.8511,-61.2382\"/>\n</g>\n<!-- 18 -->\n<g id=\"node19\" class=\"node\">\n<title>18</title>\n<polygon fill=\"#fceee5\" stroke=\"#000000\" points=\"2105,-261 1923,-261 1923,-193 2105,-193 2105,-261\"/>\n<text text-anchor=\"middle\" x=\"2014\" y=\"-245.8\" font-family=\"Helvetica,sans-Serif\" font-size=\"14.00\" fill=\"#000000\">X[4] &lt;= 2.5</text>\n<text text-anchor=\"middle\" x=\"2014\" y=\"-230.8\" font-family=\"Helvetica,sans-Serif\" font-size=\"14.00\" fill=\"#000000\">gini = 0.498</text>\n<text text-anchor=\"middle\" x=\"2014\" y=\"-215.8\" font-family=\"Helvetica,sans-Serif\" font-size=\"14.00\" fill=\"#000000\">samples = 1136592</text>\n<text text-anchor=\"middle\" x=\"2014\" y=\"-200.8\" font-family=\"Helvetica,sans-Serif\" font-size=\"14.00\" fill=\"#000000\">value = [608249, 528343]</text>\n</g>\n<!-- 17&#45;&gt;18 -->\n<g id=\"edge18\" class=\"edge\">\n<title>17&#45;&gt;18</title>\n<path fill=\"none\" stroke=\"#000000\" d=\"M2184.8309,-296.9465C2159.8326,-286.711 2132.2518,-275.4181 2106.6784,-264.9471\"/>\n<polygon fill=\"#000000\" stroke=\"#000000\" points=\"2107.9365,-261.6802 2097.356,-261.13 2105.284,-268.1582 2107.9365,-261.6802\"/>\n</g>\n<!-- 25 -->\n<g id=\"node26\" class=\"node\">\n<title>25</title>\n<polygon fill=\"#eead7e\" stroke=\"#000000\" points=\"2444.5,-261 2271.5,-261 2271.5,-193 2444.5,-193 2444.5,-261\"/>\n<text text-anchor=\"middle\" x=\"2358\" y=\"-245.8\" font-family=\"Helvetica,sans-Serif\" font-size=\"14.00\" fill=\"#000000\">X[9] &lt;= 1.5</text>\n<text text-anchor=\"middle\" x=\"2358\" y=\"-230.8\" font-family=\"Helvetica,sans-Serif\" font-size=\"14.00\" fill=\"#000000\">gini = 0.383</text>\n<text text-anchor=\"middle\" x=\"2358\" y=\"-215.8\" font-family=\"Helvetica,sans-Serif\" font-size=\"14.00\" fill=\"#000000\">samples = 182692</text>\n<text text-anchor=\"middle\" x=\"2358\" y=\"-200.8\" font-family=\"Helvetica,sans-Serif\" font-size=\"14.00\" fill=\"#000000\">value = [135592, 47100]</text>\n</g>\n<!-- 17&#45;&gt;25 -->\n<g id=\"edge25\" class=\"edge\">\n<title>17&#45;&gt;25</title>\n<path fill=\"none\" stroke=\"#000000\" d=\"M2297.4694,-296.9465C2305.2393,-287.968 2313.7132,-278.1758 2321.7936,-268.8385\"/>\n<polygon fill=\"#000000\" stroke=\"#000000\" points=\"2324.5672,-270.982 2328.4644,-261.13 2319.274,-266.4014 2324.5672,-270.982\"/>\n</g>\n<!-- 19 -->\n<g id=\"node20\" class=\"node\">\n<title>19</title>\n<polygon fill=\"#fdf7f3\" stroke=\"#000000\" points=\"1828,-157 1646,-157 1646,-89 1828,-89 1828,-157\"/>\n<text text-anchor=\"middle\" x=\"1737\" y=\"-141.8\" font-family=\"Helvetica,sans-Serif\" font-size=\"14.00\" fill=\"#000000\">X[7] &lt;= 4.5</text>\n<text text-anchor=\"middle\" x=\"1737\" y=\"-126.8\" font-family=\"Helvetica,sans-Serif\" font-size=\"14.00\" fill=\"#000000\">gini = 0.5</text>\n<text text-anchor=\"middle\" x=\"1737\" y=\"-111.8\" font-family=\"Helvetica,sans-Serif\" font-size=\"14.00\" fill=\"#000000\">samples = 1045710</text>\n<text text-anchor=\"middle\" x=\"1737\" y=\"-96.8\" font-family=\"Helvetica,sans-Serif\" font-size=\"14.00\" fill=\"#000000\">value = [539021, 506689]</text>\n</g>\n<!-- 18&#45;&gt;19 -->\n<g id=\"edge19\" class=\"edge\">\n<title>18&#45;&gt;19</title>\n<path fill=\"none\" stroke=\"#000000\" d=\"M1923.2998,-192.9465C1895.7988,-182.6212 1865.4318,-171.2199 1837.3371,-160.6717\"/>\n<polygon fill=\"#000000\" stroke=\"#000000\" points=\"1838.4961,-157.3683 1827.9039,-157.13 1836.0356,-163.9217 1838.4961,-157.3683\"/>\n</g>\n<!-- 22 -->\n<g id=\"node23\" class=\"node\">\n<title>22</title>\n<polygon fill=\"#eda877\" stroke=\"#000000\" points=\"2096.5,-157 1931.5,-157 1931.5,-89 2096.5,-89 2096.5,-157\"/>\n<text text-anchor=\"middle\" x=\"2014\" y=\"-141.8\" font-family=\"Helvetica,sans-Serif\" font-size=\"14.00\" fill=\"#000000\">X[10] &lt;= 17.5</text>\n<text text-anchor=\"middle\" x=\"2014\" y=\"-126.8\" font-family=\"Helvetica,sans-Serif\" font-size=\"14.00\" fill=\"#000000\">gini = 0.363</text>\n<text text-anchor=\"middle\" x=\"2014\" y=\"-111.8\" font-family=\"Helvetica,sans-Serif\" font-size=\"14.00\" fill=\"#000000\">samples = 90882</text>\n<text text-anchor=\"middle\" x=\"2014\" y=\"-96.8\" font-family=\"Helvetica,sans-Serif\" font-size=\"14.00\" fill=\"#000000\">value = [69228, 21654]</text>\n</g>\n<!-- 18&#45;&gt;22 -->\n<g id=\"edge22\" class=\"edge\">\n<title>18&#45;&gt;22</title>\n<path fill=\"none\" stroke=\"#000000\" d=\"M2014,-192.9465C2014,-184.776 2014,-175.9318 2014,-167.3697\"/>\n<polygon fill=\"#000000\" stroke=\"#000000\" points=\"2017.5001,-167.13 2014,-157.13 2010.5001,-167.13 2017.5001,-167.13\"/>\n</g>\n<!-- 20 -->\n<g id=\"node21\" class=\"node\">\n<title>20</title>\n<polygon fill=\"#f5fafe\" stroke=\"#000000\" points=\"1632,-53 1450,-53 1450,0 1632,0 1632,-53\"/>\n<text text-anchor=\"middle\" x=\"1541\" y=\"-37.8\" font-family=\"Helvetica,sans-Serif\" font-size=\"14.00\" fill=\"#000000\">gini = 0.5</text>\n<text text-anchor=\"middle\" x=\"1541\" y=\"-22.8\" font-family=\"Helvetica,sans-Serif\" font-size=\"14.00\" fill=\"#000000\">samples = 874636</text>\n<text text-anchor=\"middle\" x=\"1541\" y=\"-7.8\" font-family=\"Helvetica,sans-Serif\" font-size=\"14.00\" fill=\"#000000\">value = [425684, 448952]</text>\n</g>\n<!-- 19&#45;&gt;20 -->\n<g id=\"edge20\" class=\"edge\">\n<title>19&#45;&gt;20</title>\n<path fill=\"none\" stroke=\"#000000\" d=\"M1667.8977,-88.9777C1647.1577,-78.7664 1624.5213,-67.6214 1604.1841,-57.6085\"/>\n<polygon fill=\"#000000\" stroke=\"#000000\" points=\"1605.5344,-54.3722 1595.0168,-53.095 1602.4424,-60.6523 1605.5344,-54.3722\"/>\n</g>\n<!-- 21 -->\n<g id=\"node22\" class=\"node\">\n<title>21</title>\n<polygon fill=\"#f2c19e\" stroke=\"#000000\" points=\"1823.5,-53 1650.5,-53 1650.5,0 1823.5,0 1823.5,-53\"/>\n<text text-anchor=\"middle\" x=\"1737\" y=\"-37.8\" font-family=\"Helvetica,sans-Serif\" font-size=\"14.00\" fill=\"#000000\">gini = 0.447</text>\n<text text-anchor=\"middle\" x=\"1737\" y=\"-22.8\" font-family=\"Helvetica,sans-Serif\" font-size=\"14.00\" fill=\"#000000\">samples = 171074</text>\n<text text-anchor=\"middle\" x=\"1737\" y=\"-7.8\" font-family=\"Helvetica,sans-Serif\" font-size=\"14.00\" fill=\"#000000\">value = [113337, 57737]</text>\n</g>\n<!-- 19&#45;&gt;21 -->\n<g id=\"edge21\" class=\"edge\">\n<title>19&#45;&gt;21</title>\n<path fill=\"none\" stroke=\"#000000\" d=\"M1737,-88.9777C1737,-80.7364 1737,-71.887 1737,-63.5153\"/>\n<polygon fill=\"#000000\" stroke=\"#000000\" points=\"1740.5001,-63.2484 1737,-53.2485 1733.5001,-63.2485 1740.5001,-63.2484\"/>\n</g>\n<!-- 23 -->\n<g id=\"node24\" class=\"node\">\n<title>23</title>\n<polygon fill=\"#e9965a\" stroke=\"#000000\" points=\"1998.5,-53 1841.5,-53 1841.5,0 1998.5,0 1998.5,-53\"/>\n<text text-anchor=\"middle\" x=\"1920\" y=\"-37.8\" font-family=\"Helvetica,sans-Serif\" font-size=\"14.00\" fill=\"#000000\">gini = 0.247</text>\n<text text-anchor=\"middle\" x=\"1920\" y=\"-22.8\" font-family=\"Helvetica,sans-Serif\" font-size=\"14.00\" fill=\"#000000\">samples = 19462</text>\n<text text-anchor=\"middle\" x=\"1920\" y=\"-7.8\" font-family=\"Helvetica,sans-Serif\" font-size=\"14.00\" fill=\"#000000\">value = [16653, 2809]</text>\n</g>\n<!-- 22&#45;&gt;23 -->\n<g id=\"edge23\" class=\"edge\">\n<title>22&#45;&gt;23</title>\n<path fill=\"none\" stroke=\"#000000\" d=\"M1980.8591,-88.9777C1971.8502,-79.7292 1962.0952,-69.7147 1953.0891,-60.4691\"/>\n<polygon fill=\"#000000\" stroke=\"#000000\" points=\"1955.5404,-57.9696 1946.0555,-53.2485 1950.5261,-62.8539 1955.5404,-57.9696\"/>\n</g>\n<!-- 24 -->\n<g id=\"node25\" class=\"node\">\n<title>24</title>\n<polygon fill=\"#eeae80\" stroke=\"#000000\" points=\"2181.5,-53 2016.5,-53 2016.5,0 2181.5,0 2181.5,-53\"/>\n<text text-anchor=\"middle\" x=\"2099\" y=\"-37.8\" font-family=\"Helvetica,sans-Serif\" font-size=\"14.00\" fill=\"#000000\">gini = 0.388</text>\n<text text-anchor=\"middle\" x=\"2099\" y=\"-22.8\" font-family=\"Helvetica,sans-Serif\" font-size=\"14.00\" fill=\"#000000\">samples = 71420</text>\n<text text-anchor=\"middle\" x=\"2099\" y=\"-7.8\" font-family=\"Helvetica,sans-Serif\" font-size=\"14.00\" fill=\"#000000\">value = [52575, 18845]</text>\n</g>\n<!-- 22&#45;&gt;24 -->\n<g id=\"edge24\" class=\"edge\">\n<title>22&#45;&gt;24</title>\n<path fill=\"none\" stroke=\"#000000\" d=\"M2043.9678,-88.9777C2051.9529,-79.9123 2060.5862,-70.111 2068.5944,-61.0192\"/>\n<polygon fill=\"#000000\" stroke=\"#000000\" points=\"2071.4558,-63.066 2075.4392,-53.2485 2066.2029,-58.4391 2071.4558,-63.066\"/>\n</g>\n<!-- 26 -->\n<g id=\"node27\" class=\"node\">\n<title>26</title>\n<polygon fill=\"#ea985e\" stroke=\"#000000\" points=\"2436.5,-157 2279.5,-157 2279.5,-89 2436.5,-89 2436.5,-157\"/>\n<text text-anchor=\"middle\" x=\"2358\" y=\"-141.8\" font-family=\"Helvetica,sans-Serif\" font-size=\"14.00\" fill=\"#000000\">X[7] &lt;= 4.5</text>\n<text text-anchor=\"middle\" x=\"2358\" y=\"-126.8\" font-family=\"Helvetica,sans-Serif\" font-size=\"14.00\" fill=\"#000000\">gini = 0.264</text>\n<text text-anchor=\"middle\" x=\"2358\" y=\"-111.8\" font-family=\"Helvetica,sans-Serif\" font-size=\"14.00\" fill=\"#000000\">samples = 46714</text>\n<text text-anchor=\"middle\" x=\"2358\" y=\"-96.8\" font-family=\"Helvetica,sans-Serif\" font-size=\"14.00\" fill=\"#000000\">value = [39417, 7297]</text>\n</g>\n<!-- 25&#45;&gt;26 -->\n<g id=\"edge26\" class=\"edge\">\n<title>25&#45;&gt;26</title>\n<path fill=\"none\" stroke=\"#000000\" d=\"M2358,-192.9465C2358,-184.776 2358,-175.9318 2358,-167.3697\"/>\n<polygon fill=\"#000000\" stroke=\"#000000\" points=\"2361.5001,-167.13 2358,-157.13 2354.5001,-167.13 2361.5001,-167.13\"/>\n</g>\n<!-- 29 -->\n<g id=\"node30\" class=\"node\">\n<title>29</title>\n<polygon fill=\"#f0b58b\" stroke=\"#000000\" points=\"2698.5,-157 2533.5,-157 2533.5,-89 2698.5,-89 2698.5,-157\"/>\n<text text-anchor=\"middle\" x=\"2616\" y=\"-141.8\" font-family=\"Helvetica,sans-Serif\" font-size=\"14.00\" fill=\"#000000\">X[11] &lt;= 6.5</text>\n<text text-anchor=\"middle\" x=\"2616\" y=\"-126.8\" font-family=\"Helvetica,sans-Serif\" font-size=\"14.00\" fill=\"#000000\">gini = 0.414</text>\n<text text-anchor=\"middle\" x=\"2616\" y=\"-111.8\" font-family=\"Helvetica,sans-Serif\" font-size=\"14.00\" fill=\"#000000\">samples = 135978</text>\n<text text-anchor=\"middle\" x=\"2616\" y=\"-96.8\" font-family=\"Helvetica,sans-Serif\" font-size=\"14.00\" fill=\"#000000\">value = [96175, 39803]</text>\n</g>\n<!-- 25&#45;&gt;29 -->\n<g id=\"edge29\" class=\"edge\">\n<title>25&#45;&gt;29</title>\n<path fill=\"none\" stroke=\"#000000\" d=\"M2442.4788,-192.9465C2468.508,-182.4541 2497.2937,-170.8506 2523.8138,-160.1603\"/>\n<polygon fill=\"#000000\" stroke=\"#000000\" points=\"2525.1253,-163.4054 2533.0915,-156.4205 2522.5081,-156.913 2525.1253,-163.4054\"/>\n</g>\n<!-- 27 -->\n<g id=\"node28\" class=\"node\">\n<title>27</title>\n<polygon fill=\"#ea9b62\" stroke=\"#000000\" points=\"2356.5,-53 2199.5,-53 2199.5,0 2356.5,0 2356.5,-53\"/>\n<text text-anchor=\"middle\" x=\"2278\" y=\"-37.8\" font-family=\"Helvetica,sans-Serif\" font-size=\"14.00\" fill=\"#000000\">gini = 0.284</text>\n<text text-anchor=\"middle\" x=\"2278\" y=\"-22.8\" font-family=\"Helvetica,sans-Serif\" font-size=\"14.00\" fill=\"#000000\">samples = 37753</text>\n<text text-anchor=\"middle\" x=\"2278\" y=\"-7.8\" font-family=\"Helvetica,sans-Serif\" font-size=\"14.00\" fill=\"#000000\">value = [31292, 6461]</text>\n</g>\n<!-- 26&#45;&gt;27 -->\n<g id=\"edge27\" class=\"edge\">\n<title>26&#45;&gt;27</title>\n<path fill=\"none\" stroke=\"#000000\" d=\"M2329.795,-88.9777C2322.2796,-79.9123 2314.1542,-70.111 2306.617,-61.0192\"/>\n<polygon fill=\"#000000\" stroke=\"#000000\" points=\"2309.2516,-58.7133 2300.1749,-53.2485 2303.8626,-63.1808 2309.2516,-58.7133\"/>\n</g>\n<!-- 28 -->\n<g id=\"node29\" class=\"node\">\n<title>28</title>\n<polygon fill=\"#e88e4d\" stroke=\"#000000\" points=\"2515,-53 2375,-53 2375,0 2515,0 2515,-53\"/>\n<text text-anchor=\"middle\" x=\"2445\" y=\"-37.8\" font-family=\"Helvetica,sans-Serif\" font-size=\"14.00\" fill=\"#000000\">gini = 0.169</text>\n<text text-anchor=\"middle\" x=\"2445\" y=\"-22.8\" font-family=\"Helvetica,sans-Serif\" font-size=\"14.00\" fill=\"#000000\">samples = 8961</text>\n<text text-anchor=\"middle\" x=\"2445\" y=\"-7.8\" font-family=\"Helvetica,sans-Serif\" font-size=\"14.00\" fill=\"#000000\">value = [8125, 836]</text>\n</g>\n<!-- 26&#45;&gt;28 -->\n<g id=\"edge28\" class=\"edge\">\n<title>26&#45;&gt;28</title>\n<path fill=\"none\" stroke=\"#000000\" d=\"M2388.6729,-88.9777C2396.9285,-79.8207 2405.8609,-69.9129 2414.1272,-60.744\"/>\n<polygon fill=\"#000000\" stroke=\"#000000\" points=\"2416.7883,-63.0193 2420.8848,-53.2485 2411.5892,-58.3321 2416.7883,-63.0193\"/>\n</g>\n<!-- 30 -->\n<g id=\"node31\" class=\"node\">\n<title>30</title>\n<polygon fill=\"#f1bd97\" stroke=\"#000000\" points=\"2698.5,-53 2533.5,-53 2533.5,0 2698.5,0 2698.5,-53\"/>\n<text text-anchor=\"middle\" x=\"2616\" y=\"-37.8\" font-family=\"Helvetica,sans-Serif\" font-size=\"14.00\" fill=\"#000000\">gini = 0.436</text>\n<text text-anchor=\"middle\" x=\"2616\" y=\"-22.8\" font-family=\"Helvetica,sans-Serif\" font-size=\"14.00\" fill=\"#000000\">samples = 109482</text>\n<text text-anchor=\"middle\" x=\"2616\" y=\"-7.8\" font-family=\"Helvetica,sans-Serif\" font-size=\"14.00\" fill=\"#000000\">value = [74332, 35150]</text>\n</g>\n<!-- 29&#45;&gt;30 -->\n<g id=\"edge30\" class=\"edge\">\n<title>29&#45;&gt;30</title>\n<path fill=\"none\" stroke=\"#000000\" d=\"M2616,-88.9777C2616,-80.7364 2616,-71.887 2616,-63.5153\"/>\n<polygon fill=\"#000000\" stroke=\"#000000\" points=\"2619.5001,-63.2484 2616,-53.2485 2612.5001,-63.2485 2619.5001,-63.2484\"/>\n</g>\n<!-- 31 -->\n<g id=\"node32\" class=\"node\">\n<title>31</title>\n<polygon fill=\"#eb9c63\" stroke=\"#000000\" points=\"2873.5,-53 2716.5,-53 2716.5,0 2873.5,0 2873.5,-53\"/>\n<text text-anchor=\"middle\" x=\"2795\" y=\"-37.8\" font-family=\"Helvetica,sans-Serif\" font-size=\"14.00\" fill=\"#000000\">gini = 0.29</text>\n<text text-anchor=\"middle\" x=\"2795\" y=\"-22.8\" font-family=\"Helvetica,sans-Serif\" font-size=\"14.00\" fill=\"#000000\">samples = 26496</text>\n<text text-anchor=\"middle\" x=\"2795\" y=\"-7.8\" font-family=\"Helvetica,sans-Serif\" font-size=\"14.00\" fill=\"#000000\">value = [21843, 4653]</text>\n</g>\n<!-- 29&#45;&gt;31 -->\n<g id=\"edge31\" class=\"edge\">\n<title>29&#45;&gt;31</title>\n<path fill=\"none\" stroke=\"#000000\" d=\"M2679.1087,-88.9777C2697.8792,-78.8584 2718.3506,-67.8222 2736.7937,-57.8794\"/>\n<polygon fill=\"#000000\" stroke=\"#000000\" points=\"2738.5268,-60.9213 2745.6683,-53.095 2735.205,-54.7597 2738.5268,-60.9213\"/>\n</g>\n<!-- 33 -->\n<g id=\"node34\" class=\"node\">\n<title>33</title>\n<polygon fill=\"#eeae80\" stroke=\"#000000\" points=\"3628,-365 3446,-365 3446,-297 3628,-297 3628,-365\"/>\n<text text-anchor=\"middle\" x=\"3537\" y=\"-349.8\" font-family=\"Helvetica,sans-Serif\" font-size=\"14.00\" fill=\"#000000\">X[6] &lt;= 1.5</text>\n<text text-anchor=\"middle\" x=\"3537\" y=\"-334.8\" font-family=\"Helvetica,sans-Serif\" font-size=\"14.00\" fill=\"#000000\">gini = 0.389</text>\n<text text-anchor=\"middle\" x=\"3537\" y=\"-319.8\" font-family=\"Helvetica,sans-Serif\" font-size=\"14.00\" fill=\"#000000\">samples = 1020577</text>\n<text text-anchor=\"middle\" x=\"3537\" y=\"-304.8\" font-family=\"Helvetica,sans-Serif\" font-size=\"14.00\" fill=\"#000000\">value = [751119, 269458]</text>\n</g>\n<!-- 32&#45;&gt;33 -->\n<g id=\"edge33\" class=\"edge\">\n<title>32&#45;&gt;33</title>\n<path fill=\"none\" stroke=\"#000000\" d=\"M3537,-400.9465C3537,-392.776 3537,-383.9318 3537,-375.3697\"/>\n<polygon fill=\"#000000\" stroke=\"#000000\" points=\"3540.5001,-375.13 3537,-365.13 3533.5001,-375.13 3540.5001,-375.13\"/>\n</g>\n<!-- 48 -->\n<g id=\"node49\" class=\"node\">\n<title>48</title>\n<polygon fill=\"#e89050\" stroke=\"#000000\" points=\"4783.5,-365 4610.5,-365 4610.5,-297 4783.5,-297 4783.5,-365\"/>\n<text text-anchor=\"middle\" x=\"4697\" y=\"-349.8\" font-family=\"Helvetica,sans-Serif\" font-size=\"14.00\" fill=\"#000000\">X[5] &lt;= 2.5</text>\n<text text-anchor=\"middle\" x=\"4697\" y=\"-334.8\" font-family=\"Helvetica,sans-Serif\" font-size=\"14.00\" fill=\"#000000\">gini = 0.188</text>\n<text text-anchor=\"middle\" x=\"4697\" y=\"-319.8\" font-family=\"Helvetica,sans-Serif\" font-size=\"14.00\" fill=\"#000000\">samples = 439949</text>\n<text text-anchor=\"middle\" x=\"4697\" y=\"-304.8\" font-family=\"Helvetica,sans-Serif\" font-size=\"14.00\" fill=\"#000000\">value = [393618, 46331]</text>\n</g>\n<!-- 32&#45;&gt;48 -->\n<g id=\"edge48\" class=\"edge\">\n<title>32&#45;&gt;48</title>\n<path fill=\"none\" stroke=\"#000000\" d=\"M3632.4206,-426.4451C3850.0844,-406.9304 4381.3247,-359.3019 4600.2546,-339.6737\"/>\n<polygon fill=\"#000000\" stroke=\"#000000\" points=\"4600.7938,-343.1395 4610.4413,-338.7604 4600.1687,-336.1675 4600.7938,-343.1395\"/>\n</g>\n<!-- 34 -->\n<g id=\"node35\" class=\"node\">\n<title>34</title>\n<polygon fill=\"#f2be98\" stroke=\"#000000\" points=\"3537,-261 3355,-261 3355,-193 3537,-193 3537,-261\"/>\n<text text-anchor=\"middle\" x=\"3446\" y=\"-245.8\" font-family=\"Helvetica,sans-Serif\" font-size=\"14.00\" fill=\"#000000\">X[7] &lt;= 5.5</text>\n<text text-anchor=\"middle\" x=\"3446\" y=\"-230.8\" font-family=\"Helvetica,sans-Serif\" font-size=\"14.00\" fill=\"#000000\">gini = 0.439</text>\n<text text-anchor=\"middle\" x=\"3446\" y=\"-215.8\" font-family=\"Helvetica,sans-Serif\" font-size=\"14.00\" fill=\"#000000\">samples = 611674</text>\n<text text-anchor=\"middle\" x=\"3446\" y=\"-200.8\" font-family=\"Helvetica,sans-Serif\" font-size=\"14.00\" fill=\"#000000\">value = [412772, 198902]</text>\n</g>\n<!-- 33&#45;&gt;34 -->\n<g id=\"edge34\" class=\"edge\">\n<title>33&#45;&gt;34</title>\n<path fill=\"none\" stroke=\"#000000\" d=\"M3507.2032,-296.9465C3499.347,-287.968 3490.7788,-278.1758 3482.6087,-268.8385\"/>\n<polygon fill=\"#000000\" stroke=\"#000000\" points=\"3485.0829,-266.351 3475.8637,-261.13 3479.8148,-270.9606 3485.0829,-266.351\"/>\n</g>\n<!-- 41 -->\n<g id=\"node42\" class=\"node\">\n<title>41</title>\n<polygon fill=\"#ea9b62\" stroke=\"#000000\" points=\"3887.5,-261 3714.5,-261 3714.5,-193 3887.5,-193 3887.5,-261\"/>\n<text text-anchor=\"middle\" x=\"3801\" y=\"-245.8\" font-family=\"Helvetica,sans-Serif\" font-size=\"14.00\" fill=\"#000000\">X[11] &lt;= 4.5</text>\n<text text-anchor=\"middle\" x=\"3801\" y=\"-230.8\" font-family=\"Helvetica,sans-Serif\" font-size=\"14.00\" fill=\"#000000\">gini = 0.286</text>\n<text text-anchor=\"middle\" x=\"3801\" y=\"-215.8\" font-family=\"Helvetica,sans-Serif\" font-size=\"14.00\" fill=\"#000000\">samples = 408903</text>\n<text text-anchor=\"middle\" x=\"3801\" y=\"-200.8\" font-family=\"Helvetica,sans-Serif\" font-size=\"14.00\" fill=\"#000000\">value = [338347, 70556]</text>\n</g>\n<!-- 33&#45;&gt;41 -->\n<g id=\"edge41\" class=\"edge\">\n<title>33&#45;&gt;41</title>\n<path fill=\"none\" stroke=\"#000000\" d=\"M3623.4435,-296.9465C3649.5399,-286.6661 3678.3441,-275.319 3705.0225,-264.8093\"/>\n<polygon fill=\"#000000\" stroke=\"#000000\" points=\"3706.3411,-268.0517 3714.3623,-261.13 3703.7754,-261.5389 3706.3411,-268.0517\"/>\n</g>\n<!-- 35 -->\n<g id=\"node36\" class=\"node\">\n<title>35</title>\n<polygon fill=\"#f2c19e\" stroke=\"#000000\" points=\"3266,-157 3084,-157 3084,-89 3266,-89 3266,-157\"/>\n<text text-anchor=\"middle\" x=\"3175\" y=\"-141.8\" font-family=\"Helvetica,sans-Serif\" font-size=\"14.00\" fill=\"#000000\">X[11] &lt;= 4.5</text>\n<text text-anchor=\"middle\" x=\"3175\" y=\"-126.8\" font-family=\"Helvetica,sans-Serif\" font-size=\"14.00\" fill=\"#000000\">gini = 0.447</text>\n<text text-anchor=\"middle\" x=\"3175\" y=\"-111.8\" font-family=\"Helvetica,sans-Serif\" font-size=\"14.00\" fill=\"#000000\">samples = 578663</text>\n<text text-anchor=\"middle\" x=\"3175\" y=\"-96.8\" font-family=\"Helvetica,sans-Serif\" font-size=\"14.00\" fill=\"#000000\">value = [383489, 195174]</text>\n</g>\n<!-- 34&#45;&gt;35 -->\n<g id=\"edge35\" class=\"edge\">\n<title>34&#45;&gt;35</title>\n<path fill=\"none\" stroke=\"#000000\" d=\"M3357.2645,-192.9465C3330.4761,-182.6661 3300.9081,-171.319 3273.5224,-160.8093\"/>\n<polygon fill=\"#000000\" stroke=\"#000000\" points=\"3274.525,-157.4453 3263.9349,-157.13 3272.017,-163.9806 3274.525,-157.4453\"/>\n</g>\n<!-- 38 -->\n<g id=\"node39\" class=\"node\">\n<title>38</title>\n<polygon fill=\"#e89152\" stroke=\"#000000\" points=\"3524.5,-157 3367.5,-157 3367.5,-89 3524.5,-89 3524.5,-157\"/>\n<text text-anchor=\"middle\" x=\"3446\" y=\"-141.8\" font-family=\"Helvetica,sans-Serif\" font-size=\"14.00\" fill=\"#000000\">X[2] &lt;= 20312301.0</text>\n<text text-anchor=\"middle\" x=\"3446\" y=\"-126.8\" font-family=\"Helvetica,sans-Serif\" font-size=\"14.00\" fill=\"#000000\">gini = 0.2</text>\n<text text-anchor=\"middle\" x=\"3446\" y=\"-111.8\" font-family=\"Helvetica,sans-Serif\" font-size=\"14.00\" fill=\"#000000\">samples = 33011</text>\n<text text-anchor=\"middle\" x=\"3446\" y=\"-96.8\" font-family=\"Helvetica,sans-Serif\" font-size=\"14.00\" fill=\"#000000\">value = [29283, 3728]</text>\n</g>\n<!-- 34&#45;&gt;38 -->\n<g id=\"edge38\" class=\"edge\">\n<title>34&#45;&gt;38</title>\n<path fill=\"none\" stroke=\"#000000\" d=\"M3446,-192.9465C3446,-184.776 3446,-175.9318 3446,-167.3697\"/>\n<polygon fill=\"#000000\" stroke=\"#000000\" points=\"3449.5001,-167.13 3446,-157.13 3442.5001,-167.13 3449.5001,-167.13\"/>\n</g>\n<!-- 36 -->\n<g id=\"node37\" class=\"node\">\n<title>36</title>\n<polygon fill=\"#f3c7a6\" stroke=\"#000000\" points=\"3074,-53 2892,-53 2892,0 3074,0 3074,-53\"/>\n<text text-anchor=\"middle\" x=\"2983\" y=\"-37.8\" font-family=\"Helvetica,sans-Serif\" font-size=\"14.00\" fill=\"#000000\">gini = 0.458</text>\n<text text-anchor=\"middle\" x=\"2983\" y=\"-22.8\" font-family=\"Helvetica,sans-Serif\" font-size=\"14.00\" fill=\"#000000\">samples = 510268</text>\n<text text-anchor=\"middle\" x=\"2983\" y=\"-7.8\" font-family=\"Helvetica,sans-Serif\" font-size=\"14.00\" fill=\"#000000\">value = [328802, 181466]</text>\n</g>\n<!-- 35&#45;&gt;36 -->\n<g id=\"edge36\" class=\"edge\">\n<title>35&#45;&gt;36</title>\n<path fill=\"none\" stroke=\"#000000\" d=\"M3107.308,-88.9777C3086.9912,-78.7664 3064.8167,-67.6214 3044.8946,-57.6085\"/>\n<polygon fill=\"#000000\" stroke=\"#000000\" points=\"3046.4212,-54.4586 3035.9145,-53.095 3043.2776,-60.7131 3046.4212,-54.4586\"/>\n</g>\n<!-- 37 -->\n<g id=\"node38\" class=\"node\">\n<title>37</title>\n<polygon fill=\"#eca16b\" stroke=\"#000000\" points=\"3257.5,-53 3092.5,-53 3092.5,0 3257.5,0 3257.5,-53\"/>\n<text text-anchor=\"middle\" x=\"3175\" y=\"-37.8\" font-family=\"Helvetica,sans-Serif\" font-size=\"14.00\" fill=\"#000000\">gini = 0.321</text>\n<text text-anchor=\"middle\" x=\"3175\" y=\"-22.8\" font-family=\"Helvetica,sans-Serif\" font-size=\"14.00\" fill=\"#000000\">samples = 68395</text>\n<text text-anchor=\"middle\" x=\"3175\" y=\"-7.8\" font-family=\"Helvetica,sans-Serif\" font-size=\"14.00\" fill=\"#000000\">value = [54687, 13708]</text>\n</g>\n<!-- 35&#45;&gt;37 -->\n<g id=\"edge37\" class=\"edge\">\n<title>35&#45;&gt;37</title>\n<path fill=\"none\" stroke=\"#000000\" d=\"M3175,-88.9777C3175,-80.7364 3175,-71.887 3175,-63.5153\"/>\n<polygon fill=\"#000000\" stroke=\"#000000\" points=\"3178.5001,-63.2484 3175,-53.2485 3171.5001,-63.2485 3178.5001,-63.2484\"/>\n</g>\n<!-- 39 -->\n<g id=\"node40\" class=\"node\">\n<title>39</title>\n<polygon fill=\"#e88e4d\" stroke=\"#000000\" points=\"3432.5,-53 3275.5,-53 3275.5,0 3432.5,0 3432.5,-53\"/>\n<text text-anchor=\"middle\" x=\"3354\" y=\"-37.8\" font-family=\"Helvetica,sans-Serif\" font-size=\"14.00\" fill=\"#000000\">gini = 0.168</text>\n<text text-anchor=\"middle\" x=\"3354\" y=\"-22.8\" font-family=\"Helvetica,sans-Serif\" font-size=\"14.00\" fill=\"#000000\">samples = 15594</text>\n<text text-anchor=\"middle\" x=\"3354\" y=\"-7.8\" font-family=\"Helvetica,sans-Serif\" font-size=\"14.00\" fill=\"#000000\">value = [14147, 1447]</text>\n</g>\n<!-- 38&#45;&gt;39 -->\n<g id=\"edge39\" class=\"edge\">\n<title>38&#45;&gt;39</title>\n<path fill=\"none\" stroke=\"#000000\" d=\"M3413.5642,-88.9777C3404.8343,-79.8207 3395.3885,-69.9129 3386.6471,-60.744\"/>\n<polygon fill=\"#000000\" stroke=\"#000000\" points=\"3388.9347,-58.0712 3379.5011,-53.2485 3383.8682,-62.9014 3388.9347,-58.0712\"/>\n</g>\n<!-- 40 -->\n<g id=\"node41\" class=\"node\">\n<title>40</title>\n<polygon fill=\"#e99457\" stroke=\"#000000\" points=\"3607.5,-53 3450.5,-53 3450.5,0 3607.5,0 3607.5,-53\"/>\n<text text-anchor=\"middle\" x=\"3529\" y=\"-37.8\" font-family=\"Helvetica,sans-Serif\" font-size=\"14.00\" fill=\"#000000\">gini = 0.228</text>\n<text text-anchor=\"middle\" x=\"3529\" y=\"-22.8\" font-family=\"Helvetica,sans-Serif\" font-size=\"14.00\" fill=\"#000000\">samples = 17417</text>\n<text text-anchor=\"middle\" x=\"3529\" y=\"-7.8\" font-family=\"Helvetica,sans-Serif\" font-size=\"14.00\" fill=\"#000000\">value = [15136, 2281]</text>\n</g>\n<!-- 38&#45;&gt;40 -->\n<g id=\"edge40\" class=\"edge\">\n<title>38&#45;&gt;40</title>\n<path fill=\"none\" stroke=\"#000000\" d=\"M3475.2627,-88.9777C3483.0599,-79.9123 3491.49,-70.111 3499.3099,-61.0192\"/>\n<polygon fill=\"#000000\" stroke=\"#000000\" points=\"3502.1262,-63.1123 3505.9935,-53.2485 3496.8191,-58.5477 3502.1262,-63.1123\"/>\n</g>\n<!-- 42 -->\n<g id=\"node43\" class=\"node\">\n<title>42</title>\n<polygon fill=\"#eb9e66\" stroke=\"#000000\" points=\"3887.5,-157 3714.5,-157 3714.5,-89 3887.5,-89 3887.5,-157\"/>\n<text text-anchor=\"middle\" x=\"3801\" y=\"-141.8\" font-family=\"Helvetica,sans-Serif\" font-size=\"14.00\" fill=\"#000000\">X[3] &lt;= 11691.0</text>\n<text text-anchor=\"middle\" x=\"3801\" y=\"-126.8\" font-family=\"Helvetica,sans-Serif\" font-size=\"14.00\" fill=\"#000000\">gini = 0.302</text>\n<text text-anchor=\"middle\" x=\"3801\" y=\"-111.8\" font-family=\"Helvetica,sans-Serif\" font-size=\"14.00\" fill=\"#000000\">samples = 347755</text>\n<text text-anchor=\"middle\" x=\"3801\" y=\"-96.8\" font-family=\"Helvetica,sans-Serif\" font-size=\"14.00\" fill=\"#000000\">value = [283385, 64370]</text>\n</g>\n<!-- 41&#45;&gt;42 -->\n<g id=\"edge42\" class=\"edge\">\n<title>41&#45;&gt;42</title>\n<path fill=\"none\" stroke=\"#000000\" d=\"M3801,-192.9465C3801,-184.776 3801,-175.9318 3801,-167.3697\"/>\n<polygon fill=\"#000000\" stroke=\"#000000\" points=\"3804.5001,-167.13 3801,-157.13 3797.5001,-167.13 3804.5001,-167.13\"/>\n</g>\n<!-- 45 -->\n<g id=\"node46\" class=\"node\">\n<title>45</title>\n<polygon fill=\"#e88f4f\" stroke=\"#000000\" points=\"4152.5,-157 3995.5,-157 3995.5,-89 4152.5,-89 4152.5,-157\"/>\n<text text-anchor=\"middle\" x=\"4074\" y=\"-141.8\" font-family=\"Helvetica,sans-Serif\" font-size=\"14.00\" fill=\"#000000\">X[9] &lt;= 1.5</text>\n<text text-anchor=\"middle\" x=\"4074\" y=\"-126.8\" font-family=\"Helvetica,sans-Serif\" font-size=\"14.00\" fill=\"#000000\">gini = 0.182</text>\n<text text-anchor=\"middle\" x=\"4074\" y=\"-111.8\" font-family=\"Helvetica,sans-Serif\" font-size=\"14.00\" fill=\"#000000\">samples = 61148</text>\n<text text-anchor=\"middle\" x=\"4074\" y=\"-96.8\" font-family=\"Helvetica,sans-Serif\" font-size=\"14.00\" fill=\"#000000\">value = [54962, 6186]</text>\n</g>\n<!-- 41&#45;&gt;45 -->\n<g id=\"edge45\" class=\"edge\">\n<title>41&#45;&gt;45</title>\n<path fill=\"none\" stroke=\"#000000\" d=\"M3887.754,-193.9509C3919.0238,-182.0385 3954.3286,-168.5891 3985.7268,-156.6279\"/>\n<polygon fill=\"#000000\" stroke=\"#000000\" points=\"3987.238,-159.7976 3995.3369,-152.9669 3984.746,-153.2562 3987.238,-159.7976\"/>\n</g>\n<!-- 43 -->\n<g id=\"node44\" class=\"node\">\n<title>43</title>\n<polygon fill=\"#eda877\" stroke=\"#000000\" points=\"3790.5,-53 3625.5,-53 3625.5,0 3790.5,0 3790.5,-53\"/>\n<text text-anchor=\"middle\" x=\"3708\" y=\"-37.8\" font-family=\"Helvetica,sans-Serif\" font-size=\"14.00\" fill=\"#000000\">gini = 0.362</text>\n<text text-anchor=\"middle\" x=\"3708\" y=\"-22.8\" font-family=\"Helvetica,sans-Serif\" font-size=\"14.00\" fill=\"#000000\">samples = 91206</text>\n<text text-anchor=\"middle\" x=\"3708\" y=\"-7.8\" font-family=\"Helvetica,sans-Serif\" font-size=\"14.00\" fill=\"#000000\">value = [69561, 21645]</text>\n</g>\n<!-- 42&#45;&gt;43 -->\n<g id=\"edge43\" class=\"edge\">\n<title>42&#45;&gt;43</title>\n<path fill=\"none\" stroke=\"#000000\" d=\"M3768.2117,-88.9777C3759.2986,-79.7292 3749.6473,-69.7147 3740.7371,-60.4691\"/>\n<polygon fill=\"#000000\" stroke=\"#000000\" points=\"3743.2378,-58.0202 3733.7783,-53.2485 3738.1975,-62.8777 3743.2378,-58.0202\"/>\n</g>\n<!-- 44 -->\n<g id=\"node45\" class=\"node\">\n<title>44</title>\n<polygon fill=\"#ea9a61\" stroke=\"#000000\" points=\"3981.5,-53 3808.5,-53 3808.5,0 3981.5,0 3981.5,-53\"/>\n<text text-anchor=\"middle\" x=\"3895\" y=\"-37.8\" font-family=\"Helvetica,sans-Serif\" font-size=\"14.00\" fill=\"#000000\">gini = 0.278</text>\n<text text-anchor=\"middle\" x=\"3895\" y=\"-22.8\" font-family=\"Helvetica,sans-Serif\" font-size=\"14.00\" fill=\"#000000\">samples = 256549</text>\n<text text-anchor=\"middle\" x=\"3895\" y=\"-7.8\" font-family=\"Helvetica,sans-Serif\" font-size=\"14.00\" fill=\"#000000\">value = [213824, 42725]</text>\n</g>\n<!-- 42&#45;&gt;44 -->\n<g id=\"edge44\" class=\"edge\">\n<title>42&#45;&gt;44</title>\n<path fill=\"none\" stroke=\"#000000\" d=\"M3834.1409,-88.9777C3843.1498,-79.7292 3852.9048,-69.7147 3861.9109,-60.4691\"/>\n<polygon fill=\"#000000\" stroke=\"#000000\" points=\"3864.4739,-62.8539 3868.9445,-53.2485 3859.4596,-57.9696 3864.4739,-62.8539\"/>\n</g>\n<!-- 46 -->\n<g id=\"node47\" class=\"node\">\n<title>46</title>\n<polygon fill=\"#e68742\" stroke=\"#000000\" points=\"4148.5,-53 3999.5,-53 3999.5,0 4148.5,0 4148.5,-53\"/>\n<text text-anchor=\"middle\" x=\"4074\" y=\"-37.8\" font-family=\"Helvetica,sans-Serif\" font-size=\"14.00\" fill=\"#000000\">gini = 0.086</text>\n<text text-anchor=\"middle\" x=\"4074\" y=\"-22.8\" font-family=\"Helvetica,sans-Serif\" font-size=\"14.00\" fill=\"#000000\">samples = 14909</text>\n<text text-anchor=\"middle\" x=\"4074\" y=\"-7.8\" font-family=\"Helvetica,sans-Serif\" font-size=\"14.00\" fill=\"#000000\">value = [14240, 669]</text>\n</g>\n<!-- 45&#45;&gt;46 -->\n<g id=\"edge46\" class=\"edge\">\n<title>45&#45;&gt;46</title>\n<path fill=\"none\" stroke=\"#000000\" d=\"M4074,-88.9777C4074,-80.7364 4074,-71.887 4074,-63.5153\"/>\n<polygon fill=\"#000000\" stroke=\"#000000\" points=\"4077.5001,-63.2484 4074,-53.2485 4070.5001,-63.2485 4077.5001,-63.2484\"/>\n</g>\n<!-- 47 -->\n<g id=\"node48\" class=\"node\">\n<title>47</title>\n<polygon fill=\"#e99254\" stroke=\"#000000\" points=\"4323.5,-53 4166.5,-53 4166.5,0 4323.5,0 4323.5,-53\"/>\n<text text-anchor=\"middle\" x=\"4245\" y=\"-37.8\" font-family=\"Helvetica,sans-Serif\" font-size=\"14.00\" fill=\"#000000\">gini = 0.21</text>\n<text text-anchor=\"middle\" x=\"4245\" y=\"-22.8\" font-family=\"Helvetica,sans-Serif\" font-size=\"14.00\" fill=\"#000000\">samples = 46239</text>\n<text text-anchor=\"middle\" x=\"4245\" y=\"-7.8\" font-family=\"Helvetica,sans-Serif\" font-size=\"14.00\" fill=\"#000000\">value = [40722, 5517]</text>\n</g>\n<!-- 45&#45;&gt;47 -->\n<g id=\"edge47\" class=\"edge\">\n<title>45&#45;&gt;47</title>\n<path fill=\"none\" stroke=\"#000000\" d=\"M4134.2882,-88.9777C4152.0568,-78.9504 4171.4208,-68.0228 4188.9141,-58.1508\"/>\n<polygon fill=\"#000000\" stroke=\"#000000\" points=\"4190.8843,-61.0579 4197.8731,-53.095 4187.4439,-54.9616 4190.8843,-61.0579\"/>\n</g>\n<!-- 49 -->\n<g id=\"node50\" class=\"node\">\n<title>49</title>\n<polygon fill=\"#ea985e\" stroke=\"#000000\" points=\"4783.5,-261 4610.5,-261 4610.5,-193 4783.5,-193 4783.5,-261\"/>\n<text text-anchor=\"middle\" x=\"4697\" y=\"-245.8\" font-family=\"Helvetica,sans-Serif\" font-size=\"14.00\" fill=\"#000000\">X[3] &lt;= 38272.0</text>\n<text text-anchor=\"middle\" x=\"4697\" y=\"-230.8\" font-family=\"Helvetica,sans-Serif\" font-size=\"14.00\" fill=\"#000000\">gini = 0.265</text>\n<text text-anchor=\"middle\" x=\"4697\" y=\"-215.8\" font-family=\"Helvetica,sans-Serif\" font-size=\"14.00\" fill=\"#000000\">samples = 231220</text>\n<text text-anchor=\"middle\" x=\"4697\" y=\"-200.8\" font-family=\"Helvetica,sans-Serif\" font-size=\"14.00\" fill=\"#000000\">value = [194932, 36288]</text>\n</g>\n<!-- 48&#45;&gt;49 -->\n<g id=\"edge49\" class=\"edge\">\n<title>48&#45;&gt;49</title>\n<path fill=\"none\" stroke=\"#000000\" d=\"M4697,-296.9465C4697,-288.776 4697,-279.9318 4697,-271.3697\"/>\n<polygon fill=\"#000000\" stroke=\"#000000\" points=\"4700.5001,-271.13 4697,-261.13 4693.5001,-271.13 4700.5001,-271.13\"/>\n</g>\n<!-- 56 -->\n<g id=\"node57\" class=\"node\">\n<title>56</title>\n<polygon fill=\"#e68743\" stroke=\"#000000\" points=\"5283.5,-261 5110.5,-261 5110.5,-193 5283.5,-193 5283.5,-261\"/>\n<text text-anchor=\"middle\" x=\"5197\" y=\"-245.8\" font-family=\"Helvetica,sans-Serif\" font-size=\"14.00\" fill=\"#000000\">X[2] &lt;= 21927554.0</text>\n<text text-anchor=\"middle\" x=\"5197\" y=\"-230.8\" font-family=\"Helvetica,sans-Serif\" font-size=\"14.00\" fill=\"#000000\">gini = 0.092</text>\n<text text-anchor=\"middle\" x=\"5197\" y=\"-215.8\" font-family=\"Helvetica,sans-Serif\" font-size=\"14.00\" fill=\"#000000\">samples = 208729</text>\n<text text-anchor=\"middle\" x=\"5197\" y=\"-200.8\" font-family=\"Helvetica,sans-Serif\" font-size=\"14.00\" fill=\"#000000\">value = [198686, 10043]</text>\n</g>\n<!-- 48&#45;&gt;56 -->\n<g id=\"edge56\" class=\"edge\">\n<title>48&#45;&gt;56</title>\n<path fill=\"none\" stroke=\"#000000\" d=\"M4783.5225,-313.0033C4871.8423,-294.6328 5008.6354,-266.1798 5100.4303,-247.0865\"/>\n<polygon fill=\"#000000\" stroke=\"#000000\" points=\"5101.2032,-250.5007 5110.2808,-245.0376 5099.7776,-243.6474 5101.2032,-250.5007\"/>\n</g>\n<!-- 50 -->\n<g id=\"node51\" class=\"node\">\n<title>50</title>\n<polygon fill=\"#e9965a\" stroke=\"#000000\" points=\"4693.5,-157 4520.5,-157 4520.5,-89 4693.5,-89 4693.5,-157\"/>\n<text text-anchor=\"middle\" x=\"4607\" y=\"-141.8\" font-family=\"Helvetica,sans-Serif\" font-size=\"14.00\" fill=\"#000000\">X[6] &lt;= 1.5</text>\n<text text-anchor=\"middle\" x=\"4607\" y=\"-126.8\" font-family=\"Helvetica,sans-Serif\" font-size=\"14.00\" fill=\"#000000\">gini = 0.246</text>\n<text text-anchor=\"middle\" x=\"4607\" y=\"-111.8\" font-family=\"Helvetica,sans-Serif\" font-size=\"14.00\" fill=\"#000000\">samples = 219753</text>\n<text text-anchor=\"middle\" x=\"4607\" y=\"-96.8\" font-family=\"Helvetica,sans-Serif\" font-size=\"14.00\" fill=\"#000000\">value = [188177, 31576]</text>\n</g>\n<!-- 49&#45;&gt;50 -->\n<g id=\"edge50\" class=\"edge\">\n<title>49&#45;&gt;50</title>\n<path fill=\"none\" stroke=\"#000000\" d=\"M4667.5306,-192.9465C4659.7607,-183.968 4651.2868,-174.1758 4643.2064,-164.8385\"/>\n<polygon fill=\"#000000\" stroke=\"#000000\" points=\"4645.726,-162.4014 4636.5356,-157.13 4640.4328,-166.982 4645.726,-162.4014\"/>\n</g>\n<!-- 53 -->\n<g id=\"node54\" class=\"node\">\n<title>53</title>\n<polygon fill=\"#f7d9c3\" stroke=\"#000000\" points=\"4860.5,-157 4711.5,-157 4711.5,-89 4860.5,-89 4860.5,-157\"/>\n<text text-anchor=\"middle\" x=\"4786\" y=\"-141.8\" font-family=\"Helvetica,sans-Serif\" font-size=\"14.00\" fill=\"#000000\">X[11] &lt;= 3.5</text>\n<text text-anchor=\"middle\" x=\"4786\" y=\"-126.8\" font-family=\"Helvetica,sans-Serif\" font-size=\"14.00\" fill=\"#000000\">gini = 0.484</text>\n<text text-anchor=\"middle\" x=\"4786\" y=\"-111.8\" font-family=\"Helvetica,sans-Serif\" font-size=\"14.00\" fill=\"#000000\">samples = 11467</text>\n<text text-anchor=\"middle\" x=\"4786\" y=\"-96.8\" font-family=\"Helvetica,sans-Serif\" font-size=\"14.00\" fill=\"#000000\">value = [6755, 4712]</text>\n</g>\n<!-- 49&#45;&gt;53 -->\n<g id=\"edge53\" class=\"edge\">\n<title>49&#45;&gt;53</title>\n<path fill=\"none\" stroke=\"#000000\" d=\"M4726.1419,-192.9465C4733.8255,-183.968 4742.2053,-174.1758 4750.1959,-164.8385\"/>\n<polygon fill=\"#000000\" stroke=\"#000000\" points=\"4752.9499,-167.0034 4756.7926,-157.13 4747.6315,-162.4521 4752.9499,-167.0034\"/>\n</g>\n<!-- 51 -->\n<g id=\"node52\" class=\"node\">\n<title>51</title>\n<polygon fill=\"#eb9c64\" stroke=\"#000000\" points=\"4514.5,-53 4341.5,-53 4341.5,0 4514.5,0 4514.5,-53\"/>\n<text text-anchor=\"middle\" x=\"4428\" y=\"-37.8\" font-family=\"Helvetica,sans-Serif\" font-size=\"14.00\" fill=\"#000000\">gini = 0.292</text>\n<text text-anchor=\"middle\" x=\"4428\" y=\"-22.8\" font-family=\"Helvetica,sans-Serif\" font-size=\"14.00\" fill=\"#000000\">samples = 127932</text>\n<text text-anchor=\"middle\" x=\"4428\" y=\"-7.8\" font-family=\"Helvetica,sans-Serif\" font-size=\"14.00\" fill=\"#000000\">value = [105253, 22679]</text>\n</g>\n<!-- 50&#45;&gt;51 -->\n<g id=\"edge51\" class=\"edge\">\n<title>50&#45;&gt;51</title>\n<path fill=\"none\" stroke=\"#000000\" d=\"M4543.8913,-88.9777C4525.1208,-78.8584 4504.6494,-67.8222 4486.2063,-57.8794\"/>\n<polygon fill=\"#000000\" stroke=\"#000000\" points=\"4487.795,-54.7597 4477.3317,-53.095 4484.4732,-60.9213 4487.795,-54.7597\"/>\n</g>\n<!-- 52 -->\n<g id=\"node53\" class=\"node\">\n<title>52</title>\n<polygon fill=\"#e88f4e\" stroke=\"#000000\" points=\"4689.5,-53 4532.5,-53 4532.5,0 4689.5,0 4689.5,-53\"/>\n<text text-anchor=\"middle\" x=\"4611\" y=\"-37.8\" font-family=\"Helvetica,sans-Serif\" font-size=\"14.00\" fill=\"#000000\">gini = 0.175</text>\n<text text-anchor=\"middle\" x=\"4611\" y=\"-22.8\" font-family=\"Helvetica,sans-Serif\" font-size=\"14.00\" fill=\"#000000\">samples = 91821</text>\n<text text-anchor=\"middle\" x=\"4611\" y=\"-7.8\" font-family=\"Helvetica,sans-Serif\" font-size=\"14.00\" fill=\"#000000\">value = [82924, 8897]</text>\n</g>\n<!-- 50&#45;&gt;52 -->\n<g id=\"edge52\" class=\"edge\">\n<title>50&#45;&gt;52</title>\n<path fill=\"none\" stroke=\"#000000\" d=\"M4608.4103,-88.9777C4608.7519,-80.7364 4609.1187,-71.887 4609.4657,-63.5153\"/>\n<polygon fill=\"#000000\" stroke=\"#000000\" points=\"4612.974,-63.3849 4609.8913,-53.2485 4605.98,-63.0949 4612.974,-63.3849\"/>\n</g>\n<!-- 54 -->\n<g id=\"node55\" class=\"node\">\n<title>54</title>\n<polygon fill=\"#fcf0e8\" stroke=\"#000000\" points=\"4856.5,-53 4707.5,-53 4707.5,0 4856.5,0 4856.5,-53\"/>\n<text text-anchor=\"middle\" x=\"4782\" y=\"-37.8\" font-family=\"Helvetica,sans-Serif\" font-size=\"14.00\" fill=\"#000000\">gini = 0.498</text>\n<text text-anchor=\"middle\" x=\"4782\" y=\"-22.8\" font-family=\"Helvetica,sans-Serif\" font-size=\"14.00\" fill=\"#000000\">samples = 8173</text>\n<text text-anchor=\"middle\" x=\"4782\" y=\"-7.8\" font-family=\"Helvetica,sans-Serif\" font-size=\"14.00\" fill=\"#000000\">value = [4336, 3837]</text>\n</g>\n<!-- 53&#45;&gt;54 -->\n<g id=\"edge54\" class=\"edge\">\n<title>53&#45;&gt;54</title>\n<path fill=\"none\" stroke=\"#000000\" d=\"M4784.5897,-88.9777C4784.2481,-80.7364 4783.8813,-71.887 4783.5343,-63.5153\"/>\n<polygon fill=\"#000000\" stroke=\"#000000\" points=\"4787.02,-63.0949 4783.1087,-53.2485 4780.026,-63.3849 4787.02,-63.0949\"/>\n</g>\n<!-- 55 -->\n<g id=\"node56\" class=\"node\">\n<title>55</title>\n<polygon fill=\"#eeaf81\" stroke=\"#000000\" points=\"5015,-53 4875,-53 4875,0 5015,0 5015,-53\"/>\n<text text-anchor=\"middle\" x=\"4945\" y=\"-37.8\" font-family=\"Helvetica,sans-Serif\" font-size=\"14.00\" fill=\"#000000\">gini = 0.39</text>\n<text text-anchor=\"middle\" x=\"4945\" y=\"-22.8\" font-family=\"Helvetica,sans-Serif\" font-size=\"14.00\" fill=\"#000000\">samples = 3294</text>\n<text text-anchor=\"middle\" x=\"4945\" y=\"-7.8\" font-family=\"Helvetica,sans-Serif\" font-size=\"14.00\" fill=\"#000000\">value = [2419, 875]</text>\n</g>\n<!-- 53&#45;&gt;55 -->\n<g id=\"edge55\" class=\"edge\">\n<title>53&#45;&gt;55</title>\n<path fill=\"none\" stroke=\"#000000\" d=\"M4842.0575,-88.9777C4858.4276,-79.0424 4876.254,-68.2232 4892.4018,-58.4228\"/>\n<polygon fill=\"#000000\" stroke=\"#000000\" points=\"4894.4474,-61.2755 4901.1802,-53.095 4890.8155,-55.2914 4894.4474,-61.2755\"/>\n</g>\n<!-- 57 -->\n<g id=\"node58\" class=\"node\">\n<title>57</title>\n<polygon fill=\"#e68642\" stroke=\"#000000\" points=\"5279.5,-157 5114.5,-157 5114.5,-89 5279.5,-89 5279.5,-157\"/>\n<text text-anchor=\"middle\" x=\"5197\" y=\"-141.8\" font-family=\"Helvetica,sans-Serif\" font-size=\"14.00\" fill=\"#000000\">X[2] &lt;= 20188889.0</text>\n<text text-anchor=\"middle\" x=\"5197\" y=\"-126.8\" font-family=\"Helvetica,sans-Serif\" font-size=\"14.00\" fill=\"#000000\">gini = 0.079</text>\n<text text-anchor=\"middle\" x=\"5197\" y=\"-111.8\" font-family=\"Helvetica,sans-Serif\" font-size=\"14.00\" fill=\"#000000\">samples = 187143</text>\n<text text-anchor=\"middle\" x=\"5197\" y=\"-96.8\" font-family=\"Helvetica,sans-Serif\" font-size=\"14.00\" fill=\"#000000\">value = [179436, 7707]</text>\n</g>\n<!-- 56&#45;&gt;57 -->\n<g id=\"edge57\" class=\"edge\">\n<title>56&#45;&gt;57</title>\n<path fill=\"none\" stroke=\"#000000\" d=\"M5197,-192.9465C5197,-184.776 5197,-175.9318 5197,-167.3697\"/>\n<polygon fill=\"#000000\" stroke=\"#000000\" points=\"5200.5001,-167.13 5197,-157.13 5193.5001,-167.13 5200.5001,-167.13\"/>\n</g>\n<!-- 60 -->\n<g id=\"node61\" class=\"node\">\n<title>60</title>\n<polygon fill=\"#e89051\" stroke=\"#000000\" points=\"5540.5,-157 5383.5,-157 5383.5,-89 5540.5,-89 5540.5,-157\"/>\n<text text-anchor=\"middle\" x=\"5462\" y=\"-141.8\" font-family=\"Helvetica,sans-Serif\" font-size=\"14.00\" fill=\"#000000\">X[6] &lt;= 1.5</text>\n<text text-anchor=\"middle\" x=\"5462\" y=\"-126.8\" font-family=\"Helvetica,sans-Serif\" font-size=\"14.00\" fill=\"#000000\">gini = 0.193</text>\n<text text-anchor=\"middle\" x=\"5462\" y=\"-111.8\" font-family=\"Helvetica,sans-Serif\" font-size=\"14.00\" fill=\"#000000\">samples = 21586</text>\n<text text-anchor=\"middle\" x=\"5462\" y=\"-96.8\" font-family=\"Helvetica,sans-Serif\" font-size=\"14.00\" fill=\"#000000\">value = [19250, 2336]</text>\n</g>\n<!-- 56&#45;&gt;60 -->\n<g id=\"edge60\" class=\"edge\">\n<title>56&#45;&gt;60</title>\n<path fill=\"none\" stroke=\"#000000\" d=\"M5283.7709,-192.9465C5312.5217,-181.6632 5344.5467,-169.0949 5373.4309,-157.7592\"/>\n<polygon fill=\"#000000\" stroke=\"#000000\" points=\"5375.0666,-160.8772 5383.0968,-153.9658 5372.5093,-154.361 5375.0666,-160.8772\"/>\n</g>\n<!-- 58 -->\n<g id=\"node59\" class=\"node\">\n<title>58</title>\n<polygon fill=\"#e6853f\" stroke=\"#000000\" points=\"5190.5,-53 5033.5,-53 5033.5,0 5190.5,0 5190.5,-53\"/>\n<text text-anchor=\"middle\" x=\"5112\" y=\"-37.8\" font-family=\"Helvetica,sans-Serif\" font-size=\"14.00\" fill=\"#000000\">gini = 0.059</text>\n<text text-anchor=\"middle\" x=\"5112\" y=\"-22.8\" font-family=\"Helvetica,sans-Serif\" font-size=\"14.00\" fill=\"#000000\">samples = 96687</text>\n<text text-anchor=\"middle\" x=\"5112\" y=\"-7.8\" font-family=\"Helvetica,sans-Serif\" font-size=\"14.00\" fill=\"#000000\">value = [93726, 2961]</text>\n</g>\n<!-- 57&#45;&gt;58 -->\n<g id=\"edge58\" class=\"edge\">\n<title>57&#45;&gt;58</title>\n<path fill=\"none\" stroke=\"#000000\" d=\"M5167.0322,-88.9777C5159.0471,-79.9123 5150.4138,-70.111 5142.4056,-61.0192\"/>\n<polygon fill=\"#000000\" stroke=\"#000000\" points=\"5144.7971,-58.4391 5135.5608,-53.2485 5139.5442,-63.066 5144.7971,-58.4391\"/>\n</g>\n<!-- 59 -->\n<g id=\"node60\" class=\"node\">\n<title>59</title>\n<polygon fill=\"#e68844\" stroke=\"#000000\" points=\"5365.5,-53 5208.5,-53 5208.5,0 5365.5,0 5365.5,-53\"/>\n<text text-anchor=\"middle\" x=\"5287\" y=\"-37.8\" font-family=\"Helvetica,sans-Serif\" font-size=\"14.00\" fill=\"#000000\">gini = 0.099</text>\n<text text-anchor=\"middle\" x=\"5287\" y=\"-22.8\" font-family=\"Helvetica,sans-Serif\" font-size=\"14.00\" fill=\"#000000\">samples = 90456</text>\n<text text-anchor=\"middle\" x=\"5287\" y=\"-7.8\" font-family=\"Helvetica,sans-Serif\" font-size=\"14.00\" fill=\"#000000\">value = [85710, 4746]</text>\n</g>\n<!-- 57&#45;&gt;59 -->\n<g id=\"edge59\" class=\"edge\">\n<title>57&#45;&gt;59</title>\n<path fill=\"none\" stroke=\"#000000\" d=\"M5228.7306,-88.9777C5237.2708,-79.8207 5246.5113,-69.9129 5255.0626,-60.744\"/>\n<polygon fill=\"#000000\" stroke=\"#000000\" points=\"5257.7923,-62.9488 5262.0532,-53.2485 5252.6731,-58.1744 5257.7923,-62.9488\"/>\n</g>\n<!-- 61 -->\n<g id=\"node62\" class=\"node\">\n<title>61</title>\n<polygon fill=\"#e99456\" stroke=\"#000000\" points=\"5540.5,-53 5383.5,-53 5383.5,0 5540.5,0 5540.5,-53\"/>\n<text text-anchor=\"middle\" x=\"5462\" y=\"-37.8\" font-family=\"Helvetica,sans-Serif\" font-size=\"14.00\" fill=\"#000000\">gini = 0.225</text>\n<text text-anchor=\"middle\" x=\"5462\" y=\"-22.8\" font-family=\"Helvetica,sans-Serif\" font-size=\"14.00\" fill=\"#000000\">samples = 12360</text>\n<text text-anchor=\"middle\" x=\"5462\" y=\"-7.8\" font-family=\"Helvetica,sans-Serif\" font-size=\"14.00\" fill=\"#000000\">value = [10760, 1600]</text>\n</g>\n<!-- 60&#45;&gt;61 -->\n<g id=\"edge61\" class=\"edge\">\n<title>60&#45;&gt;61</title>\n<path fill=\"none\" stroke=\"#000000\" d=\"M5462,-88.9777C5462,-80.7364 5462,-71.887 5462,-63.5153\"/>\n<polygon fill=\"#000000\" stroke=\"#000000\" points=\"5465.5001,-63.2484 5462,-53.2485 5458.5001,-63.2485 5465.5001,-63.2484\"/>\n</g>\n<!-- 62 -->\n<g id=\"node63\" class=\"node\">\n<title>62</title>\n<polygon fill=\"#e78c4a\" stroke=\"#000000\" points=\"5699,-53 5559,-53 5559,0 5699,0 5699,-53\"/>\n<text text-anchor=\"middle\" x=\"5629\" y=\"-37.8\" font-family=\"Helvetica,sans-Serif\" font-size=\"14.00\" fill=\"#000000\">gini = 0.147</text>\n<text text-anchor=\"middle\" x=\"5629\" y=\"-22.8\" font-family=\"Helvetica,sans-Serif\" font-size=\"14.00\" fill=\"#000000\">samples = 9226</text>\n<text text-anchor=\"middle\" x=\"5629\" y=\"-7.8\" font-family=\"Helvetica,sans-Serif\" font-size=\"14.00\" fill=\"#000000\">value = [8490, 736]</text>\n</g>\n<!-- 60&#45;&gt;62 -->\n<g id=\"edge62\" class=\"edge\">\n<title>60&#45;&gt;62</title>\n<path fill=\"none\" stroke=\"#000000\" d=\"M5520.878,-88.9777C5538.2309,-78.9504 5557.142,-68.0228 5574.226,-58.1508\"/>\n<polygon fill=\"#000000\" stroke=\"#000000\" points=\"5576.0682,-61.1287 5582.9754,-53.095 5572.5659,-55.0678 5576.0682,-61.1287\"/>\n</g>\n</g>\n</svg>\n"
          },
          "metadata": {},
          "execution_count": 33
        }
      ],
      "source": [
        "#Decesion Tree Classifier\n",
        "kdd_tree = DecisionTreeClassifier(max_depth=5, random_state=5)\n",
        "kdd_tree.fit(train_X,train_y)\n",
        "tree_graph = tree.export_graphviz(kdd_tree, out_file=None, filled=True)\n",
        "graph = graphviz.Source(tree_graph, format=\"png\") \n",
        "graph"
      ]
    },
    {
      "cell_type": "code",
      "source": [
        "import sklearn.metrics as metrics\n",
        "probs = kdd_tree.predict_proba(test_X)\n",
        "preds = probs[:,1]\n",
        "fpr, tpr, threshold = metrics.roc_curve(test_y, preds)\n",
        "roc_auc = metrics.auc(fpr, tpr)\n",
        "plt.title('Receiver Operating Characteristic')\n",
        "plt.plot(fpr, tpr, 'b', label = 'AUC = %0.2f' % roc_auc)\n",
        "plt.legend(loc = 'lower right')\n",
        "plt.plot([0, 1], [0, 1],'r--')\n",
        "plt.xlim([0, 1])\n",
        "plt.ylim([0, 1])\n",
        "plt.ylabel('True Positive Rate')\n",
        "plt.xlabel('False Positive Rate')\n",
        "plt.show()"
      ],
      "metadata": {
        "colab": {
          "base_uri": "https://localhost:8080/",
          "height": 295
        },
        "id": "w65j6a5O3Edu",
        "outputId": "a0ca5827-7d03-4aec-fbc3-f0fe4dcc7562"
      },
      "execution_count": 35,
      "outputs": [
        {
          "output_type": "display_data",
          "data": {
            "text/plain": [
              "<Figure size 432x288 with 1 Axes>"
            ],
            "image/png": "[encoded data removed]"
          },
          "metadata": {
            "needs_background": "light"
          }
        }
      ]
    },
    {
      "cell_type": "markdown",
      "metadata": {
        "id": "NlwlPyYTED8V"
      },
      "source": [
        "## Step 9 - Model Validation\n",
        "Applying CrossValidation Method to evaluate the model performance"
      ]
    },
    {
      "cell_type": "code",
      "execution_count": null,
      "metadata": {
        "colab": {
          "base_uri": "https://localhost:8080/"
        },
        "id": "9_-AuPyAsGx6",
        "outputId": "8c2fbf13-dffb-402b-91c6-fdf3c4f6f000"
      },
      "outputs": [
        {
          "output_type": "stream",
          "name": "stdout",
          "text": [
            "Predicted:  [1 1 1 ... 1 1 1]\n",
            "Model accuracy : 0.6917071542776064\n",
            "Model Score roc auc mean : 0.7458188291176806\n"
          ]
        }
      ],
      "source": [
        "y_prediction = kdd_tree.predict(test_X)\n",
        "print(f'Predicted:  {y_prediction}')\n",
        "tree_score = accuracy_score(test_y,y_prediction)\n",
        "rkf = RepeatedKFold(n_splits= 5, n_repeats=10, random_state=10)\n",
        "tree_CV_Score = cross_val_score(kdd_tree,train_X,train_y,cv=rkf,scoring = 'roc_auc').mean()\n",
        "print(f'Model accuracy : {tree_score}')\n",
        "print(f'Model Score roc auc mean : {tree_CV_Score}')"
      ]
    },
    {
      "cell_type": "code",
      "source": [
        ""
      ],
      "metadata": {
        "id": "HY62_Tuv2ITy"
      },
      "execution_count": null,
      "outputs": []
    },
    {
      "cell_type": "code",
      "execution_count": null,
      "metadata": {
        "colab": {
          "base_uri": "https://localhost:8080/",
          "height": 424
        },
        "id": "kL6OqZgt0L2k",
        "outputId": "c37f517f-d984-404d-866a-a10481e2e494"
      },
      "outputs": [
        {
          "output_type": "execute_result",
          "data": {
            "text/plain": [
              "         Actual value(test_y)  Predicted value(y_pred)\n",
              "6265144                     1                        1\n",
              "5024381                     1                        1\n",
              "572881                      0                        1\n",
              "6347968                     1                        1\n",
              "7368129                     1                        0\n",
              "...                       ...                      ...\n",
              "5056666                     1                        1\n",
              "5657575                     1                        1\n",
              "5894450                     1                        1\n",
              "2388083                     0                        1\n",
              "6176207                     1                        1\n",
              "\n",
              "[1905727 rows x 2 columns]"
            ],
            "text/html": [
              "\n",
              "  <div id=\"df-d7542836-17ec-4153-920a-bd0e73b456d4\">\n",
              "    <div class=\"colab-df-container\">\n",
              "      <div>\n",
              "<style scoped>\n",
              "    .dataframe tbody tr th:only-of-type {\n",
              "        vertical-align: middle;\n",
              "    }\n",
              "\n",
              "    .dataframe tbody tr th {\n",
              "        vertical-align: top;\n",
              "    }\n",
              "\n",
              "    .dataframe thead th {\n",
              "        text-align: right;\n",
              "    }\n",
              "</style>\n",
              "<table border=\"1\" class=\"dataframe\">\n",
              "  <thead>\n",
              "    <tr style=\"text-align: right;\">\n",
              "      <th></th>\n",
              "      <th>Actual value(test_y)</th>\n",
              "      <th>Predicted value(y_pred)</th>\n",
              "    </tr>\n",
              "  </thead>\n",
              "  <tbody>\n",
              "    <tr>\n",
              "      <th>6265144</th>\n",
              "      <td>1</td>\n",
              "      <td>1</td>\n",
              "    </tr>\n",
              "    <tr>\n",
              "      <th>5024381</th>\n",
              "      <td>1</td>\n",
              "      <td>1</td>\n",
              "    </tr>\n",
              "    <tr>\n",
              "      <th>572881</th>\n",
              "      <td>0</td>\n",
              "      <td>1</td>\n",
              "    </tr>\n",
              "    <tr>\n",
              "      <th>6347968</th>\n",
              "      <td>1</td>\n",
              "      <td>1</td>\n",
              "    </tr>\n",
              "    <tr>\n",
              "      <th>7368129</th>\n",
              "      <td>1</td>\n",
              "      <td>0</td>\n",
              "    </tr>\n",
              "    <tr>\n",
              "      <th>...</th>\n",
              "      <td>...</td>\n",
              "      <td>...</td>\n",
              "    </tr>\n",
              "    <tr>\n",
              "      <th>5056666</th>\n",
              "      <td>1</td>\n",
              "      <td>1</td>\n",
              "    </tr>\n",
              "    <tr>\n",
              "      <th>5657575</th>\n",
              "      <td>1</td>\n",
              "      <td>1</td>\n",
              "    </tr>\n",
              "    <tr>\n",
              "      <th>5894450</th>\n",
              "      <td>1</td>\n",
              "      <td>1</td>\n",
              "    </tr>\n",
              "    <tr>\n",
              "      <th>2388083</th>\n",
              "      <td>0</td>\n",
              "      <td>1</td>\n",
              "    </tr>\n",
              "    <tr>\n",
              "      <th>6176207</th>\n",
              "      <td>1</td>\n",
              "      <td>1</td>\n",
              "    </tr>\n",
              "  </tbody>\n",
              "</table>\n",
              "<p>1905727 rows × 2 columns</p>\n",
              "</div>\n",
              "      <button class=\"colab-df-convert\" onclick=\"convertToInteractive('df-d7542836-17ec-4153-920a-bd0e73b456d4')\"\n",
              "              title=\"Convert this dataframe to an interactive table.\"\n",
              "              style=\"display:none;\">\n",
              "        \n",
              "  <svg xmlns=\"http://www.w3.org/2000/svg\" height=\"24px\"viewBox=\"0 0 24 24\"\n",
              "       width=\"24px\">\n",
              "    <path d=\"M0 0h24v24H0V0z\" fill=\"none\"/>\n",
              "    <path d=\"M18.56 5.44l.94 2.06.94-2.06 2.06-.94-2.06-.94-.94-2.06-.94 2.06-2.06.94zm-11 1L8.5 8.5l.94-2.06 2.06-.94-2.06-.94L8.5 2.5l-.94 2.06-2.06.94zm10 10l.94 2.06.94-2.06 2.06-.94-2.06-.94-.94-2.06-.94 2.06-2.06.94z\"/><path d=\"M17.41 7.96l-1.37-1.37c-.4-.4-.92-.59-1.43-.59-.52 0-1.04.2-1.43.59L10.3 9.45l-7.72 7.72c-.78.78-.78 2.05 0 2.83L4 21.41c.39.39.9.59 1.41.59.51 0 1.02-.2 1.41-.59l7.78-7.78 2.81-2.81c.8-.78.8-2.07 0-2.86zM5.41 20L4 18.59l7.72-7.72 1.47 1.35L5.41 20z\"/>\n",
              "  </svg>\n",
              "      </button>\n",
              "      \n",
              "  <style>\n",
              "    .colab-df-container {\n",
              "      display:flex;\n",
              "      flex-wrap:wrap;\n",
              "      gap: 12px;\n",
              "    }\n",
              "\n",
              "    .colab-df-convert {\n",
              "      background-color: #E8F0FE;\n",
              "      border: none;\n",
              "      border-radius: 50%;\n",
              "      cursor: pointer;\n",
              "      display: none;\n",
              "      fill: #1967D2;\n",
              "      height: 32px;\n",
              "      padding: 0 0 0 0;\n",
              "      width: 32px;\n",
              "    }\n",
              "\n",
              "    .colab-df-convert:hover {\n",
              "      background-color: #E2EBFA;\n",
              "      box-shadow: 0px 1px 2px rgba(60, 64, 67, 0.3), 0px 1px 3px 1px rgba(60, 64, 67, 0.15);\n",
              "      fill: #174EA6;\n",
              "    }\n",
              "\n",
              "    [theme=dark] .colab-df-convert {\n",
              "      background-color: #3B4455;\n",
              "      fill: #D2E3FC;\n",
              "    }\n",
              "\n",
              "    [theme=dark] .colab-df-convert:hover {\n",
              "      background-color: #434B5C;\n",
              "      box-shadow: 0px 1px 3px 1px rgba(0, 0, 0, 0.15);\n",
              "      filter: drop-shadow(0px 1px 2px rgba(0, 0, 0, 0.3));\n",
              "      fill: #FFFFFF;\n",
              "    }\n",
              "  </style>\n",
              "\n",
              "      <script>\n",
              "        const buttonEl =\n",
              "          document.querySelector('#df-d7542836-17ec-4153-920a-bd0e73b456d4 button.colab-df-convert');\n",
              "        buttonEl.style.display =\n",
              "          google.colab.kernel.accessAllowed ? 'block' : 'none';\n",
              "\n",
              "        async function convertToInteractive(key) {\n",
              "          const element = document.querySelector('#df-d7542836-17ec-4153-920a-bd0e73b456d4');\n",
              "          const dataTable =\n",
              "            await google.colab.kernel.invokeFunction('convertToInteractive',\n",
              "                                                     [key], {});\n",
              "          if (!dataTable) return;\n",
              "\n",
              "          const docLinkHtml = 'Like what you see? Visit the ' +\n",
              "            '<a target=\"_blank\" href=https://colab.research.google.com/notebooks/data_table.ipynb>data table notebook</a>'\n",
              "            + ' to learn more about interactive tables.';\n",
              "          element.innerHTML = '';\n",
              "          dataTable['output_type'] = 'display_data';\n",
              "          await google.colab.output.renderOutput(dataTable, element);\n",
              "          const docLink = document.createElement('div');\n",
              "          docLink.innerHTML = docLinkHtml;\n",
              "          element.appendChild(docLink);\n",
              "        }\n",
              "      </script>\n",
              "    </div>\n",
              "  </div>\n",
              "  "
            ]
          },
          "metadata": {},
          "execution_count": 32
        }
      ],
      "source": [
        "compare_y = pd.DataFrame({'Actual value(test_y)': test_y, 'Predicted value(y_pred)':y_prediction})\n",
        "compare_y"
      ]
    },
    {
      "cell_type": "markdown",
      "metadata": {
        "id": "qBJbl4WREeDh"
      },
      "source": [
        "## Step 10 - Creating Classification Report and Confusion Matrix"
      ]
    },
    {
      "cell_type": "code",
      "execution_count": null,
      "metadata": {
        "colab": {
          "base_uri": "https://localhost:8080/",
          "height": 459
        },
        "id": "muY4qJzy5htc",
        "outputId": "ee316591-23ad-4a20-d466-45a274956333"
      },
      "outputs": [
        {
          "output_type": "stream",
          "name": "stdout",
          "text": [
            "              precision    recall  f1-score   support\n",
            "\n",
            "           0       0.76      0.56      0.65    952760\n",
            "           1       0.65      0.82      0.73    952967\n",
            "\n",
            "    accuracy                           0.69   1905727\n",
            "   macro avg       0.71      0.69      0.69   1905727\n",
            "weighted avg       0.71      0.69      0.69   1905727\n",
            "\n"
          ]
        },
        {
          "output_type": "display_data",
          "data": {
            "text/plain": [
              "<Figure size 432x288 with 2 Axes>"
            ],
            "image/png": "[encoded data removed]"
          },
          "metadata": {
            "needs_background": "light"
          }
        }
      ],
      "source": [
        "from sklearn import metrics \n",
        "from sklearn.metrics import classification_report, confusion_matrix\n",
        "matrix = confusion_matrix(test_y,y_prediction)\n",
        "sns.heatmap(matrix, annot=True, fmt=\"d\")\n",
        "plt.title('Confusion Matrix')\n",
        "plt.xlabel('Predicted')\n",
        "plt.ylabel('True')\n",
        "print(classification_report(test_y,y_prediction))"
      ]
    },
    {
      "cell_type": "code",
      "execution_count": null,
      "metadata": {
        "id": "ZlDbcQxdu6rr"
      },
      "outputs": [],
      "source": [
        "# Creating Scaler\n",
        "scaler = StandardScaler()\n",
        "\n",
        "# apply normalization to training set and transform training set\n",
        "X_train_scaled = scaler.fit_transform(train_X, train_y)\n",
        "\n",
        "# transform validation set\n",
        "X_valid_scaled = scaler.transform(test_X)"
      ]
    },
    {
      "cell_type": "code",
      "execution_count": null,
      "metadata": {
        "id": "-swn-899D2Yu"
      },
      "outputs": [],
      "source": [
        "# # function to train a given model, generate predictions, and return accuracy score\n",
        "# from sklearn.metrics import accuracy_score\n",
        "# def fit_evaluate_model(model, X_train, y_train, X_test, Y_test):\n",
        "#     model.fit(X_train, y_train)\n",
        "#     y_predicted = model.predict(X_test)\n",
        "#     return accuracy_score(y_test, y_prediction)"
      ]
    },
    {
      "cell_type": "code",
      "execution_count": null,
      "metadata": {
        "colab": {
          "base_uri": "https://localhost:8080/"
        },
        "id": "OKrYIwRSaAkx",
        "outputId": "3e836321-977a-4104-f398-9946cab4f5fe"
      },
      "outputs": [
        {
          "output_type": "stream",
          "name": "stdout",
          "text": [
            "Knn_accuracy:  0.8174680843583577\n"
          ]
        }
      ],
      "source": [
        "# Knn classifier\n",
        "knn_classifier = KNeighborsClassifier()\n",
        "knn_classifier.fit(X_train_scaled, train_y)\n",
        "y_predicted = knn_classifier.predict(X_valid_scaled)\n",
        "knn_accuracy = accuracy_score(test_y,y_predicted)\n",
        "print('Knn_accuracy: ', knn_accuracy)"
      ]
    },
    {
      "cell_type": "code",
      "execution_count": null,
      "metadata": {
        "colab": {
          "base_uri": "https://localhost:8080/",
          "height": 424
        },
        "id": "5Jbf83XhOcs8",
        "outputId": "e2c05cd8-7906-4bc5-e139-05b4c9806f98"
      },
      "outputs": [
        {
          "output_type": "execute_result",
          "data": {
            "text/plain": [
              "         Actual value(test_y)  Predicted value(y_pred)\n",
              "6265144                     1                        1\n",
              "5024381                     1                        1\n",
              "572881                      0                        0\n",
              "6347968                     1                        1\n",
              "7368129                     1                        1\n",
              "...                       ...                      ...\n",
              "5056666                     1                        1\n",
              "5657575                     1                        1\n",
              "5894450                     1                        1\n",
              "2388083                     0                        0\n",
              "6176207                     1                        1\n",
              "\n",
              "[1905727 rows x 2 columns]"
            ],
            "text/html": [
              "\n",
              "  <div id=\"df-965cea14-de3c-4f22-8a01-6455e39c72eb\">\n",
              "    <div class=\"colab-df-container\">\n",
              "      <div>\n",
              "<style scoped>\n",
              "    .dataframe tbody tr th:only-of-type {\n",
              "        vertical-align: middle;\n",
              "    }\n",
              "\n",
              "    .dataframe tbody tr th {\n",
              "        vertical-align: top;\n",
              "    }\n",
              "\n",
              "    .dataframe thead th {\n",
              "        text-align: right;\n",
              "    }\n",
              "</style>\n",
              "<table border=\"1\" class=\"dataframe\">\n",
              "  <thead>\n",
              "    <tr style=\"text-align: right;\">\n",
              "      <th></th>\n",
              "      <th>Actual value(test_y)</th>\n",
              "      <th>Predicted value(y_pred)</th>\n",
              "    </tr>\n",
              "  </thead>\n",
              "  <tbody>\n",
              "    <tr>\n",
              "      <th>6265144</th>\n",
              "      <td>1</td>\n",
              "      <td>1</td>\n",
              "    </tr>\n",
              "    <tr>\n",
              "      <th>5024381</th>\n",
              "      <td>1</td>\n",
              "      <td>1</td>\n",
              "    </tr>\n",
              "    <tr>\n",
              "      <th>572881</th>\n",
              "      <td>0</td>\n",
              "      <td>0</td>\n",
              "    </tr>\n",
              "    <tr>\n",
              "      <th>6347968</th>\n",
              "      <td>1</td>\n",
              "      <td>1</td>\n",
              "    </tr>\n",
              "    <tr>\n",
              "      <th>7368129</th>\n",
              "      <td>1</td>\n",
              "      <td>1</td>\n",
              "    </tr>\n",
              "    <tr>\n",
              "      <th>...</th>\n",
              "      <td>...</td>\n",
              "      <td>...</td>\n",
              "    </tr>\n",
              "    <tr>\n",
              "      <th>5056666</th>\n",
              "      <td>1</td>\n",
              "      <td>1</td>\n",
              "    </tr>\n",
              "    <tr>\n",
              "      <th>5657575</th>\n",
              "      <td>1</td>\n",
              "      <td>1</td>\n",
              "    </tr>\n",
              "    <tr>\n",
              "      <th>5894450</th>\n",
              "      <td>1</td>\n",
              "      <td>1</td>\n",
              "    </tr>\n",
              "    <tr>\n",
              "      <th>2388083</th>\n",
              "      <td>0</td>\n",
              "      <td>0</td>\n",
              "    </tr>\n",
              "    <tr>\n",
              "      <th>6176207</th>\n",
              "      <td>1</td>\n",
              "      <td>1</td>\n",
              "    </tr>\n",
              "  </tbody>\n",
              "</table>\n",
              "<p>1905727 rows × 2 columns</p>\n",
              "</div>\n",
              "      <button class=\"colab-df-convert\" onclick=\"convertToInteractive('df-965cea14-de3c-4f22-8a01-6455e39c72eb')\"\n",
              "              title=\"Convert this dataframe to an interactive table.\"\n",
              "              style=\"display:none;\">\n",
              "        \n",
              "  <svg xmlns=\"http://www.w3.org/2000/svg\" height=\"24px\"viewBox=\"0 0 24 24\"\n",
              "       width=\"24px\">\n",
              "    <path d=\"M0 0h24v24H0V0z\" fill=\"none\"/>\n",
              "    <path d=\"M18.56 5.44l.94 2.06.94-2.06 2.06-.94-2.06-.94-.94-2.06-.94 2.06-2.06.94zm-11 1L8.5 8.5l.94-2.06 2.06-.94-2.06-.94L8.5 2.5l-.94 2.06-2.06.94zm10 10l.94 2.06.94-2.06 2.06-.94-2.06-.94-.94-2.06-.94 2.06-2.06.94z\"/><path d=\"M17.41 7.96l-1.37-1.37c-.4-.4-.92-.59-1.43-.59-.52 0-1.04.2-1.43.59L10.3 9.45l-7.72 7.72c-.78.78-.78 2.05 0 2.83L4 21.41c.39.39.9.59 1.41.59.51 0 1.02-.2 1.41-.59l7.78-7.78 2.81-2.81c.8-.78.8-2.07 0-2.86zM5.41 20L4 18.59l7.72-7.72 1.47 1.35L5.41 20z\"/>\n",
              "  </svg>\n",
              "      </button>\n",
              "      \n",
              "  <style>\n",
              "    .colab-df-container {\n",
              "      display:flex;\n",
              "      flex-wrap:wrap;\n",
              "      gap: 12px;\n",
              "    }\n",
              "\n",
              "    .colab-df-convert {\n",
              "      background-color: #E8F0FE;\n",
              "      border: none;\n",
              "      border-radius: 50%;\n",
              "      cursor: pointer;\n",
              "      display: none;\n",
              "      fill: #1967D2;\n",
              "      height: 32px;\n",
              "      padding: 0 0 0 0;\n",
              "      width: 32px;\n",
              "    }\n",
              "\n",
              "    .colab-df-convert:hover {\n",
              "      background-color: #E2EBFA;\n",
              "      box-shadow: 0px 1px 2px rgba(60, 64, 67, 0.3), 0px 1px 3px 1px rgba(60, 64, 67, 0.15);\n",
              "      fill: #174EA6;\n",
              "    }\n",
              "\n",
              "    [theme=dark] .colab-df-convert {\n",
              "      background-color: #3B4455;\n",
              "      fill: #D2E3FC;\n",
              "    }\n",
              "\n",
              "    [theme=dark] .colab-df-convert:hover {\n",
              "      background-color: #434B5C;\n",
              "      box-shadow: 0px 1px 3px 1px rgba(0, 0, 0, 0.15);\n",
              "      filter: drop-shadow(0px 1px 2px rgba(0, 0, 0, 0.3));\n",
              "      fill: #FFFFFF;\n",
              "    }\n",
              "  </style>\n",
              "\n",
              "      <script>\n",
              "        const buttonEl =\n",
              "          document.querySelector('#df-965cea14-de3c-4f22-8a01-6455e39c72eb button.colab-df-convert');\n",
              "        buttonEl.style.display =\n",
              "          google.colab.kernel.accessAllowed ? 'block' : 'none';\n",
              "\n",
              "        async function convertToInteractive(key) {\n",
              "          const element = document.querySelector('#df-965cea14-de3c-4f22-8a01-6455e39c72eb');\n",
              "          const dataTable =\n",
              "            await google.colab.kernel.invokeFunction('convertToInteractive',\n",
              "                                                     [key], {});\n",
              "          if (!dataTable) return;\n",
              "\n",
              "          const docLinkHtml = 'Like what you see? Visit the ' +\n",
              "            '<a target=\"_blank\" href=https://colab.research.google.com/notebooks/data_table.ipynb>data table notebook</a>'\n",
              "            + ' to learn more about interactive tables.';\n",
              "          element.innerHTML = '';\n",
              "          dataTable['output_type'] = 'display_data';\n",
              "          await google.colab.output.renderOutput(dataTable, element);\n",
              "          const docLink = document.createElement('div');\n",
              "          docLink.innerHTML = docLinkHtml;\n",
              "          element.appendChild(docLink);\n",
              "        }\n",
              "      </script>\n",
              "    </div>\n",
              "  </div>\n",
              "  "
            ]
          },
          "metadata": {},
          "execution_count": 38
        }
      ],
      "source": [
        "compare_y = pd.DataFrame({'Actual value(test_y)': test_y, 'Predicted value(y_pred)':y_predicted})\n",
        "compare_y"
      ]
    },
    {
      "cell_type": "code",
      "execution_count": null,
      "metadata": {
        "colab": {
          "base_uri": "https://localhost:8080/",
          "height": 459
        },
        "id": "HXgt8jeC-xO9",
        "outputId": "f4ec133b-5ee4-44a7-8d40-77411fd077b4"
      },
      "outputs": [
        {
          "output_type": "stream",
          "name": "stdout",
          "text": [
            "              precision    recall  f1-score   support\n",
            "\n",
            "           0       0.87      0.75      0.80    952760\n",
            "           1       0.78      0.88      0.83    952967\n",
            "\n",
            "    accuracy                           0.82   1905727\n",
            "   macro avg       0.82      0.82      0.82   1905727\n",
            "weighted avg       0.82      0.82      0.82   1905727\n",
            "\n"
          ]
        },
        {
          "output_type": "display_data",
          "data": {
            "text/plain": [
              "<Figure size 432x288 with 2 Axes>"
            ],
            "image/png": "[encoded data removed]"
          },
          "metadata": {
            "needs_background": "light"
          }
        }
      ],
      "source": [
        "# Confusion Matrix forKNN Classifier\n",
        "matrix = confusion_matrix(test_y,y_predicted)\n",
        "sns.heatmap(matrix, annot=True, fmt=\"d\")\n",
        "plt.title('Confusion Matrix')\n",
        "plt.xlabel('Predicted')\n",
        "plt.ylabel('True')\n",
        "print(classification_report(test_y,y_predicted))"
      ]
    },
    {
      "cell_type": "markdown",
      "source": [
        "After applying oversampling and standard scaling methods our accuracy KNN model confusion metrics is 0.82 "
      ],
      "metadata": {
        "id": "pwUYoxjt2lXX"
      }
    },
    {
      "cell_type": "code",
      "execution_count": null,
      "metadata": {
        "colab": {
          "base_uri": "https://localhost:8080/",
          "height": 641
        },
        "id": "ztosGvcGvE5-",
        "outputId": "47f7bea9-eb72-49c0-849f-6df6594fd535"
      },
      "outputs": [
        {
          "output_type": "execute_result",
          "data": {
            "text/plain": [
              "Text(0.5, 1.0, 'Accuracy Score of Different Models')"
            ]
          },
          "metadata": {},
          "execution_count": 40
        },
        {
          "output_type": "display_data",
          "data": {
            "text/plain": [
              "<Figure size 720x720 with 1 Axes>"
            ],
            "image/png": "[encoded data removed]"
          },
          "metadata": {
            "needs_background": "light"
          }
        }
      ],
      "source": [
        "      # create dataframe of accuracy and model and sort values\n",
        "performance_comparison = pd.DataFrame({\"Model\": [\"Decesion Tree\",\"K-Nearest Neighbor\"],\n",
        "                                       \"Accuracy\": [tree_score,knn_accuracy]})\n",
        "\n",
        "performance_comparison = performance_comparison.sort_values(by=\"Accuracy\", ascending=True)\n",
        "\n",
        "# set the plot\n",
        "plt.figure(figsize=(10,10))\n",
        "ax = sns.barplot(x=\"Accuracy\", y=\"Model\", data=performance_comparison, palette=\"Blues_d\",label = \"Accuracy\")\n",
        "\n",
        "# set title arrange labels\n",
        "plt.yticks(size = 8)\n",
        "plt.xticks(size = 10)\n",
        "plt.title(\"Accuracy Score of Different Models\", size=14)"
      ]
    },
    {
      "cell_type": "markdown",
      "metadata": {
        "id": "NgaS7dc_aeTg"
      },
      "source": [
        "## Roc Auc for KNN model"
      ]
    },
    {
      "cell_type": "code",
      "execution_count": null,
      "metadata": {
        "id": "yOAwgjogac43",
        "colab": {
          "base_uri": "https://localhost:8080/",
          "height": 295
        },
        "outputId": "3766a9bf-f2d3-443b-a4d4-10df4329ec32"
      },
      "outputs": [
        {
          "output_type": "display_data",
          "data": {
            "text/plain": [
              "<Figure size 432x288 with 1 Axes>"
            ],
            "image/png": "[encoded data removed]"
          },
          "metadata": {
            "needs_background": "light"
          }
        }
      ],
      "source": [
        "# calculate the fpr and tpr for all thresholds of the classification\n",
        "import sklearn.metrics as metrics\n",
        "probs = knn_classifier.predict_proba(X_valid_scaled)\n",
        "preds = probs[:,1]\n",
        "fpr, tpr, threshold = metrics.roc_curve(test_y, preds)\n",
        "roc_auc = metrics.auc(fpr, tpr)\n",
        "\n",
        "# method I: plt\n",
        "import matplotlib.pyplot as plt\n",
        "plt.title('Receiver Operating Characteristic')\n",
        "plt.plot(fpr, tpr, 'b', label = 'AUC = %0.2f' % roc_auc)\n",
        "plt.legend(loc = 'lower right')\n",
        "plt.plot([0, 1], [0, 1],'r--')\n",
        "plt.xlim([0, 1])\n",
        "plt.ylim([0, 1])\n",
        "plt.ylabel('True Positive Rate')\n",
        "plt.xlabel('False Positive Rate')\n",
        "plt.show()"
      ]
    },
    {
      "cell_type": "markdown",
      "source": [
        "## Step 11. Model Comparison"
      ],
      "metadata": {
        "id": "ai9C8mhDfiw5"
      }
    },
    {
      "cell_type": "code",
      "execution_count": null,
      "metadata": {
        "colab": {
          "base_uri": "https://localhost:8080/",
          "height": 295
        },
        "id": "nEGkyZWbyqU7",
        "outputId": "db968529-cd16-4451-a61e-c5d9886f8f1b"
      },
      "outputs": [
        {
          "output_type": "display_data",
          "data": {
            "text/plain": [
              "<Figure size 432x288 with 1 Axes>"
            ],
            "image/png": "[encoded data removed]"
          },
          "metadata": {
            "needs_background": "light"
          }
        }
      ],
      "source": [
        "from sklearn.ensemble import GradientBoostingClassifier\n",
        "from sklearn import metrics\n",
        "\n",
        "plt.figure()\n",
        "\n",
        "# Adding the models to the list that we want to view on the ROC plot\n",
        "models = [\n",
        "{\n",
        "    'label': 'DecesionTreeClassifier',\n",
        "    'model': DecisionTreeClassifier(),\n",
        "},\n",
        "{\n",
        "    'label': 'Gradient Boosting',\n",
        "    'model': GradientBoostingClassifier(),\n",
        "},\n",
        "{\n",
        "    'label': 'KNeighborsClassifier',\n",
        "    'model': KNeighborsClassifier(),\n",
        "},\n",
        "\n",
        "]\n",
        "\n",
        "# for loop  toiterates through our models\n",
        "for m in models:\n",
        "    model = m['model'] # select the model\n",
        "    model.fit(train_X, train_y) # train the model\n",
        "    y_pred=model.predict(test_X) # predict the test data\n",
        "# Compute False postive rate, and True positive rate\n",
        "    fpr, tpr, thresholds = metrics.roc_curve(test_y, model.predict_proba(test_X)[:,1])\n",
        "# Calculate Area under the curve to display on the plot\n",
        "    auc = metrics.roc_auc_score(test_y,model.predict(test_X))\n",
        "# plotiing the computed values\n",
        "    plt.plot(fpr, tpr, label='%s ROC (area = %0.2f)' % (m['label'], auc))\n",
        "# Custom settings for the plot \n",
        "plt.plot([0, 1], [0, 1],'r--')\n",
        "plt.xlim([0.0, 1.0])\n",
        "plt.ylim([0.0, 1.05])\n",
        "plt.xlabel('1-Specificity(False Positive Rate)')\n",
        "plt.ylabel('Sensitivity(True Positive Rate)')\n",
        "plt.title('Receiver Operating Characteristic ROC')\n",
        "plt.legend(loc=\"lower right\")\n",
        "plt.show()  "
      ]
    },
    {
      "cell_type": "code",
      "source": [
        "At the end we have compared the different model ROC score to compare which perform bettter."
      ],
      "metadata": {
        "id": "n69P2qvV8T1q"
      },
      "execution_count": null,
      "outputs": []
    }
  ],
  "metadata": {
    "colab": {
      "collapsed_sections": [
        "z1oY2tnRuLWM",
        "ZpkDNEs6_NnT"
      ],
      "name": "Data Science-Machine_Learning group_project/Report- KDD CUP.ipynb",
      "provenance": []
    },
    "kernelspec": {
      "display_name": "Python 3",
      "language": "python",
      "name": "python3"
    },
    "language_info": {
      "codemirror_mode": {
        "name": "ipython",
        "version": 3
      },
      "file_extension": ".py",
      "mimetype": "text/x-python",
      "name": "python",
      "nbconvert_exporter": "python",
      "pygments_lexer": "ipython3",
      "version": "3.7.4"
    }
  },
  "nbformat": 4,
  "nbformat_minor": 0
}